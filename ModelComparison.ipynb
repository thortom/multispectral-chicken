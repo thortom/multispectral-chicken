{
 "cells": [
  {
   "cell_type": "code",
   "execution_count": 1,
   "metadata": {},
   "outputs": [
    {
     "name": "stdout",
     "output_type": "stream",
     "text": [
      "TensorFlow version is 2.1.0\n"
     ]
    },
    {
     "name": "stderr",
     "output_type": "stream",
     "text": [
      "Using TensorFlow backend.\n"
     ]
    }
   ],
   "source": [
    "# https://ipython.org/ipython-doc/3/config/extensions/autoreload.html\n",
    "%load_ext autoreload\n",
    "%autoreload 2\n",
    "\n",
    "# Load all packages used\n",
    "import matplotlib.pyplot as plt\n",
    "import numpy as np\n",
    "import mypackage"
   ]
  },
  {
   "cell_type": "code",
   "execution_count": 2,
   "metadata": {},
   "outputs": [],
   "source": [
    "# # Load the dataset\n",
    "# X, Y, info = mypackage.Dataset.load(\"data/tomra\", only_with_contaminant=True)\n",
    "# X_train, X_test, Y_train, Y_test = mypackage.Dataset.train_test_split(X, Y, testRatio=0.3)\n",
    "\n",
    "# X_test, X_train, scaler = mypackage.Dataset.scale(X_test, X_train, scaler='GlobalStandardization')\n",
    "# # X_test, X_train = mypackage.Dataset.PCA(X_test, X_train, n_components=3, plot=True)\n",
    "\n",
    "# print(np.unique(Y_test), Y_test.shape, (X_test.min(), X_test.max()), X_test.shape)"
   ]
  },
  {
   "cell_type": "code",
   "execution_count": 6,
   "metadata": {},
   "outputs": [
    {
     "name": "stdout",
     "output_type": "stream",
     "text": [
      "[1 2] (9, 64, 64, 1) (-10.381372001045007, 1.3996783633303542) (9, 64, 64, 208)\n"
     ]
    }
   ],
   "source": [
    "wavelengths = mypackage.Dataset.TOMRA_WAVELENGTHS\n",
    "\n",
    "# The fake dataset is by default a absorbance dataset\n",
    "fake_data = mypackage.FakeDataset(wavelengths=wavelengths)\n",
    "X, Y = fake_data.get_images(30)\n",
    "\n",
    "X_train, X_test, Y_train, Y_test = mypackage.Dataset.train_test_split(X, Y, testRatio=0.3)\n",
    "X_test, X_train, scaler = mypackage.Dataset.scale(X_test, X_train, scaler='GlobalStandardization')\n",
    "# X_test, X_train = mypackage.Dataset.PCA(X_test, X_train, n_components=30, plot=False)\n",
    "\n",
    "print(np.unique(Y_test), Y_test.shape, (X_test.min(), X_test.max()), X_test.shape)"
   ]
  },
  {
   "cell_type": "markdown",
   "metadata": {},
   "source": [
    "# Test the HybridSN"
   ]
  },
  {
   "cell_type": "code",
   "execution_count": 7,
   "metadata": {
    "scrolled": false
   },
   "outputs": [
    {
     "name": "stdout",
     "output_type": "stream",
     "text": [
      "count, n, m, k = (4, 64, 64, 208)\n",
      "X.shape = (128, 128, 208)\n",
      "X.shape = (128, 128, 208), Y.shape = (128, 128, 1)\n",
      "count, n, m, k = (1, 64, 64, 208)\n",
      "X.shape = (64, 64, 208)\n",
      "X.shape = (64, 64, 208), Y.shape = (64, 64, 1)\n",
      "Model: \"model_1\"\n",
      "_________________________________________________________________\n",
      "Layer (type)                 Output Shape              Param #   \n",
      "=================================================================\n",
      "input_3 (InputLayer)         (None, 25, 25, 208, 1)    0         \n",
      "_________________________________________________________________\n",
      "conv3d_7 (Conv3D)            (None, 23, 23, 68, 8)     512       \n",
      "_________________________________________________________________\n",
      "conv3d_8 (Conv3D)            (None, 21, 21, 22, 16)    5776      \n",
      "_________________________________________________________________\n",
      "conv3d_9 (Conv3D)            (None, 19, 19, 7, 32)     13856     \n",
      "_________________________________________________________________\n",
      "reshape_1 (Reshape)          (None, 19, 19, 224)       0         \n",
      "_________________________________________________________________\n",
      "conv2d_1 (Conv2D)            (None, 17, 17, 64)        129088    \n",
      "_________________________________________________________________\n",
      "flatten_1 (Flatten)          (None, 18496)             0         \n",
      "_________________________________________________________________\n",
      "dense_1 (Dense)              (None, 256)               4735232   \n",
      "_________________________________________________________________\n",
      "dropout_1 (Dropout)          (None, 256)               0         \n",
      "_________________________________________________________________\n",
      "dense_2 (Dense)              (None, 128)               32896     \n",
      "_________________________________________________________________\n",
      "dropout_2 (Dropout)          (None, 128)               0         \n",
      "_________________________________________________________________\n",
      "dense_3 (Dense)              (None, 2)                 258       \n",
      "=================================================================\n",
      "Total params: 4,917,618\n",
      "Trainable params: 4,917,618\n",
      "Non-trainable params: 0\n",
      "_________________________________________________________________\n"
     ]
    }
   ],
   "source": [
    "n_train = 4\n",
    "n_test  = 1\n",
    "model = mypackage.HybridSN(X_train[:n_train], Y_train[:n_train], X_test[:n_test], Y_test[:n_test])\n",
    "model.summary()\n",
    "# model.train()"
   ]
  },
  {
   "cell_type": "code",
   "execution_count": 15,
   "metadata": {},
   "outputs": [
    {
     "name": "stdout",
     "output_type": "stream",
     "text": [
      "12\n",
      "3.0\n"
     ]
    }
   ],
   "source": [
    "n, m = 64, 64\n",
    "margin = int((25 - 1) / 2)\n",
    "print(margin)\n",
    "batch_size = 1000\n",
    "print(np.ceil((n-margin)**2 / batch_size))\n",
    "\n",
    "# selectable_pixels = [(r, c) for r in range(margin, n - margin) for c in range(margin, m - margin)]\n",
    "# selectable_pixels"
   ]
  },
  {
   "cell_type": "code",
   "execution_count": 7,
   "metadata": {},
   "outputs": [
    {
     "data": {
      "text/plain": [
       "((1, 64, 64, 208), (1, 64, 64, 1))"
      ]
     },
     "execution_count": 7,
     "metadata": {},
     "output_type": "execute_result"
    }
   ],
   "source": [
    "X_test[:1].shape, Y_test[:1].shape"
   ]
  },
  {
   "cell_type": "code",
   "execution_count": null,
   "metadata": {},
   "outputs": [],
   "source": [
    "model.predict(X_test[:1], Y_test[:1])"
   ]
  },
  {
   "cell_type": "markdown",
   "metadata": {},
   "source": [
    "# Setup a ensemble SVM classification"
   ]
  },
  {
   "cell_type": "code",
   "execution_count": 6,
   "metadata": {},
   "outputs": [
    {
     "name": "stderr",
     "output_type": "stream",
     "text": [
      "/.local/lib/python3.6/site-packages/sklearn/model_selection/_split.py:296: FutureWarning:\n",
      "\n",
      "Setting a random_state has no effect since shuffle is False. This will raise an error in 0.24. You should leave random_state to its default (None), or set shuffle=True.\n",
      "\n"
     ]
    },
    {
     "name": "stdout",
     "output_type": "stream",
     "text": [
      "0.9949539892341169\n"
     ]
    }
   ],
   "source": [
    "# from sklearn import model_selection\n",
    "# from sklearn.ensemble import GradientBoostingClassifier\n",
    "\n",
    "# train = mypackage.StackTransform(X_train, Y_train)\n",
    "# test = mypackage.StackTransform(X_test)\n",
    "\n",
    "# # svc_classifier = svm.SVC(C=1, kernel='rbf', decision_function_shape='ovr')\n",
    "# # svc_classifier.fit(train.X_stack(), train.Y_stack().ravel())\n",
    "# # Y_hat = svc_classifier.predict(test.X_stack())\n",
    "# # Y_hat = test.Unstack(Y_hat, k=1)\n",
    "\n",
    "# X = train.X_stack()\n",
    "# Y = train.Y_stack().ravel()\n",
    "# seed = 7\n",
    "# num_trees = 100\n",
    "# kfold = model_selection.KFold(n_splits=10, random_state=seed)\n",
    "# model = GradientBoostingClassifier(n_estimators=num_trees, random_state=seed)\n",
    "# results = model_selection.cross_val_score(model, X, Y, cv=kfold)\n",
    "# print(results.mean())\n",
    "\n",
    "# model.fit(train.X_stack(), train.Y_stack().ravel())\n",
    "\n",
    "# # Y_hat = model.predict(test.X_stack())\n",
    "# # Y_hat = test.Unstack(Y_hat, k=1)\n",
    "\n",
    "# import matplotlib.pyplot as plt\n",
    "# plt.figure(figsize=(15, 15))\n",
    "# plt.subplot(1, 2, 1)\n",
    "# plt.title(\"True Classes\")\n",
    "# i = 1\n",
    "# plt.imshow(np.squeeze(Y_test[i]))\n",
    "# plt.axis('off')\n",
    "# plt.subplot(1, 2, 2)\n",
    "# plt.title(\"Logistic Regression Classification\")\n",
    "# plt.imshow(np.squeeze(Y_hat[i]))\n",
    "# plt.axis('off');"
   ]
  },
  {
   "cell_type": "markdown",
   "metadata": {
    "scrolled": false
   },
   "source": [
    "# Testing SVM"
   ]
  },
  {
   "cell_type": "code",
   "execution_count": 4,
   "metadata": {},
   "outputs": [
    {
     "data": {
      "image/png": "[encoded data removed]",
      "text/plain": [
       "<Figure size 1080x1080 with 2 Axes>"
      ]
     },
     "metadata": {
      "needs_background": "light"
     },
     "output_type": "display_data"
    }
   ],
   "source": [
    "from sklearn import svm\n",
    "\n",
    "train = mypackage.StackTransform(X_train, Y_train)\n",
    "test = mypackage.StackTransform(X_test)\n",
    "\n",
    "svc_classifier = svm.SVC(C=1, kernel='rbf', decision_function_shape='ovr')\n",
    "svc_classifier.fit(train.X_stack(), train.Y_stack().ravel())\n",
    "Y_hat = svc_classifier.predict(test.X_stack())\n",
    "Y_hat = test.Unstack(Y_hat, k=1)\n",
    "\n",
    "import matplotlib.pyplot as plt\n",
    "plt.figure(figsize=(15, 15))\n",
    "plt.subplot(1, 2, 1)\n",
    "plt.title(\"True Classes\")\n",
    "plt.imshow(np.squeeze(Y_test[0]))\n",
    "plt.axis('off')\n",
    "plt.subplot(1, 2, 2)\n",
    "plt.title(\"Logistic Regression Classification\")\n",
    "plt.imshow(np.squeeze(Y_hat[0]))\n",
    "plt.axis('off');"
   ]
  },
  {
   "cell_type": "markdown",
   "metadata": {},
   "source": [
    "# Testing Logistic Regression"
   ]
  },
  {
   "cell_type": "code",
   "execution_count": 5,
   "metadata": {},
   "outputs": [
    {
     "name": "stdout",
     "output_type": "stream",
     "text": [
      "0.49021545217510637\n",
      "For all test data the weighted accuracy_score with weights=[ 0  1 20] gives the score of: 0.4902\n",
      "F1_score = 0.9794\n",
      "Precision_score = 0.9794\n",
      "Recall_score = 0.9794\n"
     ]
    },
    {
     "data": {
      "image/png": "[encoded data removed]",
      "text/plain": [
       "<Figure size 1080x1080 with 2 Axes>"
      ]
     },
     "metadata": {
      "needs_background": "light"
     },
     "output_type": "display_data"
    },
    {
     "name": "stdout",
     "output_type": "stream",
     "text": [
      "Weighted accuracy_score with weights=[ 0  1 20] gives the score of: 0.6511\n"
     ]
    },
    {
     "data": {
      "image/png": "[encoded data removed]",
      "text/plain": [
       "<Figure size 1080x1080 with 2 Axes>"
      ]
     },
     "metadata": {
      "needs_background": "light"
     },
     "output_type": "display_data"
    },
    {
     "name": "stdout",
     "output_type": "stream",
     "text": [
      "Weighted accuracy_score with weights=[ 0  1 20] gives the score of: 0.8659\n"
     ]
    },
    {
     "data": {
      "image/png": "[encoded data removed]",
      "text/plain": [
       "<Figure size 1080x1080 with 2 Axes>"
      ]
     },
     "metadata": {
      "needs_background": "light"
     },
     "output_type": "display_data"
    },
    {
     "name": "stdout",
     "output_type": "stream",
     "text": [
      "Weighted accuracy_score with weights=[ 0  1 20] gives the score of: 0.5332\n"
     ]
    },
    {
     "data": {
      "image/png": "[encoded data removed]",
      "text/plain": [
       "<Figure size 1080x1080 with 2 Axes>"
      ]
     },
     "metadata": {
      "needs_background": "light"
     },
     "output_type": "display_data"
    },
    {
     "name": "stdout",
     "output_type": "stream",
     "text": [
      "Weighted accuracy_score with weights=[ 0  1 20] gives the score of: 0.3502\n"
     ]
    },
    {
     "data": {
      "image/png": "[encoded data removed]",
      "text/plain": [
       "<Figure size 1080x1080 with 2 Axes>"
      ]
     },
     "metadata": {
      "needs_background": "light"
     },
     "output_type": "display_data"
    },
    {
     "name": "stdout",
     "output_type": "stream",
     "text": [
      "Weighted accuracy_score with weights=[ 0  1 20] gives the score of: 0.3978\n"
     ]
    },
    {
     "data": {
      "image/png": "[encoded data removed]",
      "text/plain": [
       "<Figure size 1080x1080 with 2 Axes>"
      ]
     },
     "metadata": {
      "needs_background": "light"
     },
     "output_type": "display_data"
    },
    {
     "name": "stdout",
     "output_type": "stream",
     "text": [
      "Weighted accuracy_score with weights=[ 0  1 20] gives the score of: 0.5119\n"
     ]
    },
    {
     "data": {
      "image/png": "[encoded data removed]",
      "text/plain": [
       "<Figure size 1080x1080 with 2 Axes>"
      ]
     },
     "metadata": {
      "needs_background": "light"
     },
     "output_type": "display_data"
    },
    {
     "name": "stdout",
     "output_type": "stream",
     "text": [
      "Weighted accuracy_score with weights=[ 0  1 20] gives the score of: 0.6733\n"
     ]
    },
    {
     "data": {
      "image/png": "[encoded data removed]",
      "text/plain": [
       "<Figure size 1080x1080 with 2 Axes>"
      ]
     },
     "metadata": {
      "needs_background": "light"
     },
     "output_type": "display_data"
    },
    {
     "name": "stdout",
     "output_type": "stream",
     "text": [
      "Weighted accuracy_score with weights=[ 0  1 20] gives the score of: 0.2651\n"
     ]
    }
   ],
   "source": [
    "log_reg = mypackage.logistic_regression(X_train, Y_train, X_test, Y_test, C=1e5)"
   ]
  },
  {
   "cell_type": "code",
   "execution_count": 8,
   "metadata": {},
   "outputs": [],
   "source": [
    "from sklearn import preprocessing\n",
    "\n",
    "X, Y, info, X_rest = mypackage.Dataset.load(\"data/tomra\", only_with_contaminant=True, load_rest=True)\n",
    "X_rest, X = mypackage.Dataset.scale(X_rest, X, scale='RemoveTrend')\n",
    "trans = mypackage.StackTransform(X, Y)\n",
    "trans_rest = mypackage.StackTransform(X_rest)\n",
    "\n",
    "# Scaling\n",
    "scaler = preprocessing.StandardScaler()\n",
    "scaler.fit(trans.X_stack())\n",
    "X_scaled = scaler.transform(trans.X_stack())\n",
    "X_scaled = trans.Unstack(X_scaled)\n",
    "\n",
    "log_reg = mypackage.logistic_regression(X_scaled, Y, X_rest, None, C=1e5, plot=False, metrics=False, max_iter=10000)"
   ]
  },
  {
   "cell_type": "code",
   "execution_count": 50,
   "metadata": {
    "scrolled": false
   },
   "outputs": [],
   "source": [
    "# Plot the classification of the rest\n",
    "# file_list = ['20200213_115743_FM_fillet_repeat_sample_B_26', '20200213_114942_skinside_sample_B_22', '20200213_120225_FM_fillet_repeat_sample_B_35', '20200213_121453_new_FM_fillet_sample_C_32', '20200213_121213_new_FM_fillet_sample_C_27', '20200213_114630_fillet_sample48', '20200213_115538_FM_fillet_repeat_sample_B_21', '20200213_113731_fillet_sample29', '20200213_115916_FM_fillet_repeat_sample_B_29', '20200213_113311_fillet_sample20', '20200213_114007_fillet_sample34', '20200213_114322_fillet_sample40', '20200213_115706_FM_fillet_repeat_sample_B_25', '20200213_114523_fillet_sample45', '20200213_115030_skinside_sample_B_24', '20200213_114347_fillet_sample41', '20200213_115939_FM_fillet_repeat_sample_B_30', '20200213_120912_new_FM_fillet_sample_C_22', '20200213_113854_fillet_sample31', '20200213_114502_fillet_sample44', '20200213_121438_new_FM_fillet_sample_C_31', '20200213_113949_fillet_sample33', '20200213_120821_new_FM_fillet_sample_C_20', '20200213_120956_new_FM_fillet_sample_C_23', '20200213_121142_new_FM_fillet_sample_C_26', '20200213_113459_fillet_sample22', '20200213_114414_fillet_sample42', '20200213_113632_fillet_sample25', '20200213_121354_new_FM_fillet_sample_C_29', '20200213_114648_fillet_sample49', '20200213_115955_FM_fillet_repeat_sample_B_31', '20200213_121023_new_FM_fillet_sample_C_24', '20200213_115559_FM_fillet_repeat_sample_B_22', '20200213_114857_skinside_sample_B_20', '20200213_115118_skinside_sample_B_26', '20200213_120849_new_FM_fillet_sample_C_21', '20200213_113428_fillet_sample21', '20200213_115648_FM_fillet_repeat_sample_B_24', '20200213_113531_fillet_sample23', '20200213_114025_fillet_sample35', '20200213_115808_FM_fillet_repeat_sample_B_27', '20200213_113617_fillet_sample24', '20200213_114052_fillet_sample36', '20200213_115055_skinside_sample_B_25', '20200213_114552_fillet_sample46', '20200213_113705_fillet_sample27', '20200213_115449_FM_fillet_repeat_sample_B_20', '20200213_113719_fillet_sample28', '20200213_115625_FM_fillet_repeat_sample_B_23', '20200213_113826_fillet_sample30', '20200213_115201_skinside_sample_B_27', '20200213_121045_new_FM_fillet_sample_C_25', '20200213_120111_FM_fillet_repeat_sample_B_33', '20200213_114807_fillet_sample50', '20200213_113646_fillet_sample26', '20200213_114922_skinside_sample_B_21', '20200213_121417_new_FM_fillet_sample_C_30', '20200213_113925_fillet_sample32', '20200213_121237_new_FM_fillet_sample_C_28', '20200213_114437_fillet_sample43', '20200213_120158_FM_fillet_repeat_sample_B_34']\n",
    "# for i, file_name in enumerate(file_list):\n",
    "#     rest = mypackage.StackTransform(X_rest[i:i+1])\n",
    "#     X_stacked = rest.X_stack()\n",
    "#     Y_hat_stacked = log_reg.predict(X_stacked)\n",
    "#     Y_hat = rest.Unstack(Y_hat_stacked, k=1)\n",
    "\n",
    "#     plt.figure(figsize=(10, 5))\n",
    "#     plt.title(file_name)\n",
    "#     plt.imshow(np.squeeze(Y_hat))\n",
    "#     plt.imsave(file_name+'.png', np.squeeze(Y_hat))\n",
    "#     plt.show()"
   ]
  },
  {
   "cell_type": "markdown",
   "metadata": {},
   "source": [
    "# Test Partial Least Squares - Discriminant Analysis (PLS-DA)"
   ]
  },
  {
   "cell_type": "code",
   "execution_count": null,
   "metadata": {},
   "outputs": [],
   "source": []
  },
  {
   "cell_type": "markdown",
   "metadata": {},
   "source": [
    "# Evaluate the results\n",
    "### With precision / recall or something"
   ]
  }
 ],
 "metadata": {
  "file_extension": ".py",
  "kernelspec": {
   "display_name": "Python 3",
   "language": "python",
   "name": "python3"
  },
  "language_info": {
   "codemirror_mode": {
    "name": "ipython",
    "version": 3
   },
   "file_extension": ".py",
   "mimetype": "text/x-python",
   "name": "python",
   "nbconvert_exporter": "python",
   "pygments_lexer": "ipython3",
   "version": "3.6.9"
  },
  "mimetype": "text/x-python",
  "name": "python",
  "npconvert_exporter": "python",
  "pygments_lexer": "ipython3",
  "version": 3
 },
 "nbformat": 4,
 "nbformat_minor": 2
}
