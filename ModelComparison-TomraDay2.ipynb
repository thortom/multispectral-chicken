{
 "cells": [
  {
   "cell_type": "code",
   "execution_count": 1,
   "metadata": {},
   "outputs": [
    {
     "name": "stdout",
     "output_type": "stream",
     "text": [
      "TensorFlow version is 2.1.0\n"
     ]
    },
    {
     "name": "stderr",
     "output_type": "stream",
     "text": [
      "Using TensorFlow backend.\n"
     ]
    }
   ],
   "source": [
    "# https://ipython.org/ipython-doc/3/config/extensions/autoreload.html\n",
    "%load_ext autoreload\n",
    "%autoreload 2\n",
    "\n",
    "# Static inline plots\n",
    "%matplotlib inline\n",
    "\n",
    "# Interactive plots\n",
    "# %matplotlib notebook\n",
    "\n",
    "# import os   # Test this from: https://stackoverflow.com/questions/39649102/how-do-i-select-which-gpu-to-run-a-job-on\n",
    "# os.environ[\"CUDA_DEVICE_ORDER\"] = \"PCI_BUS_ID\"\n",
    "# os.environ[\"CUDA_VISIBLE_DEVICES\"] = \"0\"\n",
    "\n",
    "# Load all packages used\n",
    "import matplotlib.pyplot as plt\n",
    "import numpy as np\n",
    "import mypackage\n",
    "import joblib\n",
    "\n",
    "timer = mypackage.utils.Timer()"
   ]
  },
  {
   "cell_type": "code",
   "execution_count": 2,
   "metadata": {},
   "outputs": [
    {
     "name": "stdout",
     "output_type": "stream",
     "text": [
      "[0. 1. 2.] (141, 32, 32, 1) (-4.3291249744463025, 8.864419894802225) (141, 32, 32, 208) (328, 32, 32, 208)\n",
      "(array([0., 1., 2.]), array([ 92600, 211543,  31729]))\n",
      "(array([0., 1., 2.]), array([32410, 98030, 13944]))\n"
     ]
    }
   ],
   "source": [
    "# First load the labeled data and train on it\n",
    "X, Y, info = mypackage.Dataset.load(\"data/tomra_day2\", only_with_contaminant=True)\n",
    "\n",
    "# Need extra padding for the HybridSN classification\n",
    "window_size = 25\n",
    "margin = int((window_size - 1) / 2)\n",
    "padding = margin * 2\n",
    "size = 32 + padding\n",
    "\n",
    "enlarged_X, enlarged_Y = mypackage.Dataset.make_zoomed_in_dataset(X, Y, size=size, sample_multiplication=7, contaminant_type=2)\n",
    "X_train, X_test, Y_train, Y_test = mypackage.Dataset.train_test_split(enlarged_X, enlarged_Y, testRatio=0.3)\n",
    "X_test, X_train, scaler = mypackage.Dataset.scale(X_test, X_train, scaler='GlobalStandardization')\n",
    "\n",
    "# save the scaler to disk\n",
    "filename = 'latest_scaler_used.sav'\n",
    "joblib.dump(scaler, filename)\n",
    "# # load the scaler from disk\n",
    "# scaler = joblib.load(filename)\n",
    "\n",
    "X_train_HS, X_test_HS, Y_train_HS, Y_test_HS = X_train, X_test, Y_train, Y_test\n",
    "X_train, X_test, Y_train, Y_test             = X_train[:, margin:-margin, margin:-margin], X_test[:, margin:-margin, margin:-margin], Y_train[:, margin:-margin, margin:-margin], Y_test[:, margin:-margin, margin:-margin]\n",
    "\n",
    "print(np.unique(Y_test), Y_test.shape, (X_test.min(), X_test.max()), X_test.shape, X_train.shape)\n",
    "print(np.unique(Y_train, return_counts=True))\n",
    "print(np.unique(Y_test, return_counts=True))\n",
    "# print(np.unique(Y_train_HS, return_counts=True))\n",
    "# print(np.unique(Y_test_HS, return_counts=True))"
   ]
  },
  {
   "cell_type": "code",
   "execution_count": 3,
   "metadata": {},
   "outputs": [],
   "source": [
    "# Plot the difference between the HybridSN training data and the rest\n",
    "# for i in range(len(Y_train)):\n",
    "#     plt.figure()\n",
    "#     plt.subplot(121)\n",
    "#     plt.imshow(np.squeeze(Y_train_HS[i]))\n",
    "#     plt.subplot(122)\n",
    "#     plt.imshow(np.squeeze(Y_train[i]))\n"
   ]
  },
  {
   "cell_type": "code",
   "execution_count": 4,
   "metadata": {},
   "outputs": [],
   "source": [
    "# # Need extra padding for the HybridSN classification\n",
    "# window_size = 25\n",
    "# margin = int((window_size - 1) / 2)\n",
    "# padding = margin * 2\n",
    "\n",
    "# enlarged_X_HS, enlarged_Y_HS = mypackage.Dataset.make_zoomed_in_dataset(X, Y, size=size+padding, sample_multiplication=multipli, contaminant_type=2)\n",
    "# X_train_HS, X_test_HS, Y_train_HS, Y_test_HS = mypackage.Dataset.train_test_split(enlarged_X_HS, enlarged_Y_HS, testRatio=0.3)\n",
    "# X_test_HS, X_train_HS, _ = mypackage.Dataset.scale(X_test_HS, X_train_HS, scaler=scaler)\n",
    "\n",
    "# np.unique(Y_train_HS[:, margin:-margin, margin:-margin], return_counts=True), np.unique(Y_test_HS[:, margin:-margin, margin:-margin], return_counts=True)"
   ]
  },
  {
   "cell_type": "markdown",
   "metadata": {},
   "source": [
    "# Test HybridSN"
   ]
  },
  {
   "cell_type": "code",
   "execution_count": null,
   "metadata": {
    "scrolled": false
   },
   "outputs": [
    {
     "name": "stdout",
     "output_type": "stream",
     "text": [
      "Model: \"model_1\"\n",
      "_________________________________________________________________\n",
      "Layer (type)                 Output Shape              Param #   \n",
      "=================================================================\n",
      "input_1 (InputLayer)         (None, 25, 25, 208, 1)    0         \n",
      "_________________________________________________________________\n",
      "conv3d_1 (Conv3D)            (None, 23, 23, 68, 8)     512       \n",
      "_________________________________________________________________\n",
      "conv3d_2 (Conv3D)            (None, 21, 21, 22, 16)    5776      \n",
      "_________________________________________________________________\n",
      "conv3d_3 (Conv3D)            (None, 19, 19, 7, 32)     13856     \n",
      "_________________________________________________________________\n",
      "reshape_1 (Reshape)          (None, 19, 19, 224)       0         \n",
      "_________________________________________________________________\n",
      "conv2d_1 (Conv2D)            (None, 17, 17, 64)        129088    \n",
      "_________________________________________________________________\n",
      "flatten_1 (Flatten)          (None, 18496)             0         \n",
      "_________________________________________________________________\n",
      "dense_1 (Dense)              (None, 256)               4735232   \n",
      "_________________________________________________________________\n",
      "dropout_1 (Dropout)          (None, 256)               0         \n",
      "_________________________________________________________________\n",
      "dense_2 (Dense)              (None, 128)               32896     \n",
      "_________________________________________________________________\n",
      "dropout_2 (Dropout)          (None, 128)               0         \n",
      "_________________________________________________________________\n",
      "dense_3 (Dense)              (None, 3)                 387       \n",
      "=================================================================\n",
      "Total params: 4,917,747\n",
      "Trainable params: 4,917,747\n",
      "Non-trainable params: 0\n",
      "_________________________________________________________________\n",
      "Epoch 1/5\n",
      "New order\n",
      "[72, 264, 17, 39, 199, 112, 270, 40, 259, 184, 285, 34, 215, 200, 85, 198, 71, 164, 187, 173, 151, 327, 319, 310, 311, 114, 33, 316, 27, 25, 12, 122, 3, 89, 176, 102, 201, 123, 59, 1, 105, 26, 223, 262, 212, 274, 141, 78, 242, 230, 268, 41, 100, 300, 80, 35, 255, 36, 248, 99, 263, 118, 305, 297, 160, 267, 121, 49, 306, 185, 82, 79, 113, 68, 174, 214, 138, 91, 208, 322, 292, 279, 178, 258, 23, 271, 76, 103, 9, 38, 130, 195, 64, 194, 93, 24, 66, 117, 294, 317, 53, 58, 128, 246, 136, 273, 31, 131, 307, 236, 227, 158, 135, 278, 261, 237, 62, 74, 129, 224, 222, 98, 46, 37, 225, 149, 171, 43, 52, 70, 154, 67, 95, 210, 179, 296, 309, 111, 288, 186, 293, 172, 16, 153, 4, 197, 175, 205, 18, 127, 276, 83, 21, 147, 155, 19, 116, 229, 54, 162, 321, 298, 132, 101, 320, 290, 65, 144, 139, 252, 181, 10, 287, 106, 157, 48, 275, 152, 303, 191, 115, 182, 304, 47, 20, 324, 0, 265, 109, 32, 110, 146, 325, 104, 150, 44, 253, 313, 209, 29, 312, 250, 247, 125, 188, 92, 57, 289, 28, 94, 238, 2, 51, 226, 283, 260, 301, 170, 168, 251, 314, 165, 161, 6, 137, 119, 221, 286, 56, 211, 202, 30, 159, 240, 11, 84, 75, 323, 108, 213, 90, 7, 206, 228, 231, 86, 73, 243, 143, 166, 180, 232, 140, 5, 302, 249, 218, 207, 156, 254, 87, 63, 193, 318, 88, 142, 96, 97, 204, 167, 326, 120, 299, 245, 177, 216, 281, 190, 217, 189, 233, 42, 169, 134, 308, 315, 196, 126, 77, 241, 50, 291, 133, 15, 163, 256, 234, 124, 183, 55, 269, 13, 239, 284, 220, 282, 295, 69, 61, 8, 272, 145, 81, 22, 107, 257, 203, 244, 60, 266, 14, 192, 148, 277, 235, 45, 280, 219]\n",
      "New order\n",
      "[87, 102, 27, 7, 35, 75, 112, 0, 31, 43, 134, 44, 83, 67, 106, 120, 121, 41, 128, 56, 48, 89, 59, 50, 100, 29, 97, 78, 133, 138, 109, 137, 76, 94, 86, 98, 130, 8, 25, 136, 18, 77, 46, 123, 108, 65, 2, 117, 10, 101, 51, 64, 15, 107, 135, 12, 40, 49, 90, 53, 132, 47, 54, 6, 32, 119, 58, 26, 140, 16, 22, 139, 80, 103, 81, 34, 127, 11, 85, 88, 14, 129, 62, 55, 68, 57, 42, 13, 113, 125, 36, 71, 96, 92, 1, 63, 110, 91, 60, 28, 73, 52, 131, 115, 23, 82, 84, 9, 93, 126, 5, 114, 21, 17, 69, 72, 38, 39, 79, 24, 37, 33, 118, 124, 45, 70, 122, 20, 3, 66, 104, 99, 105, 4, 95, 30, 19, 111, 74, 116, 61]\n",
      "X: (1024, 25, 25, 208, 1)X: (1024, 25, 25, 208, 1)\n",
      "\n",
      "X: (1024, 25, 25, 208, 1)\n",
      "X: (1024, 25, 25, 208, 1)\n",
      "X: (1024, 25, 25, 208, 1)\n"
     ]
    }
   ],
   "source": [
    "n_train = 16 # if 16 then 30min per epoch\n",
    "n_test  = 4\n",
    "model = mypackage.HybridSN(X_train_HS, Y_train_HS, X_test_HS, Y_test_HS)\n",
    "model.summary()\n",
    "\n",
    "timer.start()\n",
    "model.train(epochs=5)\n",
    "timer.stop()\n",
    "\n",
    "model.plot_training_results()\n",
    "model.predict(X_train_HS, Y_train_HS)\n",
    "timer.start()\n",
    "model.predict(X_test_HS, Y_test_HS)\n",
    "timer.stop()"
   ]
  },
  {
   "cell_type": "markdown",
   "metadata": {
    "scrolled": false
   },
   "source": [
    "# Testing SVM"
   ]
  },
  {
   "cell_type": "code",
   "execution_count": null,
   "metadata": {},
   "outputs": [],
   "source": [
    "# Started the training at ~16:30\n",
    "# Finished training at ~17:00"
   ]
  },
  {
   "cell_type": "code",
   "execution_count": 3,
   "metadata": {},
   "outputs": [
    {
     "name": "stdout",
     "output_type": "stream",
     "text": [
      "Start training\n",
      "Elapsed time: 4931.5477 seconds\n",
      "Training data prediction\n",
      "              precision    recall  f1-score   support\n",
      "\n",
      "         0.0       0.98      0.96      0.97     92600\n",
      "         1.0       0.94      0.99      0.96    211543\n",
      "         2.0       0.94      0.68      0.79     31729\n",
      "\n",
      "    accuracy                           0.95    335872\n",
      "   macro avg       0.95      0.87      0.90    335872\n",
      "weighted avg       0.95      0.95      0.95    335872\n",
      "\n",
      "Test data prediction\n",
      "Elapsed time: 1783.6231 seconds\n",
      "              precision    recall  f1-score   support\n",
      "\n",
      "         0.0       0.97      0.95      0.96     32410\n",
      "         1.0       0.94      0.99      0.96     98030\n",
      "         2.0       0.94      0.69      0.80     13944\n",
      "\n",
      "    accuracy                           0.95    144384\n",
      "   macro avg       0.95      0.88      0.91    144384\n",
      "weighted avg       0.95      0.95      0.95    144384\n",
      "\n"
     ]
    },
    {
     "data": {
      "image/png": "[encoded data removed]",
      "text/plain": [
       "<Figure size 648x360 with 2 Axes>"
      ]
     },
     "metadata": {
      "needs_background": "light"
     },
     "output_type": "display_data"
    }
   ],
   "source": [
    "from sklearn import svm\n",
    "from sklearn.metrics import classification_report\n",
    "\n",
    "train = mypackage.StackTransform(X_train, Y_train)\n",
    "test = mypackage.StackTransform(X_test, Y_test)\n",
    "\n",
    "svc_classifier = svm.SVC(C=1, kernel='rbf', decision_function_shape='ovr')\n",
    "print(\"Start training\")\n",
    "timer.start()\n",
    "svc_classifier.fit(train.X_stack(), train.Y_stack().ravel())\n",
    "timer.stop()\n",
    "\n",
    "# save the model to disk\n",
    "filename = 'latest_svm_model.sav'\n",
    "joblib.dump(svc_classifier, filename)\n",
    "\n",
    "# # load the model from disk\n",
    "# svc_classifier = joblib.load(filename)\n",
    "Y_hat = svc_classifier.predict(train.X_stack())\n",
    "classification = classification_report(train.Y_stack(), Y_hat) # .flatten()\n",
    "print(\"Training data prediction\")\n",
    "print(classification)\n",
    "print(\"Test data prediction\")\n",
    "timer.start()\n",
    "Y_hat = svc_classifier.predict(test.X_stack())\n",
    "timer.stop()\n",
    "classification = classification_report(test.Y_stack(), Y_hat) # .flatten()\n",
    "print(classification)\n",
    "\n",
    "Y_hat = test.Unstack(Y_hat, k=1)\n",
    "\n",
    "import matplotlib.pyplot as plt\n",
    "plt.figure(figsize=(9, 5))\n",
    "plt.subplot(1, 2, 1)\n",
    "plt.title(\"True Classes\")\n",
    "plt.imshow(np.squeeze(Y_test[0]))\n",
    "plt.axis('off')\n",
    "plt.subplot(1, 2, 2)\n",
    "plt.title(\"SVM Classification\")\n",
    "plt.imshow(np.squeeze(Y_hat[0]))\n",
    "plt.axis('off');"
   ]
  },
  {
   "cell_type": "markdown",
   "metadata": {},
   "source": [
    "# Testing Logistic Regression"
   ]
  },
  {
   "cell_type": "code",
   "execution_count": 4,
   "metadata": {
    "scrolled": true
   },
   "outputs": [
    {
     "name": "stdout",
     "output_type": "stream",
     "text": [
      "Start training\n",
      "Elapsed time: 36.4686 seconds\n",
      "Training data prediction\n",
      "              precision    recall  f1-score   support\n",
      "\n",
      "         0.0       1.00      1.00      1.00      1108\n",
      "         1.0       1.00      1.00      1.00      3719\n",
      "         2.0       1.00      1.00      1.00       293\n",
      "\n",
      "    accuracy                           1.00      5120\n",
      "   macro avg       1.00      1.00      1.00      5120\n",
      "weighted avg       1.00      1.00      1.00      5120\n",
      "\n",
      "Test data prediction\n",
      "Elapsed time: 0.0044 seconds\n",
      "              precision    recall  f1-score   support\n",
      "\n",
      "         0.0       0.94      0.86      0.90       734\n",
      "         1.0       0.93      0.98      0.96      3855\n",
      "         2.0       0.86      0.61      0.71       531\n",
      "\n",
      "    accuracy                           0.93      5120\n",
      "   macro avg       0.91      0.82      0.86      5120\n",
      "weighted avg       0.93      0.93      0.92      5120\n",
      "\n"
     ]
    },
    {
     "data": {
      "image/png": "[encoded data removed]",
      "text/plain": [
       "<Figure size 648x360 with 2 Axes>"
      ]
     },
     "metadata": {
      "needs_background": "light"
     },
     "output_type": "display_data"
    }
   ],
   "source": [
    "from sklearn.linear_model import LogisticRegression\n",
    "from sklearn.metrics import classification_report\n",
    "\n",
    "train = mypackage.StackTransform(X_train[:5], Y_train[:5])\n",
    "test = mypackage.StackTransform(X_test[:5], Y_test[:5])\n",
    "\n",
    "logreg = LogisticRegression(C=1e5, max_iter=50000)\n",
    "print(\"Start training\")\n",
    "timer.start()\n",
    "logreg.fit(train.X_stack(), train.Y_stack().ravel())\n",
    "timer.stop()\n",
    "\n",
    "# save the model to disk\n",
    "filename = 'latest_LogisticReg_model.sav'\n",
    "joblib.dump(logreg, filename)\n",
    "\n",
    "# # load the model from disk\n",
    "# logreg = joblib.load(filename)\n",
    "Y_hat = logreg.predict(train.X_stack())\n",
    "classification = classification_report(train.Y_stack(), Y_hat) # .flatten()\n",
    "print(\"Training data prediction\")\n",
    "print(classification)\n",
    "print(\"Test data prediction\")\n",
    "timer.start()\n",
    "Y_hat = logreg.predict(test.X_stack())\n",
    "timer.stop()\n",
    "classification = classification_report(test.Y_stack(), Y_hat) # .flatten()\n",
    "print(classification)\n",
    "\n",
    "Y_hat = test.Unstack(Y_hat, k=1)\n",
    "\n",
    "import matplotlib.pyplot as plt\n",
    "plt.figure(figsize=(9, 5))\n",
    "plt.subplot(1, 2, 1)\n",
    "plt.title(\"True Classes\")\n",
    "plt.imshow(np.squeeze(Y_test[0]))\n",
    "plt.axis('off')\n",
    "plt.subplot(1, 2, 2)\n",
    "plt.title(\"Logistic Regression Classification\")\n",
    "plt.imshow(np.squeeze(Y_hat[0]))\n",
    "plt.axis('off');"
   ]
  },
  {
   "cell_type": "markdown",
   "metadata": {},
   "source": [
    "### Test MyUNet on the same data"
   ]
  },
  {
   "cell_type": "code",
   "execution_count": 5,
   "metadata": {},
   "outputs": [
    {
     "name": "stdout",
     "output_type": "stream",
     "text": [
      "Start training\n",
      "X_input (328, 32, 32, 208, 1), Y_input (328, 32, 32, 3)\n",
      "Train on 295 samples, validate on 33 samples\n",
      "Epoch 1/60\n",
      "290/295 [============================>.] - ETA: 0s - loss: 0.6947 - accuracy: 0.8189\n",
      "Epoch 00001: val_loss improved from inf to 0.81367, saving model to best-model.hdf5\n",
      "295/295 [==============================] - 17s 59ms/sample - loss: 0.6912 - accuracy: 0.8204 - val_loss: 0.8137 - val_accuracy: 0.8721\n",
      "Epoch 2/60\n",
      "290/295 [============================>.] - ETA: 0s - loss: 0.4275 - accuracy: 0.9093\n",
      "Epoch 00002: val_loss improved from 0.81367 to 0.72828, saving model to best-model.hdf5\n",
      "295/295 [==============================] - 15s 52ms/sample - loss: 0.4254 - accuracy: 0.9096 - val_loss: 0.7283 - val_accuracy: 0.7931\n",
      "Epoch 3/60\n",
      "290/295 [============================>.] - ETA: 0s - loss: 0.3045 - accuracy: 0.9275\n",
      "Epoch 00003: val_loss improved from 0.72828 to 0.57616, saving model to best-model.hdf5\n",
      "295/295 [==============================] - 15s 52ms/sample - loss: 0.3045 - accuracy: 0.9270 - val_loss: 0.5762 - val_accuracy: 0.8321\n",
      "Epoch 4/60\n",
      "290/295 [============================>.] - ETA: 0s - loss: 0.2468 - accuracy: 0.9337\n",
      "Epoch 00004: val_loss improved from 0.57616 to 0.37771, saving model to best-model.hdf5\n",
      "295/295 [==============================] - 15s 52ms/sample - loss: 0.2468 - accuracy: 0.9334 - val_loss: 0.3777 - val_accuracy: 0.8871\n",
      "Epoch 5/60\n",
      "290/295 [============================>.] - ETA: 0s - loss: 0.2310 - accuracy: 0.9355\n",
      "Epoch 00005: val_loss improved from 0.37771 to 0.26771, saving model to best-model.hdf5\n",
      "295/295 [==============================] - 15s 52ms/sample - loss: 0.2306 - accuracy: 0.9355 - val_loss: 0.2677 - val_accuracy: 0.9236\n",
      "Epoch 6/60\n",
      "290/295 [============================>.] - ETA: 0s - loss: 0.2024 - accuracy: 0.9431\n",
      "Epoch 00006: val_loss improved from 0.26771 to 0.25455, saving model to best-model.hdf5\n",
      "295/295 [==============================] - 15s 52ms/sample - loss: 0.2016 - accuracy: 0.9432 - val_loss: 0.2546 - val_accuracy: 0.9221\n",
      "Epoch 7/60\n",
      "290/295 [============================>.] - ETA: 0s - loss: 0.1818 - accuracy: 0.9450\n",
      "Epoch 00007: val_loss improved from 0.25455 to 0.21484, saving model to best-model.hdf5\n",
      "295/295 [==============================] - 15s 52ms/sample - loss: 0.1811 - accuracy: 0.9453 - val_loss: 0.2148 - val_accuracy: 0.9297\n",
      "Epoch 8/60\n",
      "290/295 [============================>.] - ETA: 0s - loss: 0.1617 - accuracy: 0.9490\n",
      "Epoch 00008: val_loss did not improve from 0.21484\n",
      "295/295 [==============================] - 15s 52ms/sample - loss: 0.1622 - accuracy: 0.9488 - val_loss: 0.2535 - val_accuracy: 0.9189\n",
      "Epoch 9/60\n",
      "290/295 [============================>.] - ETA: 0s - loss: 0.1513 - accuracy: 0.9525\n",
      "Epoch 00009: val_loss did not improve from 0.21484\n",
      "295/295 [==============================] - 15s 52ms/sample - loss: 0.1519 - accuracy: 0.9520 - val_loss: 0.2234 - val_accuracy: 0.9239\n",
      "Epoch 10/60\n",
      "290/295 [============================>.] - ETA: 0s - loss: 0.1582 - accuracy: 0.9524\n",
      "Epoch 00010: val_loss did not improve from 0.21484\n",
      "295/295 [==============================] - 15s 52ms/sample - loss: 0.1584 - accuracy: 0.9522 - val_loss: 0.2233 - val_accuracy: 0.9306\n",
      "Epoch 11/60\n",
      "290/295 [============================>.] - ETA: 0s - loss: 0.1412 - accuracy: 0.9540\n",
      "Epoch 00011: val_loss improved from 0.21484 to 0.19026, saving model to best-model.hdf5\n",
      "295/295 [==============================] - 15s 52ms/sample - loss: 0.1411 - accuracy: 0.9543 - val_loss: 0.1903 - val_accuracy: 0.9392\n",
      "Epoch 12/60\n",
      "290/295 [============================>.] - ETA: 0s - loss: 0.1417 - accuracy: 0.9529\n",
      "Epoch 00012: val_loss did not improve from 0.19026\n",
      "295/295 [==============================] - 15s 52ms/sample - loss: 0.1407 - accuracy: 0.9532 - val_loss: 0.2033 - val_accuracy: 0.9353\n",
      "Epoch 13/60\n",
      "290/295 [============================>.] - ETA: 0s - loss: 0.1304 - accuracy: 0.9566\n",
      "Epoch 00013: val_loss improved from 0.19026 to 0.17683, saving model to best-model.hdf5\n",
      "295/295 [==============================] - 15s 52ms/sample - loss: 0.1292 - accuracy: 0.9569 - val_loss: 0.1768 - val_accuracy: 0.9419\n",
      "Epoch 14/60\n",
      "290/295 [============================>.] - ETA: 0s - loss: 0.1186 - accuracy: 0.9609\n",
      "Epoch 00014: val_loss improved from 0.17683 to 0.15691, saving model to best-model.hdf5\n",
      "295/295 [==============================] - 15s 52ms/sample - loss: 0.1235 - accuracy: 0.9591 - val_loss: 0.1569 - val_accuracy: 0.9437\n",
      "Epoch 15/60\n",
      "290/295 [============================>.] - ETA: 0s - loss: 0.1098 - accuracy: 0.9619\n",
      "Epoch 00015: val_loss did not improve from 0.15691\n",
      "295/295 [==============================] - 15s 52ms/sample - loss: 0.1092 - accuracy: 0.9621 - val_loss: 0.1585 - val_accuracy: 0.9435\n",
      "Epoch 16/60\n",
      "290/295 [============================>.] - ETA: 0s - loss: 0.1006 - accuracy: 0.9644\n",
      "Epoch 00016: val_loss improved from 0.15691 to 0.14490, saving model to best-model.hdf5\n",
      "295/295 [==============================] - 15s 52ms/sample - loss: 0.1024 - accuracy: 0.9636 - val_loss: 0.1449 - val_accuracy: 0.9479\n",
      "Epoch 17/60\n",
      "290/295 [============================>.] - ETA: 0s - loss: 0.1213 - accuracy: 0.9562\n",
      "Epoch 00017: val_loss did not improve from 0.14490\n",
      "295/295 [==============================] - 15s 52ms/sample - loss: 0.1208 - accuracy: 0.9564 - val_loss: 0.1730 - val_accuracy: 0.9422\n",
      "Epoch 18/60\n",
      "290/295 [============================>.] - ETA: 0s - loss: 0.1058 - accuracy: 0.9629\n",
      "Epoch 00018: val_loss did not improve from 0.14490\n",
      "295/295 [==============================] - 15s 52ms/sample - loss: 0.1060 - accuracy: 0.9629 - val_loss: 0.1541 - val_accuracy: 0.9455\n",
      "Epoch 19/60\n",
      "290/295 [============================>.] - ETA: 0s - loss: 0.1005 - accuracy: 0.9645\n",
      "Epoch 00019: val_loss improved from 0.14490 to 0.13828, saving model to best-model.hdf5\n",
      "295/295 [==============================] - 15s 52ms/sample - loss: 0.1004 - accuracy: 0.9645 - val_loss: 0.1383 - val_accuracy: 0.9487\n",
      "Epoch 20/60\n",
      "290/295 [============================>.] - ETA: 0s - loss: 0.0889 - accuracy: 0.9680\n",
      "Epoch 00020: val_loss did not improve from 0.13828\n",
      "295/295 [==============================] - 15s 52ms/sample - loss: 0.0883 - accuracy: 0.9683 - val_loss: 0.1464 - val_accuracy: 0.9491\n",
      "Epoch 21/60\n",
      "290/295 [============================>.] - ETA: 0s - loss: 0.1003 - accuracy: 0.9647\n",
      "Epoch 00021: val_loss improved from 0.13828 to 0.12689, saving model to best-model.hdf5\n",
      "295/295 [==============================] - 15s 52ms/sample - loss: 0.1007 - accuracy: 0.9645 - val_loss: 0.1269 - val_accuracy: 0.9538\n",
      "Epoch 22/60\n",
      "290/295 [============================>.] - ETA: 0s - loss: 0.0912 - accuracy: 0.9673\n",
      "Epoch 00022: val_loss improved from 0.12689 to 0.11256, saving model to best-model.hdf5\n",
      "295/295 [==============================] - 15s 52ms/sample - loss: 0.0912 - accuracy: 0.9672 - val_loss: 0.1126 - val_accuracy: 0.9574\n",
      "Epoch 23/60\n",
      "290/295 [============================>.] - ETA: 0s - loss: 0.0952 - accuracy: 0.9656\n",
      "Epoch 00023: val_loss did not improve from 0.11256\n",
      "295/295 [==============================] - 15s 52ms/sample - loss: 0.0943 - accuracy: 0.9659 - val_loss: 0.1152 - val_accuracy: 0.9560\n",
      "Epoch 24/60\n",
      "290/295 [============================>.] - ETA: 0s - loss: 0.0854 - accuracy: 0.9689\n",
      "Epoch 00024: val_loss improved from 0.11256 to 0.11162, saving model to best-model.hdf5\n",
      "295/295 [==============================] - 15s 52ms/sample - loss: 0.0852 - accuracy: 0.9689 - val_loss: 0.1116 - val_accuracy: 0.9593\n",
      "Epoch 25/60\n",
      "290/295 [============================>.] - ETA: 0s - loss: 0.0840 - accuracy: 0.9697\n",
      "Epoch 00025: val_loss did not improve from 0.11162\n",
      "295/295 [==============================] - 15s 52ms/sample - loss: 0.0834 - accuracy: 0.9698 - val_loss: 0.1425 - val_accuracy: 0.9487\n",
      "Epoch 26/60\n",
      "290/295 [============================>.] - ETA: 0s - loss: 0.0898 - accuracy: 0.9673\n",
      "Epoch 00026: val_loss did not improve from 0.11162\n",
      "295/295 [==============================] - 15s 52ms/sample - loss: 0.0896 - accuracy: 0.9673 - val_loss: 0.1177 - val_accuracy: 0.9580\n",
      "Epoch 27/60\n",
      "290/295 [============================>.] - ETA: 0s - loss: 0.1228 - accuracy: 0.9612\n",
      "Epoch 00027: val_loss did not improve from 0.11162\n",
      "295/295 [==============================] - 15s 52ms/sample - loss: 0.1218 - accuracy: 0.9615 - val_loss: 0.1405 - val_accuracy: 0.9486\n"
     ]
    },
    {
     "name": "stdout",
     "output_type": "stream",
     "text": [
      "Epoch 28/60\n",
      "290/295 [============================>.] - ETA: 0s - loss: 0.0809 - accuracy: 0.9704\n",
      "Epoch 00028: val_loss did not improve from 0.11162\n",
      "295/295 [==============================] - 15s 52ms/sample - loss: 0.0807 - accuracy: 0.9705 - val_loss: 0.1278 - val_accuracy: 0.9565\n",
      "Epoch 29/60\n",
      "290/295 [============================>.] - ETA: 0s - loss: 0.0699 - accuracy: 0.9742\n",
      "Epoch 00029: val_loss improved from 0.11162 to 0.10863, saving model to best-model.hdf5\n",
      "295/295 [==============================] - 15s 52ms/sample - loss: 0.0702 - accuracy: 0.9741 - val_loss: 0.1086 - val_accuracy: 0.9605\n",
      "Epoch 30/60\n",
      "290/295 [============================>.] - ETA: 0s - loss: 0.0699 - accuracy: 0.9742\n",
      "Epoch 00030: val_loss did not improve from 0.10863\n",
      "295/295 [==============================] - 15s 52ms/sample - loss: 0.0697 - accuracy: 0.9742 - val_loss: 0.1599 - val_accuracy: 0.9487\n",
      "Epoch 31/60\n",
      "290/295 [============================>.] - ETA: 0s - loss: 0.0733 - accuracy: 0.9724\n",
      "Epoch 00031: val_loss did not improve from 0.10863\n",
      "295/295 [==============================] - 15s 52ms/sample - loss: 0.0730 - accuracy: 0.9725 - val_loss: 0.1168 - val_accuracy: 0.9598\n",
      "Epoch 32/60\n",
      "290/295 [============================>.] - ETA: 0s - loss: 0.0670 - accuracy: 0.9751\n",
      "Epoch 00032: val_loss did not improve from 0.10863\n",
      "295/295 [==============================] - 15s 52ms/sample - loss: 0.0667 - accuracy: 0.9753 - val_loss: 0.1338 - val_accuracy: 0.9555\n",
      "Epoch 33/60\n",
      "290/295 [============================>.] - ETA: 0s - loss: 0.0719 - accuracy: 0.9741\n",
      "Epoch 00033: val_loss did not improve from 0.10863\n",
      "295/295 [==============================] - 15s 52ms/sample - loss: 0.0718 - accuracy: 0.9741 - val_loss: 0.1105 - val_accuracy: 0.9604\n",
      "Epoch 34/60\n",
      "290/295 [============================>.] - ETA: 0s - loss: 0.0704 - accuracy: 0.9744\n",
      "Epoch 00034: val_loss did not improve from 0.10863\n",
      "295/295 [==============================] - 15s 52ms/sample - loss: 0.0706 - accuracy: 0.9743 - val_loss: 0.1169 - val_accuracy: 0.9588\n",
      "Epoch 35/60\n",
      "290/295 [============================>.] - ETA: 0s - loss: 0.0669 - accuracy: 0.9746\n",
      "Epoch 00035: val_loss did not improve from 0.10863\n",
      "295/295 [==============================] - 15s 52ms/sample - loss: 0.0667 - accuracy: 0.9747 - val_loss: 0.1263 - val_accuracy: 0.9547\n",
      "Epoch 36/60\n",
      "290/295 [============================>.] - ETA: 0s - loss: 0.0667 - accuracy: 0.9750\n",
      "Epoch 00036: val_loss did not improve from 0.10863\n",
      "295/295 [==============================] - 15s 52ms/sample - loss: 0.0663 - accuracy: 0.9751 - val_loss: 0.1302 - val_accuracy: 0.9555\n",
      "Epoch 37/60\n",
      "290/295 [============================>.] - ETA: 0s - loss: 0.0697 - accuracy: 0.9745\n",
      "Epoch 00037: val_loss did not improve from 0.10863\n",
      "295/295 [==============================] - 15s 52ms/sample - loss: 0.0696 - accuracy: 0.9745 - val_loss: 0.1633 - val_accuracy: 0.9478\n",
      "Epoch 38/60\n",
      "290/295 [============================>.] - ETA: 0s - loss: 0.0645 - accuracy: 0.9767\n",
      "Epoch 00038: val_loss did not improve from 0.10863\n",
      "295/295 [==============================] - 15s 52ms/sample - loss: 0.0642 - accuracy: 0.9767 - val_loss: 0.1233 - val_accuracy: 0.9547\n",
      "Epoch 39/60\n",
      "290/295 [============================>.] - ETA: 0s - loss: 0.0600 - accuracy: 0.9778\n",
      "Epoch 00039: val_loss did not improve from 0.10863\n",
      "295/295 [==============================] - 15s 52ms/sample - loss: 0.0597 - accuracy: 0.9779 - val_loss: 0.1139 - val_accuracy: 0.9605\n",
      "Epoch 40/60\n",
      "290/295 [============================>.] - ETA: 0s - loss: 0.0598 - accuracy: 0.9773\n",
      "Epoch 00040: val_loss did not improve from 0.10863\n",
      "295/295 [==============================] - 15s 52ms/sample - loss: 0.0596 - accuracy: 0.9774 - val_loss: 0.1191 - val_accuracy: 0.9568\n",
      "Epoch 41/60\n",
      "290/295 [============================>.] - ETA: 0s - loss: 0.0586 - accuracy: 0.9777\n",
      "Epoch 00041: val_loss did not improve from 0.10863\n",
      "295/295 [==============================] - 15s 52ms/sample - loss: 0.0585 - accuracy: 0.9777 - val_loss: 0.1215 - val_accuracy: 0.9589\n",
      "Epoch 42/60\n",
      "290/295 [============================>.] - ETA: 0s - loss: 0.0568 - accuracy: 0.9783\n",
      "Epoch 00042: val_loss did not improve from 0.10863\n",
      "295/295 [==============================] - 15s 52ms/sample - loss: 0.0565 - accuracy: 0.9785 - val_loss: 0.1605 - val_accuracy: 0.9510\n",
      "Epoch 43/60\n",
      "290/295 [============================>.] - ETA: 0s - loss: 0.0601 - accuracy: 0.9771\n",
      "Epoch 00043: val_loss did not improve from 0.10863\n",
      "295/295 [==============================] - 15s 52ms/sample - loss: 0.0602 - accuracy: 0.9771 - val_loss: 0.1116 - val_accuracy: 0.9620\n",
      "Epoch 44/60\n",
      "290/295 [============================>.] - ETA: 0s - loss: 0.0534 - accuracy: 0.9799\n",
      "Epoch 00044: val_loss did not improve from 0.10863\n",
      "295/295 [==============================] - 15s 52ms/sample - loss: 0.0532 - accuracy: 0.9800 - val_loss: 0.1220 - val_accuracy: 0.9585\n",
      "Epoch 45/60\n",
      "290/295 [============================>.] - ETA: 0s - loss: 0.0522 - accuracy: 0.9802\n",
      "Epoch 00045: val_loss did not improve from 0.10863\n",
      "295/295 [==============================] - 15s 52ms/sample - loss: 0.0521 - accuracy: 0.9802 - val_loss: 0.1433 - val_accuracy: 0.9538\n",
      "Epoch 46/60\n",
      "290/295 [============================>.] - ETA: 0s - loss: 0.0568 - accuracy: 0.9790\n",
      "Epoch 00046: val_loss did not improve from 0.10863\n",
      "295/295 [==============================] - 15s 52ms/sample - loss: 0.0564 - accuracy: 0.9791 - val_loss: 0.1253 - val_accuracy: 0.9571\n",
      "Epoch 47/60\n",
      "290/295 [============================>.] - ETA: 0s - loss: 0.0525 - accuracy: 0.9799\n",
      "Epoch 00047: val_loss did not improve from 0.10863\n",
      "295/295 [==============================] - 15s 52ms/sample - loss: 0.0523 - accuracy: 0.9800 - val_loss: 0.1228 - val_accuracy: 0.9610\n",
      "Epoch 48/60\n",
      "290/295 [============================>.] - ETA: 0s - loss: 0.0507 - accuracy: 0.9805\n",
      "Epoch 00048: val_loss did not improve from 0.10863\n",
      "295/295 [==============================] - 15s 52ms/sample - loss: 0.0506 - accuracy: 0.9806 - val_loss: 0.1372 - val_accuracy: 0.9518\n",
      "Epoch 49/60\n",
      "290/295 [============================>.] - ETA: 0s - loss: 0.0485 - accuracy: 0.9812\n",
      "Epoch 00049: val_loss did not improve from 0.10863\n",
      "295/295 [==============================] - 15s 52ms/sample - loss: 0.0484 - accuracy: 0.9812 - val_loss: 0.1333 - val_accuracy: 0.9539\n",
      "Epoch 50/60\n",
      "290/295 [============================>.] - ETA: 0s - loss: 0.0598 - accuracy: 0.9788\n",
      "Epoch 00050: val_loss did not improve from 0.10863\n",
      "295/295 [==============================] - 15s 52ms/sample - loss: 0.0596 - accuracy: 0.9788 - val_loss: 0.1193 - val_accuracy: 0.9628\n",
      "Epoch 51/60\n",
      "290/295 [============================>.] - ETA: 0s - loss: 0.0493 - accuracy: 0.9817\n",
      "Epoch 00051: val_loss did not improve from 0.10863\n",
      "295/295 [==============================] - 15s 52ms/sample - loss: 0.0491 - accuracy: 0.9817 - val_loss: 0.1305 - val_accuracy: 0.9577\n",
      "Epoch 52/60\n",
      "290/295 [============================>.] - ETA: 0s - loss: 0.0478 - accuracy: 0.9819\n",
      "Epoch 00052: val_loss did not improve from 0.10863\n",
      "295/295 [==============================] - 15s 52ms/sample - loss: 0.0476 - accuracy: 0.9819 - val_loss: 0.1583 - val_accuracy: 0.9506\n",
      "Epoch 53/60\n",
      "290/295 [============================>.] - ETA: 0s - loss: 0.0436 - accuracy: 0.9831\n",
      "Epoch 00053: val_loss did not improve from 0.10863\n",
      "295/295 [==============================] - 15s 52ms/sample - loss: 0.0443 - accuracy: 0.9829 - val_loss: 0.1441 - val_accuracy: 0.9554\n",
      "Epoch 54/60\n",
      "290/295 [============================>.] - ETA: 0s - loss: 0.0494 - accuracy: 0.9813\n",
      "Epoch 00054: val_loss did not improve from 0.10863\n",
      "295/295 [==============================] - 15s 52ms/sample - loss: 0.0490 - accuracy: 0.9814 - val_loss: 0.1315 - val_accuracy: 0.9579\n",
      "Epoch 55/60\n",
      "290/295 [============================>.] - ETA: 0s - loss: 0.0491 - accuracy: 0.9818\n",
      "Epoch 00055: val_loss did not improve from 0.10863\n",
      "295/295 [==============================] - 15s 52ms/sample - loss: 0.0493 - accuracy: 0.9817 - val_loss: 0.1354 - val_accuracy: 0.9561\n",
      "Epoch 56/60\n",
      "290/295 [============================>.] - ETA: 0s - loss: 0.0494 - accuracy: 0.9808\n",
      "Epoch 00056: val_loss did not improve from 0.10863\n",
      "295/295 [==============================] - 15s 52ms/sample - loss: 0.0494 - accuracy: 0.9808 - val_loss: 0.1235 - val_accuracy: 0.9576\n"
     ]
    },
    {
     "name": "stdout",
     "output_type": "stream",
     "text": [
      "Epoch 57/60\n",
      "290/295 [============================>.] - ETA: 0s - loss: 0.0524 - accuracy: 0.9805\n",
      "Epoch 00057: val_loss did not improve from 0.10863\n",
      "295/295 [==============================] - 15s 52ms/sample - loss: 0.0522 - accuracy: 0.9805 - val_loss: 0.1313 - val_accuracy: 0.9576\n",
      "Epoch 58/60\n",
      "290/295 [============================>.] - ETA: 0s - loss: 0.0432 - accuracy: 0.9835\n",
      "Epoch 00058: val_loss did not improve from 0.10863\n",
      "295/295 [==============================] - 15s 52ms/sample - loss: 0.0432 - accuracy: 0.9835 - val_loss: 0.1250 - val_accuracy: 0.9593\n",
      "Epoch 59/60\n",
      "290/295 [============================>.] - ETA: 0s - loss: 0.0423 - accuracy: 0.9838\n",
      "Epoch 00059: val_loss did not improve from 0.10863\n",
      "295/295 [==============================] - 15s 52ms/sample - loss: 0.0422 - accuracy: 0.9838 - val_loss: 0.1318 - val_accuracy: 0.9567\n",
      "Epoch 60/60\n",
      "290/295 [============================>.] - ETA: 0s - loss: 0.0424 - accuracy: 0.9838\n",
      "Epoch 00060: val_loss did not improve from 0.10863\n",
      "295/295 [==============================] - 15s 52ms/sample - loss: 0.0426 - accuracy: 0.9837 - val_loss: 0.1866 - val_accuracy: 0.9492\n",
      "Elapsed time: 919.2450 seconds\n"
     ]
    },
    {
     "data": {
      "image/png": "[encoded data removed]",
      "text/plain": [
       "<Figure size 504x504 with 1 Axes>"
      ]
     },
     "metadata": {
      "needs_background": "light"
     },
     "output_type": "display_data"
    },
    {
     "data": {
      "image/png": "[encoded data removed]",
      "text/plain": [
       "<Figure size 360x360 with 1 Axes>"
      ]
     },
     "metadata": {
      "needs_background": "light"
     },
     "output_type": "display_data"
    },
    {
     "name": "stdout",
     "output_type": "stream",
     "text": [
      "Predicting for train data\n",
      "Elapsed time: 4.3353 seconds\n",
      "              precision    recall  f1-score   support\n",
      "\n",
      "           0       0.98      0.99      0.98     92600\n",
      "           1       0.98      0.99      0.99    211543\n",
      "           2       0.94      0.92      0.93     31729\n",
      "\n",
      "    accuracy                           0.98    335872\n",
      "   macro avg       0.97      0.96      0.97    335872\n",
      "weighted avg       0.98      0.98      0.98    335872\n",
      "\n"
     ]
    },
    {
     "data": {
      "image/png": "[encoded data removed]",
      "text/plain": [
       "<Figure size 648x360 with 2 Axes>"
      ]
     },
     "metadata": {
      "needs_background": "light"
     },
     "output_type": "display_data"
    },
    {
     "name": "stdout",
     "output_type": "stream",
     "text": [
      "Predicting for test data\n",
      "Elapsed time: 1.7586 seconds\n",
      "              precision    recall  f1-score   support\n",
      "\n",
      "           0       0.97      0.97      0.97     32410\n",
      "           1       0.97      0.98      0.98     98030\n",
      "           2       0.90      0.85      0.87     13944\n",
      "\n",
      "    accuracy                           0.97    144384\n",
      "   macro avg       0.95      0.93      0.94    144384\n",
      "weighted avg       0.96      0.97      0.96    144384\n",
      "\n"
     ]
    },
    {
     "data": {
      "image/png": "[encoded data removed]",
      "text/plain": [
       "<Figure size 648x360 with 2 Axes>"
      ]
     },
     "metadata": {
      "needs_background": "light"
     },
     "output_type": "display_data"
    },
    {
     "name": "stdout",
     "output_type": "stream",
     "text": [
      "Elapsed time: 2.2145 seconds\n"
     ]
    }
   ],
   "source": [
    "unet = mypackage.MyUnet.UNet(X_train, Y_train)\n",
    "print(\"Start training\")\n",
    "timer.start()\n",
    "unet.train(batch_size=5, epochs=60, validation_split=0.1, clear_output=False, monitor='val_loss', mode='min')\n",
    "timer.stop()\n",
    "\n",
    "# unet.summary()\n",
    "unet.plot_training_results()\n",
    "print(\"Predicting for train data\")\n",
    "unet.predict(X_train, Y_labels=Y_train)\n",
    "print(\"Predicting for test data\")\n",
    "timer.start()\n",
    "unet.predict(X_test, Y_labels=Y_test);\n",
    "timer.stop()\n"
   ]
  },
  {
   "cell_type": "code",
   "execution_count": 22,
   "metadata": {},
   "outputs": [
    {
     "name": "stdout",
     "output_type": "stream",
     "text": [
      "Elapsed time: 1.7857 seconds\n",
      "              precision    recall  f1-score   support\n",
      "\n",
      "           0       0.97      0.97      0.97     32410\n",
      "           1       0.97      0.98      0.98     98030\n",
      "           2       0.90      0.85      0.87     13944\n",
      "\n",
      "    accuracy                           0.97    144384\n",
      "   macro avg       0.95      0.93      0.94    144384\n",
      "weighted avg       0.96      0.97      0.96    144384\n",
      "\n"
     ]
    },
    {
     "data": {
      "image/png": "[encoded data removed]",
      "text/plain": [
       "<Figure size 648x360 with 2 Axes>"
      ]
     },
     "metadata": {
      "needs_background": "light"
     },
     "output_type": "display_data"
    }
   ],
   "source": [
    "unet.predict(X_test, Y_labels=Y_test);"
   ]
  },
  {
   "cell_type": "code",
   "execution_count": 8,
   "metadata": {},
   "outputs": [],
   "source": [
    "# TODO: Check if the clear plastic up-top is close to being classified correctly\n",
    "dataset_folder = 'data/tomra_weak_labeling'\n",
    "file_list = ['20200213_121142_new_FM_fillet_sample_C_26']\n",
    "\n",
    "X_26, Y_26 = mypackage.Dataset.load_files(file_list, dataset_folder, with_labels=True)\n",
    "X_26, _, scaler = mypackage.Dataset.scale(X_26, None, scaler=scaler)"
   ]
  },
  {
   "cell_type": "code",
   "execution_count": 21,
   "metadata": {},
   "outputs": [
    {
     "name": "stdout",
     "output_type": "stream",
     "text": [
      "Elapsed time: 0.0326 seconds\n",
      "              precision    recall  f1-score   support\n",
      "\n",
      "           0       1.00      0.97      0.99       379\n",
      "           1       0.97      0.99      0.98       583\n",
      "           2       0.93      0.89      0.91        62\n",
      "\n",
      "    accuracy                           0.98      1024\n",
      "   macro avg       0.97      0.95      0.96      1024\n",
      "weighted avg       0.98      0.98      0.98      1024\n",
      "\n"
     ]
    },
    {
     "data": {
      "image/png": "[encoded data removed]",
      "text/plain": [
       "<Figure size 648x360 with 2 Axes>"
      ]
     },
     "metadata": {
      "needs_background": "light"
     },
     "output_type": "display_data"
    }
   ],
   "source": [
    "unet.predict(X_26[0:1, 34:-34, 34:-34, :], Y_labels=Y_26[0:1, 34:-34, 34:-34, :]);"
   ]
  },
  {
   "cell_type": "code",
   "execution_count": 2,
   "metadata": {},
   "outputs": [
    {
     "name": "stdout",
     "output_type": "stream",
     "text": [
      "[name: \"/device:CPU:0\"\n",
      "device_type: \"CPU\"\n",
      "memory_limit: 268435456\n",
      "locality {\n",
      "}\n",
      "incarnation: 6433163898939636845\n",
      ", name: \"/device:XLA_CPU:0\"\n",
      "device_type: \"XLA_CPU\"\n",
      "memory_limit: 17179869184\n",
      "locality {\n",
      "}\n",
      "incarnation: 14030495234171197251\n",
      "physical_device_desc: \"device: XLA_CPU device\"\n",
      ", name: \"/device:XLA_GPU:0\"\n",
      "device_type: \"XLA_GPU\"\n",
      "memory_limit: 17179869184\n",
      "locality {\n",
      "}\n",
      "incarnation: 12541629888044493427\n",
      "physical_device_desc: \"device: XLA_GPU device\"\n",
      ", name: \"/device:GPU:0\"\n",
      "device_type: \"GPU\"\n",
      "memory_limit: 3135766528\n",
      "locality {\n",
      "  bus_id: 1\n",
      "  links {\n",
      "  }\n",
      "}\n",
      "incarnation: 2678163865343470105\n",
      "physical_device_desc: \"device: 0, name: Quadro M2000M, pci bus id: 0000:01:00.0, compute capability: 5.0\"\n",
      "]\n",
      "The following list should not be empty\n",
      "/device:GPU:0\n",
      "The following should contain stuff, and then be True, True\n",
      "[PhysicalDevice(name='/physical_device:GPU:0', device_type='GPU')] True True\n"
     ]
    }
   ],
   "source": [
    "# https://stackoverflow.com/questions/38009682/how-to-tell-if-tensorflow-is-using-gpu-acceleration-from-inside-python-shell\n",
    "import tensorflow as tf\n",
    "from tensorflow.python.client import device_lib\n",
    "\n",
    "print(device_lib.list_local_devices())\n",
    "print(\"The following list should not be empty\")\n",
    "print(tf.test.gpu_device_name())\n",
    "print(\"The following should contain stuff, and then be True, True\")\n",
    "print(tf.config.experimental.list_physical_devices('GPU'), tf.test.is_built_with_cuda(), tf.test.is_gpu_available( cuda_only=False, min_cuda_compute_capability=None))"
   ]
  },
  {
   "cell_type": "markdown",
   "metadata": {},
   "source": [
    "# Test Partial Least Squares - Discriminant Analysis (PLS-DA)"
   ]
  },
  {
   "cell_type": "code",
   "execution_count": 12,
   "metadata": {},
   "outputs": [
    {
     "name": "stdout",
     "output_type": "stream",
     "text": [
      "Start training\n",
      "Elapsed time: 0.0189 seconds\n"
     ]
    }
   ],
   "source": [
    "from sklearn.cross_decomposition import PLSRegression\n",
    "from sklearn.metrics import classification_report\n",
    "\n",
    "train = mypackage.StackTransform(X_train[:5], Y_train[:5])\n",
    "test = mypackage.StackTransform(X_test[:5], Y_test[:5])\n",
    "\n",
    "plsreg = PLSRegression(n_components=3, scale=False)\n",
    "print(\"Start training\")\n",
    "\n",
    "# Train on this:\n",
    "a = train.Y_stack().ravel().copy()\n",
    "a[a == 1] = 0\n",
    "np.unique(a)\n",
    "\n",
    "timer.start()\n",
    "plsreg.fit(train.X_stack(), train.Y_stack().ravel())\n",
    "timer.stop()\n",
    "\n",
    "# save the model to disk\n",
    "filename = 'latest_PLS-Reg_model.sav'\n",
    "joblib.dump(plsreg, filename)\n",
    "\n",
    "# # load the model from disk\n",
    "# logreg = joblib.load(filename)\n",
    "Y_hat = plsreg.predict(train.X_stack())\n",
    "\n",
    "# Then run OAO classifiers\n",
    "print(np.unique(a[Y_hat[:, 0] <= 1], return_counts=True))"
   ]
  }
 ],
 "metadata": {
  "file_extension": ".py",
  "kernelspec": {
   "display_name": "Python 3",
   "language": "python",
   "name": "python3"
  },
  "language_info": {
   "codemirror_mode": {
    "name": "ipython",
    "version": 3
   },
   "file_extension": ".py",
   "mimetype": "text/x-python",
   "name": "python",
   "nbconvert_exporter": "python",
   "pygments_lexer": "ipython3",
   "version": "3.6.9"
  },
  "mimetype": "text/x-python",
  "name": "python",
  "npconvert_exporter": "python",
  "pygments_lexer": "ipython3",
  "version": 3
 },
 "nbformat": 4,
 "nbformat_minor": 2
}
