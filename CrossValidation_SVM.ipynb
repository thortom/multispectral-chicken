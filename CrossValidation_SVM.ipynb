{
 "cells": [
  {
   "cell_type": "code",
   "execution_count": 1,
   "metadata": {},
   "outputs": [
    {
     "name": "stdout",
     "output_type": "stream",
     "text": [
      "TensorFlow version is 2.1.0\n"
     ]
    },
    {
     "name": "stderr",
     "output_type": "stream",
     "text": [
      "Using TensorFlow backend.\n"
     ]
    }
   ],
   "source": [
    "# https://ipython.org/ipython-doc/3/config/extensions/autoreload.html\n",
    "%load_ext autoreload\n",
    "%autoreload 2\n",
    "\n",
    "# # Interactive plots\n",
    "# %matplotlib notebook\n",
    "\n",
    "# Load all packages used\n",
    "import matplotlib.pyplot as plt\n",
    "import numpy as np\n",
    "import mypackage\n",
    "\n",
    "timer = mypackage.utils.Timer()"
   ]
  },
  {
   "cell_type": "code",
   "execution_count": 3,
   "metadata": {},
   "outputs": [
    {
     "name": "stdout",
     "output_type": "stream",
     "text": [
      "(65, 100, 100, 208) (-7.217623, 11.974456)\n",
      "(array([0, 1, 2], dtype=int32), array([554285,  88543,   7172]))\n"
     ]
    }
   ],
   "source": [
    "# # Load the labeled data\n",
    "# X, Y, info = mypackage.Dataset.load(\"data/tomra_all\", only_with_contaminant=True)\n",
    "# _, X, _ = mypackage.Dataset.scale(None, X, scaler='GlobalStandardization')\n",
    "\n",
    "# print(X.shape, (X.min(), X.max()))\n",
    "# print(np.unique(Y, return_counts=True))"
   ]
  },
  {
   "cell_type": "code",
   "execution_count": 3,
   "metadata": {},
   "outputs": [
    {
     "name": "stdout",
     "output_type": "stream",
     "text": [
      "(10, 100, 100, 208) (-5.6958165, 5.4056025)\n",
      "(array([0, 1, 2], dtype=int32), array([85141, 13856,  1003]))\n"
     ]
    }
   ],
   "source": [
    "# Load the labeled data\n",
    "dataset_folder = 'data/tomra_all'\n",
    "file_list = [\"20200213_113826_fillet_sample30\", \"20200213_113854_fillet_sample31\", \"20200213_113925_fillet_sample32\", \"20200213_113949_fillet_sample33\", \"20200213_114007_fillet_sample34\", \"20200213_114025_fillet_sample35\", \"20200213_114052_fillet_sample36\", \"20200213_114111_fillet_sample37\", \"20200213_114129_fillet_sample38\", \"20200213_114148_fillet_sample39\"]\n",
    "\n",
    "X, Y = mypackage.Dataset.load_files(file_list, dataset_folder, with_labels=True)\n",
    "_, X, _ = mypackage.Dataset.scale(None, X, scaler='GlobalStandardization')\n",
    "\n",
    "print(X.shape, (X.min(), X.max()))\n",
    "print(np.unique(Y, return_counts=True))"
   ]
  },
  {
   "cell_type": "code",
   "execution_count": 20,
   "metadata": {},
   "outputs": [],
   "source": [
    "# svm = mypackage.SGD(X[0:1], Y[0:1])\n",
    "# svm.train(loss=\"hinge\", penalty=\"l1\", max_iter=100000000)\n",
    "# Y_hat = svm.predict(X[1:2], Y[1:2]);"
   ]
  },
  {
   "cell_type": "code",
   "execution_count": 14,
   "metadata": {
    "scrolled": false
   },
   "outputs": [
    {
     "name": "stdout",
     "output_type": "stream",
     "text": [
      "Start training for 0 - 20200213_113826_fillet_sample30\n",
      "Start training\n",
      "Elapsed time: 2692.6934 seconds\n",
      "Predicting for train data\n",
      "Elapsed time: 202.5469 seconds\n",
      "              precision    recall  f1-score   support\n",
      "\n",
      "         0.0       0.99      1.00      1.00    151825\n",
      "         1.0       0.98      0.97      0.98     30960\n",
      "         2.0       0.97      0.84      0.90      1535\n",
      "\n",
      "    accuracy                           0.99    184320\n",
      "   macro avg       0.98      0.94      0.96    184320\n",
      "weighted avg       0.99      0.99      0.99    184320\n",
      "\n",
      "Predicting for validation data\n",
      "Elapsed time: 10.9576 seconds\n",
      "              precision    recall  f1-score   support\n",
      "\n",
      "           0       1.00      1.00      1.00      8510\n",
      "           1       0.96      0.98      0.97      1406\n",
      "           2       1.00      0.40      0.58        84\n",
      "\n",
      "    accuracy                           0.99     10000\n",
      "   macro avg       0.99      0.80      0.85     10000\n",
      "weighted avg       0.99      0.99      0.99     10000\n",
      "\n",
      "Start training for 1 - 20200213_113854_fillet_sample31\n",
      "Start training\n",
      "Elapsed time: 208.7988 seconds\n",
      "Predicting for train data\n",
      "Elapsed time: 218.8272 seconds\n",
      "              precision    recall  f1-score   support\n",
      "\n",
      "         0.0       1.00      1.00      1.00    148901\n",
      "         1.0       0.97      0.98      0.97     33121\n",
      "         2.0       0.97      0.82      0.89      2298\n",
      "\n",
      "    accuracy                           0.99    184320\n",
      "   macro avg       0.98      0.93      0.95    184320\n",
      "weighted avg       0.99      0.99      0.99    184320\n",
      "\n",
      "Predicting for validation data\n",
      "Elapsed time: 11.8653 seconds\n",
      "              precision    recall  f1-score   support\n",
      "\n",
      "           0       1.00      1.00      1.00      8527\n",
      "           1       0.96      0.99      0.97      1392\n",
      "           2       1.00      0.64      0.78        81\n",
      "\n",
      "    accuracy                           0.99     10000\n",
      "   macro avg       0.98      0.88      0.92     10000\n",
      "weighted avg       0.99      0.99      0.99     10000\n",
      "\n",
      "Start training for 2 - 20200213_113925_fillet_sample32\n",
      "Start training\n",
      "Elapsed time: 1304.5038 seconds\n",
      "Predicting for train data\n",
      "Elapsed time: 228.2849 seconds\n",
      "              precision    recall  f1-score   support\n",
      "\n",
      "         0.0       0.99      1.00      1.00    147277\n",
      "         1.0       0.98      0.97      0.97     34944\n",
      "         2.0       0.97      0.82      0.89      2099\n",
      "\n",
      "    accuracy                           0.99    184320\n",
      "   macro avg       0.98      0.93      0.95    184320\n",
      "weighted avg       0.99      0.99      0.99    184320\n",
      "\n",
      "Predicting for validation data\n",
      "Elapsed time: 12.4127 seconds\n",
      "              precision    recall  f1-score   support\n",
      "\n",
      "           0       1.00      1.00      1.00      8519\n",
      "           1       0.98      0.99      0.98      1386\n",
      "           2       1.00      0.81      0.90        95\n",
      "\n",
      "    accuracy                           1.00     10000\n",
      "   macro avg       0.99      0.93      0.96     10000\n",
      "weighted avg       1.00      1.00      1.00     10000\n",
      "\n",
      "Start training for 3 - 20200213_113949_fillet_sample33\n",
      "Start training\n",
      "Elapsed time: 199.3256 seconds\n",
      "Predicting for train data\n",
      "Elapsed time: 202.5553 seconds\n",
      "              precision    recall  f1-score   support\n",
      "\n",
      "         0.0       0.99      1.00      1.00    155059\n",
      "         1.0       0.98      0.97      0.97     27497\n",
      "         2.0       0.96      0.84      0.89      1764\n",
      "\n",
      "    accuracy                           0.99    184320\n",
      "   macro avg       0.98      0.93      0.95    184320\n",
      "weighted avg       0.99      0.99      0.99    184320\n",
      "\n",
      "Predicting for validation data\n",
      "Elapsed time: 10.9982 seconds\n",
      "              precision    recall  f1-score   support\n",
      "\n",
      "           0       1.00      0.99      1.00      8580\n",
      "           1       0.95      0.99      0.97      1343\n",
      "           2       0.98      0.74      0.84        77\n",
      "\n",
      "    accuracy                           0.99     10000\n",
      "   macro avg       0.98      0.91      0.94     10000\n",
      "weighted avg       0.99      0.99      0.99     10000\n",
      "\n",
      "Start training for 4 - 20200213_114007_fillet_sample34\n",
      "Start training\n",
      "Elapsed time: 1820.3364 seconds\n",
      "Predicting for train data\n",
      "Elapsed time: 238.2680 seconds\n",
      "              precision    recall  f1-score   support\n",
      "\n",
      "         0.0       0.99      1.00      1.00    149534\n",
      "         1.0       0.97      0.97      0.97     32807\n",
      "         2.0       0.97      0.77      0.86      1979\n",
      "\n",
      "    accuracy                           0.99    184320\n",
      "   macro avg       0.98      0.91      0.94    184320\n",
      "weighted avg       0.99      0.99      0.99    184320\n",
      "\n",
      "Predicting for validation data\n",
      "Elapsed time: 12.9311 seconds\n",
      "              precision    recall  f1-score   support\n",
      "\n",
      "           0       1.00      1.00      1.00      8559\n",
      "           1       0.96      0.99      0.98      1336\n",
      "           2       0.99      0.77      0.87       105\n",
      "\n",
      "    accuracy                           0.99     10000\n",
      "   macro avg       0.98      0.92      0.95     10000\n",
      "weighted avg       0.99      0.99      0.99     10000\n",
      "\n",
      "Start training for 5 - 20200213_114025_fillet_sample35\n",
      "Start training\n",
      "Elapsed time: 251.7832 seconds\n",
      "Predicting for train data\n",
      "Elapsed time: 269.3370 seconds\n",
      "              precision    recall  f1-score   support\n",
      "\n",
      "         0.0       0.99      1.00      1.00    144972\n",
      "         1.0       0.97      0.97      0.97     36724\n",
      "         2.0       0.95      0.82      0.88      2624\n",
      "\n",
      "    accuracy                           0.99    184320\n",
      "   macro avg       0.97      0.93      0.95    184320\n",
      "weighted avg       0.99      0.99      0.99    184320\n",
      "\n",
      "Predicting for validation data\n",
      "Elapsed time: 14.6105 seconds\n",
      "              precision    recall  f1-score   support\n",
      "\n",
      "           0       1.00      0.99      1.00      8591\n",
      "           1       0.95      0.99      0.97      1302\n",
      "           2       0.91      0.95      0.93       107\n",
      "\n",
      "    accuracy                           0.99     10000\n",
      "   macro avg       0.95      0.98      0.97     10000\n",
      "weighted avg       0.99      0.99      0.99     10000\n",
      "\n",
      "Start training for 6 - 20200213_114052_fillet_sample36\n",
      "Start training\n",
      "Elapsed time: 817.3652 seconds\n",
      "Predicting for train data\n",
      "Elapsed time: 243.7778 seconds\n",
      "              precision    recall  f1-score   support\n",
      "\n",
      "         0.0       0.99      1.00      1.00    147870\n",
      "         1.0       0.97      0.97      0.97     34223\n",
      "         2.0       0.96      0.80      0.87      2227\n",
      "\n",
      "    accuracy                           0.99    184320\n",
      "   macro avg       0.98      0.92      0.95    184320\n",
      "weighted avg       0.99      0.99      0.99    184320\n",
      "\n",
      "Predicting for validation data\n",
      "Elapsed time: 13.2342 seconds\n",
      "              precision    recall  f1-score   support\n",
      "\n",
      "           0       1.00      1.00      1.00      8580\n",
      "           1       0.96      0.99      0.98      1311\n",
      "           2       0.94      0.89      0.92       109\n",
      "\n",
      "    accuracy                           0.99     10000\n",
      "   macro avg       0.97      0.96      0.96     10000\n",
      "weighted avg       0.99      0.99      0.99     10000\n",
      "\n",
      "Start training for 7 - 20200213_114111_fillet_sample37\n",
      "Start training\n",
      "Elapsed time: 210.7688 seconds\n",
      "Predicting for train data\n",
      "Elapsed time: 210.4124 seconds\n",
      "              precision    recall  f1-score   support\n",
      "\n",
      "         0.0       0.99      1.00      1.00    150354\n",
      "         1.0       0.98      0.97      0.98     31929\n",
      "         2.0       0.97      0.84      0.90      2037\n",
      "\n",
      "    accuracy                           0.99    184320\n",
      "   macro avg       0.98      0.94      0.96    184320\n",
      "weighted avg       0.99      0.99      0.99    184320\n",
      "\n",
      "Predicting for validation data\n",
      "Elapsed time: 11.3870 seconds\n",
      "              precision    recall  f1-score   support\n",
      "\n",
      "           0       0.99      1.00      0.99      8441\n",
      "           1       0.99      0.92      0.95      1459\n",
      "           2       0.89      0.99      0.94       100\n",
      "\n",
      "    accuracy                           0.99     10000\n",
      "   macro avg       0.96      0.97      0.96     10000\n",
      "weighted avg       0.99      0.99      0.99     10000\n",
      "\n",
      "Start training for 8 - 20200213_114129_fillet_sample38\n",
      "Start training\n",
      "Elapsed time: 558.7873 seconds\n",
      "Predicting for train data\n",
      "Elapsed time: 217.8871 seconds\n",
      "              precision    recall  f1-score   support\n",
      "\n",
      "         0.0       0.99      1.00      1.00    148374\n",
      "         1.0       0.98      0.98      0.98     33911\n",
      "         2.0       0.96      0.80      0.87      2035\n",
      "\n",
      "    accuracy                           0.99    184320\n",
      "   macro avg       0.98      0.92      0.95    184320\n",
      "weighted avg       0.99      0.99      0.99    184320\n",
      "\n",
      "Predicting for validation data\n"
     ]
    },
    {
     "name": "stdout",
     "output_type": "stream",
     "text": [
      "Elapsed time: 11.8239 seconds\n",
      "              precision    recall  f1-score   support\n",
      "\n",
      "           0       0.99      1.00      0.99      8448\n",
      "           1       0.98      0.94      0.96      1430\n",
      "           2       0.97      0.91      0.94       122\n",
      "\n",
      "    accuracy                           0.99     10000\n",
      "   macro avg       0.98      0.95      0.96     10000\n",
      "weighted avg       0.99      0.99      0.99     10000\n",
      "\n",
      "Start training for 9 - 20200213_114148_fillet_sample39\n",
      "Start training\n",
      "Elapsed time: 200.2883 seconds\n",
      "Predicting for train data\n",
      "Elapsed time: 214.3078 seconds\n",
      "              precision    recall  f1-score   support\n",
      "\n",
      "         0.0       1.00      1.00      1.00    148153\n",
      "         1.0       0.97      0.98      0.98     33926\n",
      "         2.0       0.97      0.80      0.87      2241\n",
      "\n",
      "    accuracy                           0.99    184320\n",
      "   macro avg       0.98      0.92      0.95    184320\n",
      "weighted avg       0.99      0.99      0.99    184320\n",
      "\n",
      "Predicting for validation data\n",
      "Elapsed time: 11.6302 seconds\n",
      "              precision    recall  f1-score   support\n",
      "\n",
      "           0       0.98      1.00      0.99      8386\n",
      "           1       0.99      0.89      0.94      1491\n",
      "           2       0.99      0.85      0.91       123\n",
      "\n",
      "    accuracy                           0.98     10000\n",
      "   macro avg       0.99      0.91      0.95     10000\n",
      "weighted avg       0.98      0.98      0.98     10000\n",
      "\n"
     ]
    },
    {
     "data": {
      "image/png": "[encoded data removed]",
      "text/plain": [
       "<Figure size 648x360 with 2 Axes>"
      ]
     },
     "metadata": {
      "needs_background": "light"
     },
     "output_type": "display_data"
    },
    {
     "data": {
      "image/png": "[encoded data removed]",
      "text/plain": [
       "<Figure size 648x360 with 2 Axes>"
      ]
     },
     "metadata": {
      "needs_background": "light"
     },
     "output_type": "display_data"
    },
    {
     "data": {
      "image/png": "[encoded data removed]",
      "text/plain": [
       "<Figure size 648x360 with 2 Axes>"
      ]
     },
     "metadata": {
      "needs_background": "light"
     },
     "output_type": "display_data"
    },
    {
     "data": {
      "image/png": "[encoded data removed]",
      "text/plain": [
       "<Figure size 648x360 with 2 Axes>"
      ]
     },
     "metadata": {
      "needs_background": "light"
     },
     "output_type": "display_data"
    },
    {
     "data": {
      "image/png": "[encoded data removed]",
      "text/plain": [
       "<Figure size 648x360 with 2 Axes>"
      ]
     },
     "metadata": {
      "needs_background": "light"
     },
     "output_type": "display_data"
    },
    {
     "data": {
      "image/png": "[encoded data removed]",
      "text/plain": [
       "<Figure size 648x360 with 2 Axes>"
      ]
     },
     "metadata": {
      "needs_background": "light"
     },
     "output_type": "display_data"
    },
    {
     "data": {
      "image/png": "[encoded data removed]",
      "text/plain": [
       "<Figure size 648x360 with 2 Axes>"
      ]
     },
     "metadata": {
      "needs_background": "light"
     },
     "output_type": "display_data"
    },
    {
     "data": {
      "image/png": "[encoded data removed]",
      "text/plain": [
       "<Figure size 648x360 with 2 Axes>"
      ]
     },
     "metadata": {
      "needs_background": "light"
     },
     "output_type": "display_data"
    },
    {
     "data": {
      "image/png": "[encoded data removed]",
      "text/plain": [
       "<Figure size 648x360 with 2 Axes>"
      ]
     },
     "metadata": {
      "needs_background": "light"
     },
     "output_type": "display_data"
    },
    {
     "data": {
      "image/png": "[encoded data removed]",
      "text/plain": [
       "<Figure size 648x360 with 2 Axes>"
      ]
     },
     "metadata": {
      "needs_background": "light"
     },
     "output_type": "display_data"
    }
   ],
   "source": [
    "def select_one(X, i):\n",
    "    return X[np.arange(len(X)) != i], X[i:i+1]\n",
    "\n",
    "# i = 0\n",
    "for i, file_name in enumerate(file_list): # [0, 23, 24, 31, 35, 57, 63]: # range(len(X))\n",
    "#     Do CV on each image / Or on each set of 10 images\n",
    "\n",
    "    X_rest, x_validation = select_one(X, i)\n",
    "    Y_rest, y_validation = select_one(Y, i)\n",
    "    X_train, Y_train = mypackage.Dataset.make_zoomed_in_dataset(X_rest, Y_rest, size=32, sample_multiplication=20, contaminant_type=2, zoom_with_noise=0.8)\n",
    "    \n",
    "    svm = mypackage.SVM(X_train, Y_train)\n",
    "    print(f\"Start training for {i} - {file_name}\")\n",
    "    svm.train()\n",
    "\n",
    "    print(\"Predicting for train data\")\n",
    "    svm.predict(X_train, Y=Y_train, plot=False)\n",
    "\n",
    "    print(\"Predicting for validation data\")\n",
    "    y_hat = svm.predict(x_validation, y_validation)\n"
   ]
  }
 ],
 "metadata": {
  "kernelspec": {
   "display_name": "Python 3",
   "language": "python",
   "name": "python3"
  },
  "language_info": {
   "codemirror_mode": {
    "name": "ipython",
    "version": 3
   },
   "file_extension": ".py",
   "mimetype": "text/x-python",
   "name": "python",
   "nbconvert_exporter": "python",
   "pygments_lexer": "ipython3",
   "version": "3.6.9"
  }
 },
 "nbformat": 4,
 "nbformat_minor": 4
}
