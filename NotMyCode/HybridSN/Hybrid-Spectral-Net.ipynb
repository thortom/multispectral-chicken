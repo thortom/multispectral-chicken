{
 "cells": [
  {
   "cell_type": "code",
   "execution_count": 1,
   "metadata": {},
   "outputs": [
    {
     "name": "stdout",
     "output_type": "stream",
     "text": [
      "TensorFlow version is 2.1.0\n"
     ]
    },
    {
     "name": "stderr",
     "output_type": "stream",
     "text": [
      "Using TensorFlow backend.\n"
     ]
    },
    {
     "data": {
      "text/html": [
       "        <script type=\"text/javascript\">\n",
       "        window.PlotlyConfig = {MathJaxConfig: 'local'};\n",
       "        if (window.MathJax) {MathJax.Hub.Config({SVG: {font: \"STIX-Web\"}});}\n",
       "        if (typeof require !== 'undefined') {\n",
       "        require.undef(\"plotly\");\n",
       "        requirejs.config({\n",
       "            paths: {\n",
       "                'plotly': ['https://cdn.plot.ly/plotly-latest.min']\n",
       "            }\n",
       "        });\n",
       "        require(['plotly'], function(Plotly) {\n",
       "            window._Plotly = Plotly;\n",
       "        });\n",
       "        }\n",
       "        </script>\n",
       "        "
      ]
     },
     "metadata": {},
     "output_type": "display_data"
    }
   ],
   "source": [
    "# Code from: https://github.com/gokriznastic/HybridSN\n",
    "%load_ext autoreload\n",
    "%autoreload 2\n",
    "\n",
    "import mypackage\n",
    "\n",
    "import keras\n",
    "from keras.layers import Conv2D, Conv3D, Flatten, Dense, Reshape, BatchNormalization\n",
    "from keras.layers import Dropout, Input\n",
    "from keras.models import Model\n",
    "from keras.optimizers import Adam\n",
    "from keras.callbacks import ModelCheckpoint\n",
    "from keras.utils import np_utils\n",
    "\n",
    "from sklearn.decomposition import PCA\n",
    "from sklearn.model_selection import train_test_split\n",
    "from sklearn.metrics import confusion_matrix, accuracy_score, classification_report, cohen_kappa_score\n",
    "\n",
    "from operator import truediv\n",
    "\n",
    "from plotly.offline import init_notebook_mode\n",
    "\n",
    "import numpy as np\n",
    "import matplotlib.pyplot as plt\n",
    "import scipy.io as sio\n",
    "import os\n",
    "import spectral\n",
    "\n",
    "import numba\n",
    "from numba import jit\n",
    "\n",
    "init_notebook_mode(connected=True)\n",
    "%matplotlib inline"
   ]
  },
  {
   "cell_type": "markdown",
   "metadata": {},
   "source": [
    "# Data Loading"
   ]
  },
  {
   "cell_type": "code",
   "execution_count": 2,
   "metadata": {},
   "outputs": [],
   "source": [
    "## GLOBAL VARIABLES\n",
    "dataset = 'HyperChicken'\n",
    "test_ratio = 0.7\n",
    "windowSize = 25"
   ]
  },
  {
   "cell_type": "code",
   "execution_count": 3,
   "metadata": {},
   "outputs": [],
   "source": [
    "def loadData(name):\n",
    "    data_path = os.path.join(os.getcwd(),'data')\n",
    "    if name == 'HyperChicken':\n",
    "        print(\"loding stuff\")\n",
    "        data, labels, info = mypackage.Dataset.load(\"../../data/tomra\")\n",
    "        labels -= 1\n",
    "        data, labels = data[0], labels[0]\n",
    "#         data, labels = data[18:-18, 18:-18], labels[18:-18, 18:-18]\n",
    "    \n",
    "    return data, labels"
   ]
  },
  {
   "cell_type": "code",
   "execution_count": 4,
   "metadata": {},
   "outputs": [],
   "source": [
    "def splitTrainTestSet(X, y, testRatio, randomState=345):\n",
    "    X_train, X_test, y_train, y_test = train_test_split(X, y, test_size=testRatio, random_state=randomState,\n",
    "                                                        stratify=y)\n",
    "    return X_train, X_test, y_train, y_test"
   ]
  },
  {
   "cell_type": "code",
   "execution_count": 5,
   "metadata": {},
   "outputs": [],
   "source": [
    "def applyPCA(X, numComponents=75):\n",
    "    newX = np.reshape(X, (-1, X.shape[2]))\n",
    "    pca = PCA(n_components=numComponents, whiten=True)\n",
    "    newX = pca.fit_transform(newX)\n",
    "    newX = np.reshape(newX, (X.shape[0],X.shape[1], numComponents))\n",
    "    return newX, pca"
   ]
  },
  {
   "cell_type": "code",
   "execution_count": 6,
   "metadata": {},
   "outputs": [],
   "source": [
    "def padWithZeros(X, margin=2):\n",
    "    newX = np.zeros((X.shape[0] + 2 * margin, X.shape[1] + 2* margin, X.shape[2]))\n",
    "    x_offset = margin\n",
    "    y_offset = margin\n",
    "    newX[x_offset:X.shape[0] + x_offset, y_offset:X.shape[1] + y_offset, :] = X\n",
    "    return newX"
   ]
  },
  {
   "cell_type": "code",
   "execution_count": 7,
   "metadata": {},
   "outputs": [],
   "source": [
    "def createImageCubes(X, y, windowSize=5):\n",
    "    margin = int((windowSize - 1) / 2)\n",
    "    zeroPaddedX = X #padWithZeros(X, margin=margin)\n",
    "    # split patches\n",
    "    numb_patches = (X.shape[0] - 2*margin) * (X.shape[1] - 2*margin) # TODO: Check for correctness\n",
    "    patchesData = np.zeros((numb_patches, windowSize, windowSize, X.shape[2]))\n",
    "    patchesLabels = np.zeros((numb_patches))\n",
    "    patchIndex = 0\n",
    "    for r in range(margin, X.shape[0] - margin):\n",
    "        for c in range(margin, X.shape[1] - margin):\n",
    "            patch = X[r - margin:r + margin + 1, c - margin:c + margin + 1]\n",
    "            patchesData[patchIndex, :, :, :] = patch\n",
    "            patchesLabels[patchIndex] = y[r-margin, c-margin]\n",
    "            patchIndex = patchIndex + 1\n",
    "    return patchesData, patchesLabels"
   ]
  },
  {
   "cell_type": "code",
   "execution_count": 8,
   "metadata": {},
   "outputs": [],
   "source": [
    "# This is code from the original Patch-Code: https://github.com/KonstantinosF/Classification-of-Hyperspectral-Image/blob/master/CreatetheDatasets.ipynb\n",
    "#\n",
    "# It might be interesting to uses these two functions to see if they can improve the classification\n",
    "def oversampleWeakClasses(X, y):\n",
    "    uniqueLabels, labelCounts = np.unique(y, return_counts=True)\n",
    "    maxCount = np.max(labelCounts)\n",
    "    labelInverseRatios = maxCount / labelCounts  \n",
    "    # repeat for every label and concat\n",
    "    newX = X[y == uniqueLabels[0], :, :, :].repeat(round(labelInverseRatios[0]), axis=0)\n",
    "    newY = y[y == uniqueLabels[0]].repeat(round(labelInverseRatios[0]), axis=0)\n",
    "    for label, labelInverseRatio in zip(uniqueLabels[1:], labelInverseRatios[1:]):\n",
    "        cX = X[y== label,:,:,:].repeat(round(labelInverseRatio), axis=0)\n",
    "        cY = y[y == label].repeat(round(labelInverseRatio), axis=0)\n",
    "        newX = np.concatenate((newX, cX))\n",
    "        newY = np.concatenate((newY, cY))\n",
    "    np.random.seed(seed=42)\n",
    "    rand_perm = np.random.permutation(newY.shape[0])\n",
    "    newX = newX[rand_perm, :, :, :]\n",
    "    newY = newY[rand_perm]\n",
    "    return newX, newY\n",
    "\n",
    "def AugmentData(X_train):\n",
    "    for i in range(int(X_train.shape[0]/2)):\n",
    "        patch = X_train[i,:,:,:]\n",
    "        num = random.randint(0,2)\n",
    "        if (num == 0):\n",
    "            \n",
    "            flipped_patch = np.flipud(patch)\n",
    "        if (num == 1):\n",
    "            \n",
    "            flipped_patch = np.fliplr(patch)\n",
    "        if (num == 2):\n",
    "            \n",
    "            no = random.randrange(-180,180,30)\n",
    "            flipped_patch = scipy.ndimage.interpolation.rotate(patch, no,axes=(1, 0), reshape=False, output=None, order=3, mode='constant', cval=0.0, prefilter=False)\n",
    "    \n",
    "    \n",
    "    patch2 = flipped_patch\n",
    "    X_train[i,:,:,:] = patch2\n",
    "    \n",
    "    return X_train"
   ]
  },
  {
   "cell_type": "code",
   "execution_count": 9,
   "metadata": {},
   "outputs": [
    {
     "name": "stdout",
     "output_type": "stream",
     "text": [
      "loding stuff\n"
     ]
    },
    {
     "data": {
      "text/plain": [
       "((100, 100, 208), (100, 100, 1))"
      ]
     },
     "execution_count": 9,
     "metadata": {},
     "output_type": "execute_result"
    }
   ],
   "source": [
    "X, y = loadData(dataset)\n",
    "\n",
    "X.shape, y.shape"
   ]
  },
  {
   "cell_type": "code",
   "execution_count": 10,
   "metadata": {},
   "outputs": [
    {
     "data": {
      "text/plain": [
       "array([0, 1, 2], dtype=int32)"
      ]
     },
     "execution_count": 10,
     "metadata": {},
     "output_type": "execute_result"
    }
   ],
   "source": [
    "np.unique(y)"
   ]
  },
  {
   "cell_type": "code",
   "execution_count": 11,
   "metadata": {},
   "outputs": [],
   "source": [
    "K = X.shape[2]"
   ]
  },
  {
   "cell_type": "code",
   "execution_count": 12,
   "metadata": {},
   "outputs": [],
   "source": [
    "# K = 30 # if dataset == 'HyperChicken' else 15\n",
    "# X,pca = applyPCA(X,numComponents=K)\n",
    "\n",
    "# X.shape"
   ]
  },
  {
   "cell_type": "code",
   "execution_count": 13,
   "metadata": {},
   "outputs": [
    {
     "data": {
      "text/plain": [
       "((5776, 25, 25, 208), (5776,))"
      ]
     },
     "execution_count": 13,
     "metadata": {},
     "output_type": "execute_result"
    }
   ],
   "source": [
    "X, y = createImageCubes(X, y, windowSize=windowSize)\n",
    "\n",
    "X.shape, y.shape"
   ]
  },
  {
   "cell_type": "code",
   "execution_count": 14,
   "metadata": {},
   "outputs": [
    {
     "data": {
      "text/plain": [
       "array([0., 1., 2.])"
      ]
     },
     "execution_count": 14,
     "metadata": {},
     "output_type": "execute_result"
    }
   ],
   "source": [
    "np.unique(y)"
   ]
  },
  {
   "cell_type": "code",
   "execution_count": 15,
   "metadata": {},
   "outputs": [
    {
     "data": {
      "text/plain": [
       "((1732, 25, 25, 208), (4044, 25, 25, 208), (1732,), (4044,))"
      ]
     },
     "execution_count": 15,
     "metadata": {},
     "output_type": "execute_result"
    }
   ],
   "source": [
    "Xtrain, Xtest, ytrain, ytest = splitTrainTestSet(X, y, test_ratio)\n",
    "\n",
    "Xtrain.shape, Xtest.shape, ytrain.shape, ytest.shape"
   ]
  },
  {
   "cell_type": "markdown",
   "metadata": {},
   "source": [
    "# Model and Training"
   ]
  },
  {
   "cell_type": "code",
   "execution_count": 16,
   "metadata": {},
   "outputs": [
    {
     "data": {
      "text/plain": [
       "(1732, 25, 25, 208, 1)"
      ]
     },
     "execution_count": 16,
     "metadata": {},
     "output_type": "execute_result"
    }
   ],
   "source": [
    "Xtrain = Xtrain.reshape(-1, windowSize, windowSize, K, 1)\n",
    "Xtrain.shape"
   ]
  },
  {
   "cell_type": "code",
   "execution_count": 17,
   "metadata": {},
   "outputs": [
    {
     "name": "stdout",
     "output_type": "stream",
     "text": [
      "Train:\n",
      "\t(array([0., 1., 2.]), array([1359,  340,   33]))\n",
      "Test:\n",
      "\t(array([0., 1., 2.]), array([3173,  794,   77]))\n"
     ]
    }
   ],
   "source": [
    "print(f\"Train:\\n\\t{np.unique(ytrain, return_counts=True)}\\nTest:\\n\\t{np.unique(ytest, return_counts=True)}\")"
   ]
  },
  {
   "cell_type": "code",
   "execution_count": 18,
   "metadata": {},
   "outputs": [
    {
     "data": {
      "text/plain": [
       "(1732, 3)"
      ]
     },
     "execution_count": 18,
     "metadata": {},
     "output_type": "execute_result"
    }
   ],
   "source": [
    "ytrain = np_utils.to_categorical(ytrain)\n",
    "ytrain.shape"
   ]
  },
  {
   "cell_type": "markdown",
   "metadata": {},
   "source": [
    "Xvalid = Xvalid.reshape(-1, windowSize, windowSize, K, 1)\n",
    "Xvalid.shape"
   ]
  },
  {
   "cell_type": "markdown",
   "metadata": {},
   "source": [
    "yvalid = np_utils.to_categorical(yvalid)\n",
    "yvalid.shape"
   ]
  },
  {
   "cell_type": "code",
   "execution_count": 19,
   "metadata": {},
   "outputs": [],
   "source": [
    "S = windowSize\n",
    "L = K\n",
    "output_units = 3 # if dataset == 'HyperChicken'"
   ]
  },
  {
   "cell_type": "markdown",
   "metadata": {},
   "source": [
    "The spatial size of the output volume can be computed as a function of the input volume size *W*, the kernel field size of the convolutional layer neurons *K*, the stride with which they are applied *S*, and the amount of zero padding *P* used on the border. The formula for calculating how many neurons \"fit\" in a given volume is given by\n",
    "\n",
    "$\\frac{W - K + 2P}{S} + 1$"
   ]
  },
  {
   "cell_type": "markdown",
   "metadata": {},
   "source": [
    "https://en.wikipedia.org/wiki/Convolutional_neural_network#Building_blocks\n",
    "\n",
    "Calculating the spectral dimension reduction\n",
    "\n",
    "$(208−16)÷6 + 1 = 33$\n",
    "\n",
    "$(33−10)÷2 + 1 = 12.5$\n",
    "\n",
    "$$"
   ]
  },
  {
   "cell_type": "code",
   "execution_count": 24,
   "metadata": {},
   "outputs": [
    {
     "data": {
      "text/plain": [
       "((1732, 25, 25, 208, 1), (1732, 3))"
      ]
     },
     "execution_count": 24,
     "metadata": {},
     "output_type": "execute_result"
    }
   ],
   "source": [
    "Xtrain.shape, ytrain.shape"
   ]
  },
  {
   "cell_type": "code",
   "execution_count": 23,
   "metadata": {},
   "outputs": [
    {
     "data": {
      "text/plain": [
       "(25, 25, 208)"
      ]
     },
     "execution_count": 23,
     "metadata": {},
     "output_type": "execute_result"
    }
   ],
   "source": [
    "S, S, L"
   ]
  },
  {
   "cell_type": "code",
   "execution_count": 20,
   "metadata": {},
   "outputs": [
    {
     "name": "stdout",
     "output_type": "stream",
     "text": [
      "(None, 19, 19, 7, 32)\n"
     ]
    }
   ],
   "source": [
    "## input layer\n",
    "input_layer = Input((S, S, L, 1))\n",
    "\n",
    "## convolutional layers\n",
    "conv_layer1 = Conv3D(filters=8, strides=(1, 1, 3), kernel_size=(3, 3, 7), activation='relu')(input_layer)\n",
    "conv_layer2 = Conv3D(filters=16, strides=(1, 1, 3), kernel_size=(3, 3, 5), activation='relu')(conv_layer1)\n",
    "conv_layer3 = Conv3D(filters=32, strides=(1, 1, 3), kernel_size=(3, 3, 3), activation='relu')(conv_layer2)\n",
    "# ################ Added by me ##########################################################\n",
    "# The last dimensions in the kernel_sizes was 7, 5 and 3 is now 16, 10, 5\n",
    "# The filters was 8, 16, 32 and is now \n",
    "# conv_layer4 = Conv3D(filters=64, strides=(1, 1, 2), kernel_size=(3, 3, 3), activation='relu')(conv_layer3)\n",
    "# conv_layer3 = conv_layer4\n",
    "# #######################################################################################\n",
    "print(conv_layer3._keras_shape)\n",
    "conv3d_shape = conv_layer3._keras_shape\n",
    "conv_layer3 = Reshape((conv3d_shape[1], conv3d_shape[2], conv3d_shape[3]*conv3d_shape[4]))(conv_layer3)\n",
    "conv_layer4 = Conv2D(filters=64, kernel_size=(3,3), activation='relu')(conv_layer3)\n",
    "\n",
    "flatten_layer = Flatten()(conv_layer4)\n",
    "\n",
    "## fully connected layers\n",
    "dense_layer1 = Dense(units=256, activation='relu')(flatten_layer)\n",
    "dense_layer1 = Dropout(0.4)(dense_layer1)\n",
    "dense_layer2 = Dense(units=128, activation='relu')(dense_layer1)\n",
    "dense_layer2 = Dropout(0.4)(dense_layer2)\n",
    "output_layer = Dense(units=output_units, activation='softmax')(dense_layer2)"
   ]
  },
  {
   "cell_type": "code",
   "execution_count": 21,
   "metadata": {},
   "outputs": [],
   "source": [
    "# define the model with input layer and output layer\n",
    "model = Model(inputs=input_layer, outputs=output_layer)"
   ]
  },
  {
   "cell_type": "code",
   "execution_count": 22,
   "metadata": {},
   "outputs": [
    {
     "name": "stdout",
     "output_type": "stream",
     "text": [
      "Model: \"model_1\"\n",
      "_________________________________________________________________\n",
      "Layer (type)                 Output Shape              Param #   \n",
      "=================================================================\n",
      "input_1 (InputLayer)         (None, 25, 25, 208, 1)    0         \n",
      "_________________________________________________________________\n",
      "conv3d_1 (Conv3D)            (None, 23, 23, 68, 8)     512       \n",
      "_________________________________________________________________\n",
      "conv3d_2 (Conv3D)            (None, 21, 21, 22, 16)    5776      \n",
      "_________________________________________________________________\n",
      "conv3d_3 (Conv3D)            (None, 19, 19, 7, 32)     13856     \n",
      "_________________________________________________________________\n",
      "reshape_1 (Reshape)          (None, 19, 19, 224)       0         \n",
      "_________________________________________________________________\n",
      "conv2d_1 (Conv2D)            (None, 17, 17, 64)        129088    \n",
      "_________________________________________________________________\n",
      "flatten_1 (Flatten)          (None, 18496)             0         \n",
      "_________________________________________________________________\n",
      "dense_1 (Dense)              (None, 256)               4735232   \n",
      "_________________________________________________________________\n",
      "dropout_1 (Dropout)          (None, 256)               0         \n",
      "_________________________________________________________________\n",
      "dense_2 (Dense)              (None, 128)               32896     \n",
      "_________________________________________________________________\n",
      "dropout_2 (Dropout)          (None, 128)               0         \n",
      "_________________________________________________________________\n",
      "dense_3 (Dense)              (None, 3)                 387       \n",
      "=================================================================\n",
      "Total params: 4,917,747\n",
      "Trainable params: 4,917,747\n",
      "Non-trainable params: 0\n",
      "_________________________________________________________________\n"
     ]
    }
   ],
   "source": [
    "model.summary()"
   ]
  },
  {
   "cell_type": "code",
   "execution_count": 23,
   "metadata": {},
   "outputs": [],
   "source": [
    "# compiling the model\n",
    "adam = Adam(lr=0.001, decay=1e-06)\n",
    "model.compile(loss='categorical_crossentropy', optimizer=adam, metrics=['accuracy'])"
   ]
  },
  {
   "cell_type": "code",
   "execution_count": 24,
   "metadata": {},
   "outputs": [],
   "source": [
    "# checkpoint\n",
    "filepath = \"best-model.hdf5\"\n",
    "checkpoint = ModelCheckpoint(filepath, monitor='accuracy', verbose=1, save_best_only=True, mode='max')\n",
    "callbacks_list = [checkpoint]"
   ]
  },
  {
   "cell_type": "code",
   "execution_count": 25,
   "metadata": {},
   "outputs": [
    {
     "data": {
      "text/plain": [
       "((1732, 25, 25, 208, 1), (1732, 3))"
      ]
     },
     "execution_count": 25,
     "metadata": {},
     "output_type": "execute_result"
    }
   ],
   "source": [
    "Xtrain.shape, ytrain.shape"
   ]
  },
  {
   "cell_type": "code",
   "execution_count": 26,
   "metadata": {},
   "outputs": [],
   "source": [
    "# import matplotlib.pyplot as plt\n",
    "# plt.imshow(ytrain[0])"
   ]
  },
  {
   "cell_type": "code",
   "execution_count": 27,
   "metadata": {
    "scrolled": false
   },
   "outputs": [
    {
     "name": "stdout",
     "output_type": "stream",
     "text": [
      "Epoch 1/30\n",
      "1732/1732 [==============================] - 55s 32ms/step - loss: 0.5181 - accuracy: 0.8620\n",
      "\n",
      "Epoch 00001: accuracy improved from -inf to 0.86201, saving model to best-model.hdf5\n",
      "Epoch 2/30\n",
      "1732/1732 [==============================] - 55s 32ms/step - loss: 0.2683 - accuracy: 0.9094\n",
      "\n",
      "Epoch 00002: accuracy improved from 0.86201 to 0.90935, saving model to best-model.hdf5\n",
      "Epoch 3/30\n",
      "1732/1732 [==============================] - 59s 34ms/step - loss: 0.2056 - accuracy: 0.9296\n",
      "\n",
      "Epoch 00003: accuracy improved from 0.90935 to 0.92956, saving model to best-model.hdf5\n",
      "Epoch 4/30\n",
      "1732/1732 [==============================] - 59s 34ms/step - loss: 0.1697 - accuracy: 0.9463\n",
      "\n",
      "Epoch 00004: accuracy improved from 0.92956 to 0.94630, saving model to best-model.hdf5\n",
      "Epoch 5/30\n",
      "1732/1732 [==============================] - 60s 35ms/step - loss: 0.2985 - accuracy: 0.9007\n",
      "\n",
      "Epoch 00005: accuracy did not improve from 0.94630\n",
      "Epoch 6/30\n",
      "1732/1732 [==============================] - 59s 34ms/step - loss: 0.3511 - accuracy: 0.8753\n",
      "\n",
      "Epoch 00006: accuracy did not improve from 0.94630\n",
      "Epoch 7/30\n",
      "1732/1732 [==============================] - 65s 38ms/step - loss: 0.1527 - accuracy: 0.9527\n",
      "\n",
      "Epoch 00007: accuracy improved from 0.94630 to 0.95266, saving model to best-model.hdf5\n",
      "Epoch 8/30\n",
      "1732/1732 [==============================] - 64s 37ms/step - loss: 0.1320 - accuracy: 0.9579\n",
      "\n",
      "Epoch 00008: accuracy improved from 0.95266 to 0.95785, saving model to best-model.hdf5\n",
      "Epoch 9/30\n",
      "1732/1732 [==============================] - 64s 37ms/step - loss: 0.1005 - accuracy: 0.9625\n",
      "\n",
      "Epoch 00009: accuracy improved from 0.95785 to 0.96247, saving model to best-model.hdf5\n",
      "Epoch 10/30\n",
      "1732/1732 [==============================] - 63s 36ms/step - loss: 0.0941 - accuracy: 0.9659\n",
      "\n",
      "Epoch 00010: accuracy improved from 0.96247 to 0.96594, saving model to best-model.hdf5\n",
      "Epoch 11/30\n",
      "1732/1732 [==============================] - 64s 37ms/step - loss: 0.6204 - accuracy: 0.8522\n",
      "\n",
      "Epoch 00011: accuracy did not improve from 0.96594\n",
      "Epoch 12/30\n",
      "1732/1732 [==============================] - 67s 39ms/step - loss: 0.6097 - accuracy: 0.7846\n",
      "\n",
      "Epoch 00012: accuracy did not improve from 0.96594\n",
      "Epoch 13/30\n",
      "1732/1732 [==============================] - 57s 33ms/step - loss: 0.6016 - accuracy: 0.7846\n",
      "\n",
      "Epoch 00013: accuracy did not improve from 0.96594\n",
      "Epoch 14/30\n",
      "1732/1732 [==============================] - 61s 35ms/step - loss: 0.5888 - accuracy: 0.7846\n",
      "\n",
      "Epoch 00014: accuracy did not improve from 0.96594\n",
      "Epoch 15/30\n",
      "1732/1732 [==============================] - 67s 39ms/step - loss: 0.6016 - accuracy: 0.7846\n",
      "\n",
      "Epoch 00015: accuracy did not improve from 0.96594\n",
      "Epoch 16/30\n",
      "1732/1732 [==============================] - 76s 44ms/step - loss: 0.5997 - accuracy: 0.7846\n",
      "\n",
      "Epoch 00016: accuracy did not improve from 0.96594\n",
      "Epoch 17/30\n",
      "1732/1732 [==============================] - 72s 42ms/step - loss: 0.5911 - accuracy: 0.7846\n",
      "\n",
      "Epoch 00017: accuracy did not improve from 0.96594\n",
      "Epoch 18/30\n",
      "1732/1732 [==============================] - 66s 38ms/step - loss: 0.5975 - accuracy: 0.7846\n",
      "\n",
      "Epoch 00018: accuracy did not improve from 0.96594\n",
      "Epoch 19/30\n",
      "1732/1732 [==============================] - 55s 32ms/step - loss: 0.5936 - accuracy: 0.7846\n",
      "\n",
      "Epoch 00019: accuracy did not improve from 0.96594\n",
      "Epoch 20/30\n",
      "1732/1732 [==============================] - 67s 39ms/step - loss: 0.5890 - accuracy: 0.7846\n",
      "\n",
      "Epoch 00020: accuracy did not improve from 0.96594\n",
      "Epoch 21/30\n",
      "1732/1732 [==============================] - 62s 36ms/step - loss: 0.5890 - accuracy: 0.7846\n",
      "\n",
      "Epoch 00021: accuracy did not improve from 0.96594\n",
      "Epoch 22/30\n",
      "1732/1732 [==============================] - 64s 37ms/step - loss: 0.5872 - accuracy: 0.7846\n",
      "\n",
      "Epoch 00022: accuracy did not improve from 0.96594\n",
      "Epoch 23/30\n",
      "1732/1732 [==============================] - 59s 34ms/step - loss: 0.5914 - accuracy: 0.7846\n",
      "\n",
      "Epoch 00023: accuracy did not improve from 0.96594\n",
      "Epoch 24/30\n",
      "1732/1732 [==============================] - 85s 49ms/step - loss: 0.5921 - accuracy: 0.7846\n",
      "\n",
      "Epoch 00024: accuracy did not improve from 0.96594\n",
      "Epoch 25/30\n",
      "1732/1732 [==============================] - 72s 41ms/step - loss: 0.5903 - accuracy: 0.7846\n",
      "\n",
      "Epoch 00025: accuracy did not improve from 0.96594\n",
      "Epoch 26/30\n",
      "1732/1732 [==============================] - 81s 47ms/step - loss: 0.5924 - accuracy: 0.7846\n",
      "\n",
      "Epoch 00026: accuracy did not improve from 0.96594\n",
      "Epoch 27/30\n",
      "1732/1732 [==============================] - 68s 39ms/step - loss: 0.5910 - accuracy: 0.7846\n",
      "\n",
      "Epoch 00027: accuracy did not improve from 0.96594\n",
      "Epoch 28/30\n",
      "1732/1732 [==============================] - 70s 40ms/step - loss: 0.5901 - accuracy: 0.7846\n",
      "\n",
      "Epoch 00028: accuracy did not improve from 0.96594\n",
      "Epoch 29/30\n",
      "1732/1732 [==============================] - 72s 41ms/step - loss: 0.5922 - accuracy: 0.7846\n",
      "\n",
      "Epoch 00029: accuracy did not improve from 0.96594\n",
      "Epoch 30/30\n",
      "1732/1732 [==============================] - 64s 37ms/step - loss: 0.5936 - accuracy: 0.7846\n",
      "\n",
      "Epoch 00030: accuracy did not improve from 0.96594\n"
     ]
    }
   ],
   "source": [
    "# Had batch_size=256\n",
    "history = model.fit(x=Xtrain, y=ytrain, batch_size=10, epochs=30, callbacks=callbacks_list)"
   ]
  },
  {
   "cell_type": "code",
   "execution_count": 28,
   "metadata": {},
   "outputs": [
    {
     "data": {
      "image/png": "[encoded data removed]",
      "text/plain": [
       "<Figure size 504x504 with 1 Axes>"
      ]
     },
     "metadata": {
      "needs_background": "light"
     },
     "output_type": "display_data"
    }
   ],
   "source": [
    "plt.figure(figsize=(7,7))\n",
    "plt.grid()\n",
    "plt.plot(history.history['loss'])\n",
    "#plt.plot(history.history['val_loss'])\n",
    "plt.ylabel('Loss')\n",
    "plt.xlabel('Epochs')\n",
    "plt.legend(['Training','Validation'], loc='upper right')\n",
    "plt.savefig(\"loss_curve.pdf\")\n",
    "plt.show()"
   ]
  },
  {
   "cell_type": "code",
   "execution_count": 29,
   "metadata": {},
   "outputs": [
    {
     "data": {
      "image/png": "[encoded data removed]",
      "text/plain": [
       "<Figure size 360x360 with 1 Axes>"
      ]
     },
     "metadata": {
      "needs_background": "light"
     },
     "output_type": "display_data"
    }
   ],
   "source": [
    "plt.figure(figsize=(5,5))\n",
    "plt.ylim(0,1.1)\n",
    "plt.grid()\n",
    "plt.plot(history.history['accuracy'])\n",
    "#plt.plot(history.history['val_acc'])\n",
    "plt.ylabel('Accuracy')\n",
    "plt.xlabel('Epochs')\n",
    "plt.legend(['Training','Validation'])\n",
    "plt.savefig(\"acc_curve.pdf\")\n",
    "plt.show()"
   ]
  },
  {
   "cell_type": "markdown",
   "metadata": {},
   "source": [
    "# Validation"
   ]
  },
  {
   "cell_type": "code",
   "execution_count": 30,
   "metadata": {},
   "outputs": [],
   "source": [
    "# load best weights\n",
    "model.load_weights(\"best-model.hdf5\")\n",
    "model.compile(loss='categorical_crossentropy', optimizer=adam, metrics=['accuracy'])"
   ]
  },
  {
   "cell_type": "code",
   "execution_count": 31,
   "metadata": {},
   "outputs": [
    {
     "data": {
      "text/plain": [
       "(4044, 25, 25, 208, 1)"
      ]
     },
     "execution_count": 31,
     "metadata": {},
     "output_type": "execute_result"
    }
   ],
   "source": [
    "Xtest = Xtest.reshape(-1, windowSize, windowSize, K, 1)\n",
    "Xtest.shape"
   ]
  },
  {
   "cell_type": "code",
   "execution_count": 32,
   "metadata": {},
   "outputs": [
    {
     "data": {
      "text/plain": [
       "(4044, 3)"
      ]
     },
     "execution_count": 32,
     "metadata": {},
     "output_type": "execute_result"
    }
   ],
   "source": [
    "ytest = np_utils.to_categorical(ytest)\n",
    "ytest.shape"
   ]
  },
  {
   "cell_type": "code",
   "execution_count": 33,
   "metadata": {},
   "outputs": [
    {
     "name": "stdout",
     "output_type": "stream",
     "text": [
      "              precision    recall  f1-score   support\n",
      "\n",
      "           0       0.98      0.99      0.99      3173\n",
      "           1       0.90      0.91      0.91       794\n",
      "           2       0.67      0.44      0.53        77\n",
      "\n",
      "    accuracy                           0.96      4044\n",
      "   macro avg       0.85      0.78      0.81      4044\n",
      "weighted avg       0.96      0.96      0.96      4044\n",
      "\n"
     ]
    }
   ],
   "source": [
    "Y_pred_test = model.predict(Xtest)\n",
    "y_pred_test = np.argmax(Y_pred_test, axis=1)\n",
    "\n",
    "classification = classification_report(np.argmax(ytest, axis=1), y_pred_test)\n",
    "print(classification)"
   ]
  },
  {
   "cell_type": "code",
   "execution_count": 34,
   "metadata": {},
   "outputs": [],
   "source": [
    "def AA_andEachClassAccuracy(confusion_matrix):\n",
    "    counter = confusion_matrix.shape[0]\n",
    "    list_diag = np.diag(confusion_matrix)\n",
    "    list_raw_sum = np.sum(confusion_matrix, axis=1)\n",
    "    each_acc = np.nan_to_num(truediv(list_diag, list_raw_sum))\n",
    "    average_acc = np.mean(each_acc)\n",
    "    return each_acc, average_acc"
   ]
  },
  {
   "cell_type": "code",
   "execution_count": 35,
   "metadata": {},
   "outputs": [],
   "source": [
    "def reports (X_test,y_test,name):\n",
    "    Y_pred = model.predict(X_test)\n",
    "    y_pred = np.argmax(Y_pred, axis=1)\n",
    "    if name == 'HyperChicken':\n",
    "        target_names = ['Belt','Meat','Plastic']\n",
    "    \n",
    "    classification = classification_report(np.argmax(y_test, axis=1), y_pred, target_names=target_names)\n",
    "    oa = accuracy_score(np.argmax(y_test, axis=1), y_pred)\n",
    "    confusion = confusion_matrix(np.argmax(y_test, axis=1), y_pred)\n",
    "    each_acc, aa = AA_andEachClassAccuracy(confusion)\n",
    "    kappa = cohen_kappa_score(np.argmax(y_test, axis=1), y_pred)\n",
    "    score = model.evaluate(X_test, y_test, batch_size=32)\n",
    "    Test_Loss =  score[0]*100\n",
    "    Test_accuracy = score[1]*100\n",
    "    \n",
    "    return classification, confusion, Test_Loss, Test_accuracy, oa*100, each_acc*100, aa*100, kappa*100"
   ]
  },
  {
   "cell_type": "code",
   "execution_count": 36,
   "metadata": {},
   "outputs": [
    {
     "name": "stdout",
     "output_type": "stream",
     "text": [
      "4044/4044 [==============================] - 30s 7ms/step\n"
     ]
    }
   ],
   "source": [
    "classification, confusion, Test_loss, Test_accuracy, oa, each_acc, aa, kappa = reports(Xtest,ytest,dataset)\n",
    "classification = str(classification)\n",
    "confusion = str(confusion)\n",
    "file_name = \"classification_report.txt\"\n",
    "\n",
    "with open(file_name, 'w') as x_file:\n",
    "    x_file.write('{} Test loss (%)'.format(Test_loss))\n",
    "    x_file.write('\\n')\n",
    "    x_file.write('{} Test accuracy (%)'.format(Test_accuracy))\n",
    "    x_file.write('\\n')\n",
    "    x_file.write('\\n')\n",
    "    x_file.write('{} Kappa accuracy (%)'.format(kappa))\n",
    "    x_file.write('\\n')\n",
    "    x_file.write('{} Overall accuracy (%)'.format(oa))\n",
    "    x_file.write('\\n')\n",
    "    x_file.write('{} Average accuracy (%)'.format(aa))\n",
    "    x_file.write('\\n')\n",
    "    x_file.write('\\n')\n",
    "    x_file.write('{}'.format(classification))\n",
    "    x_file.write('\\n')\n",
    "    x_file.write('{}'.format(confusion))"
   ]
  },
  {
   "cell_type": "code",
   "execution_count": 37,
   "metadata": {},
   "outputs": [],
   "source": [
    "def Patch(data,height_index,width_index):\n",
    "    height_slice = slice(height_index, height_index+PATCH_SIZE)\n",
    "    width_slice = slice(width_index, width_index+PATCH_SIZE)\n",
    "    patch = data[height_slice, width_slice, :]\n",
    "    \n",
    "    return patch"
   ]
  },
  {
   "cell_type": "code",
   "execution_count": 38,
   "metadata": {},
   "outputs": [
    {
     "name": "stdout",
     "output_type": "stream",
     "text": [
      "loding stuff\n"
     ]
    }
   ],
   "source": [
    "# load the original image\n",
    "X, y = loadData(dataset)"
   ]
  },
  {
   "cell_type": "code",
   "execution_count": 39,
   "metadata": {},
   "outputs": [],
   "source": [
    "height = y.shape[0]\n",
    "width = y.shape[1]\n",
    "PATCH_SIZE = windowSize\n",
    "numComponents = K"
   ]
  },
  {
   "cell_type": "code",
   "execution_count": 40,
   "metadata": {},
   "outputs": [
    {
     "data": {
      "text/plain": [
       "(100, 100, 208)"
      ]
     },
     "execution_count": 40,
     "metadata": {},
     "output_type": "execute_result"
    }
   ],
   "source": [
    " 30 # if dataset == 'HyperChicken' else 15\n",
    "# X,pca = applyPCA(X,numComponents=K)\n",
    "\n",
    "X.shape"
   ]
  },
  {
   "cell_type": "code",
   "execution_count": 41,
   "metadata": {},
   "outputs": [],
   "source": [
    "# X = padWithZeros(X, PATCH_SIZE//2)"
   ]
  },
  {
   "cell_type": "code",
   "execution_count": 42,
   "metadata": {},
   "outputs": [
    {
     "data": {
      "text/plain": [
       "25"
      ]
     },
     "execution_count": 42,
     "metadata": {},
     "output_type": "execute_result"
    }
   ],
   "source": [
    "PATCH_SIZE"
   ]
  },
  {
   "cell_type": "code",
   "execution_count": 43,
   "metadata": {},
   "outputs": [],
   "source": [
    "# calculate the predicted image\n",
    "outputs = np.zeros((height,width))\n",
    "\n",
    "# This for-loop needs to be move to a function inorder to optimize with numba\n",
    "# @jit(nopython=True, parallel=True)\n",
    "for i in range(height):\n",
    "    for j in range(width):\n",
    "        target = int(y[i,j])\n",
    "        if target == 0 :           # TODO: What is this? And why is this?\n",
    "            continue\n",
    "        else :\n",
    "            image_patch=Patch(X,i,j)\n",
    "            n, m, k = image_patch.shape\n",
    "            if image_patch.shape[0] == PATCH_SIZE and image_patch.shape[1] == PATCH_SIZE:\n",
    "                X_test_image = image_patch.reshape(1, n, m, k, 1).astype('float32')\n",
    "                prediction = (model.predict(X_test_image))\n",
    "                prediction = np.argmax(prediction, axis=1)\n",
    "                outputs[i][j] = prediction+1\n",
    "            else:\n",
    "                # new_patch = np.zeros((PATCH_SIZE, PATCH_SIZE, K))\n",
    "                # TODO: Make this better\n",
    "                prediction = -1                                \n",
    "                outputs[i][j] = prediction\n"
   ]
  },
  {
   "cell_type": "code",
   "execution_count": 44,
   "metadata": {},
   "outputs": [
    {
     "data": {
      "image/png": "[encoded data removed]",
      "text/plain": [
       "<Figure size 504x504 with 1 Axes>"
      ]
     },
     "metadata": {
      "needs_background": "light"
     },
     "output_type": "display_data"
    }
   ],
   "source": [
    "ground_truth = spectral.imshow(classes = np.squeeze(y),figsize =(7,7))"
   ]
  },
  {
   "cell_type": "code",
   "execution_count": 45,
   "metadata": {},
   "outputs": [
    {
     "data": {
      "image/png": "[encoded data removed]",
      "text/plain": [
       "<Figure size 504x504 with 1 Axes>"
      ]
     },
     "metadata": {
      "needs_background": "light"
     },
     "output_type": "display_data"
    }
   ],
   "source": [
    "predict_image = spectral.imshow(classes = outputs.astype(int),figsize =(7,7))"
   ]
  },
  {
   "cell_type": "code",
   "execution_count": 46,
   "metadata": {},
   "outputs": [
    {
     "data": {
      "text/plain": [
       "(array([-1.,  0.,  1.,  2.,  3.]), array([ 169, 8587,   66, 1103,   75]))"
      ]
     },
     "execution_count": 46,
     "metadata": {},
     "output_type": "execute_result"
    }
   ],
   "source": [
    "np.unique(outputs, return_counts=True)"
   ]
  },
  {
   "cell_type": "code",
   "execution_count": 47,
   "metadata": {},
   "outputs": [],
   "source": [
    "data, labels, info = mypackage.Dataset.load(\"../../data/tomra\")\n",
    "# labels -= 1\n",
    "# data, labels = data[0], labels[0]"
   ]
  },
  {
   "cell_type": "code",
   "execution_count": 48,
   "metadata": {},
   "outputs": [
    {
     "data": {
      "text/plain": [
       "'20200213_120044_FM_fillet_repeat_sample_B_32'"
      ]
     },
     "execution_count": 48,
     "metadata": {},
     "output_type": "execute_result"
    }
   ],
   "source": [
    "info[0]"
   ]
  },
  {
   "cell_type": "code",
   "execution_count": 52,
   "metadata": {},
   "outputs": [
    {
     "data": {
      "image/png": "[encoded data removed]",
      "text/plain": [
       "<Figure size 504x504 with 1 Axes>"
      ]
     },
     "metadata": {
      "needs_background": "light"
     },
     "output_type": "display_data"
    }
   ],
   "source": [
    "fixed_outputs = outputs.copy()\n",
    "fixed_outputs[outputs == -1] = 2\n",
    "plt.figure(figsize=(7,7))\n",
    "img = plt.imshow(fixed_outputs)\n",
    "mypackage.Dataset._Dataset__add_legend_to_image(fixed_outputs, img)\n",
    "plt.show()"
   ]
  },
  {
   "cell_type": "markdown",
   "metadata": {},
   "source": [
    "### Notes on this result\n",
    "This result look disturbingly good and there is a reason for it.\n",
    "1. ~~The PCA was learned on the whole dataset (train and test).~~\n",
    "2. The Patches are heavily overlayed, since each pixel as a 25x25 patch around it.\n",
    "3. The train/test split on patches is 70%/30% and thus all type of classes are well learned and probably most next neighbour pixels are in both classes.\n",
    "\n",
    "But none the less this result shows that the class separation for various plastics is possible as one contaminant, and they are distinguishable from the rest."
   ]
  },
  {
   "cell_type": "code",
   "execution_count": 50,
   "metadata": {},
   "outputs": [
    {
     "data": {
      "text/plain": [
       "<matplotlib.image.AxesImage at 0x7f7a81fdbf98>"
      ]
     },
     "execution_count": 50,
     "metadata": {},
     "output_type": "execute_result"
    },
    {
     "data": {
      "image/png": "[encoded data removed]",
      "text/plain": [
       "<Figure size 432x288 with 1 Axes>"
      ]
     },
     "metadata": {
      "needs_background": "light"
     },
     "output_type": "display_data"
    }
   ],
   "source": [
    "plt.figure()\n",
    "plt.imshow(X[:, :, 7])"
   ]
  },
  {
   "cell_type": "code",
   "execution_count": 51,
   "metadata": {},
   "outputs": [],
   "source": [
    "spectral.save_rgb(\"prediction_Stuff.jpg\", outputs.astype(int), colors=spectral.spy_colors)"
   ]
  },
  {
   "cell_type": "markdown",
   "metadata": {},
   "source": [
    "spectral.save_rgb(str(dataset)+\"_ground_truth.jpg\", y, colors=spectral.spy_colors)"
   ]
  }
 ],
 "metadata": {
  "kernelspec": {
   "display_name": "Python 3",
   "language": "python",
   "name": "python3"
  },
  "language_info": {
   "codemirror_mode": {
    "name": "ipython",
    "version": 3
   },
   "file_extension": ".py",
   "mimetype": "text/x-python",
   "name": "python",
   "nbconvert_exporter": "python",
   "pygments_lexer": "ipython3",
   "version": "3.6.9"
  }
 },
 "nbformat": 4,
 "nbformat_minor": 2
}
