{
 "cells": [
  {
   "cell_type": "code",
   "execution_count": 4,
   "metadata": {},
   "outputs": [
    {
     "name": "stdout",
     "output_type": "stream",
     "text": [
      "The autoreload extension is already loaded. To reload it, use:\n",
      "  %reload_ext autoreload\n"
     ]
    }
   ],
   "source": [
    "# Interactive plots\n",
    "%matplotlib notebook\n",
    "\n",
    "# https://ipython.org/ipython-doc/3/config/extensions/autoreload.html\n",
    "%load_ext autoreload\n",
    "%autoreload 2\n",
    "\n",
    "import matplotlib.pyplot as plt\n",
    "import pandas as pd\n",
    "import numpy as np\n",
    "import mypackage\n",
    "import glob\n",
    "\n",
    "np.set_printoptions(precision=4)\n",
    "pd.options.display.max_rows = 4"
   ]
  },
  {
   "cell_type": "code",
   "execution_count": 5,
   "metadata": {},
   "outputs": [
    {
     "data": {
      "text/html": [
       "<div>\n",
       "<style scoped>\n",
       "    .dataframe tbody tr th:only-of-type {\n",
       "        vertical-align: middle;\n",
       "    }\n",
       "\n",
       "    .dataframe tbody tr th {\n",
       "        vertical-align: top;\n",
       "    }\n",
       "\n",
       "    .dataframe thead th {\n",
       "        text-align: right;\n",
       "    }\n",
       "</style>\n",
       "<table border=\"1\" class=\"dataframe\">\n",
       "  <thead>\n",
       "    <tr style=\"text-align: right;\">\n",
       "      <th></th>\n",
       "      <th>Type</th>\n",
       "      <th>800.43</th>\n",
       "      <th>800.68</th>\n",
       "      <th>800.93</th>\n",
       "      <th>801.17</th>\n",
       "      <th>801.42</th>\n",
       "      <th>801.67</th>\n",
       "      <th>801.92</th>\n",
       "      <th>802.17</th>\n",
       "      <th>802.41</th>\n",
       "      <th>...</th>\n",
       "      <th>2478.6</th>\n",
       "      <th>2481.0</th>\n",
       "      <th>2483.3</th>\n",
       "      <th>2485.7</th>\n",
       "      <th>2488.1</th>\n",
       "      <th>2490.5</th>\n",
       "      <th>2492.9</th>\n",
       "      <th>2495.3</th>\n",
       "      <th>2497.7</th>\n",
       "      <th>2500.1</th>\n",
       "    </tr>\n",
       "  </thead>\n",
       "  <tbody>\n",
       "    <tr>\n",
       "      <th>0</th>\n",
       "      <td>Plastic_Tube_0</td>\n",
       "      <td>1.38810</td>\n",
       "      <td>1.38980</td>\n",
       "      <td>1.41220</td>\n",
       "      <td>1.43610</td>\n",
       "      <td>1.45510</td>\n",
       "      <td>1.41660</td>\n",
       "      <td>1.38990</td>\n",
       "      <td>1.36990</td>\n",
       "      <td>1.38080</td>\n",
       "      <td>...</td>\n",
       "      <td>1.7836</td>\n",
       "      <td>1.7364</td>\n",
       "      <td>1.7186</td>\n",
       "      <td>1.7332</td>\n",
       "      <td>1.7216</td>\n",
       "      <td>1.70260</td>\n",
       "      <td>1.72400</td>\n",
       "      <td>1.76070</td>\n",
       "      <td>1.75660</td>\n",
       "      <td>1.74770</td>\n",
       "    </tr>\n",
       "    <tr>\n",
       "      <th>1</th>\n",
       "      <td>Fat_0</td>\n",
       "      <td>0.80156</td>\n",
       "      <td>0.81471</td>\n",
       "      <td>0.82090</td>\n",
       "      <td>0.81225</td>\n",
       "      <td>0.79933</td>\n",
       "      <td>0.79466</td>\n",
       "      <td>0.79840</td>\n",
       "      <td>0.80355</td>\n",
       "      <td>0.81272</td>\n",
       "      <td>...</td>\n",
       "      <td>1.8789</td>\n",
       "      <td>1.9289</td>\n",
       "      <td>1.9613</td>\n",
       "      <td>1.9575</td>\n",
       "      <td>1.9609</td>\n",
       "      <td>1.92980</td>\n",
       "      <td>1.86710</td>\n",
       "      <td>1.85500</td>\n",
       "      <td>1.83040</td>\n",
       "      <td>1.84770</td>\n",
       "    </tr>\n",
       "    <tr>\n",
       "      <th>...</th>\n",
       "      <td>...</td>\n",
       "      <td>...</td>\n",
       "      <td>...</td>\n",
       "      <td>...</td>\n",
       "      <td>...</td>\n",
       "      <td>...</td>\n",
       "      <td>...</td>\n",
       "      <td>...</td>\n",
       "      <td>...</td>\n",
       "      <td>...</td>\n",
       "      <td>...</td>\n",
       "      <td>...</td>\n",
       "      <td>...</td>\n",
       "      <td>...</td>\n",
       "      <td>...</td>\n",
       "      <td>...</td>\n",
       "      <td>...</td>\n",
       "      <td>...</td>\n",
       "      <td>...</td>\n",
       "      <td>...</td>\n",
       "      <td>...</td>\n",
       "    </tr>\n",
       "    <tr>\n",
       "      <th>72</th>\n",
       "      <td>Plastic_Liner_7</td>\n",
       "      <td>0.82905</td>\n",
       "      <td>0.81139</td>\n",
       "      <td>0.79338</td>\n",
       "      <td>0.79069</td>\n",
       "      <td>0.80060</td>\n",
       "      <td>0.80919</td>\n",
       "      <td>0.81061</td>\n",
       "      <td>0.80750</td>\n",
       "      <td>0.81187</td>\n",
       "      <td>...</td>\n",
       "      <td>1.0943</td>\n",
       "      <td>1.1002</td>\n",
       "      <td>1.1123</td>\n",
       "      <td>1.1064</td>\n",
       "      <td>1.0643</td>\n",
       "      <td>0.99794</td>\n",
       "      <td>0.94007</td>\n",
       "      <td>0.91045</td>\n",
       "      <td>0.90163</td>\n",
       "      <td>0.89998</td>\n",
       "    </tr>\n",
       "    <tr>\n",
       "      <th>73</th>\n",
       "      <td>Plastic_Liner_8</td>\n",
       "      <td>0.28886</td>\n",
       "      <td>0.28498</td>\n",
       "      <td>0.28099</td>\n",
       "      <td>0.28096</td>\n",
       "      <td>0.28322</td>\n",
       "      <td>0.28221</td>\n",
       "      <td>0.27875</td>\n",
       "      <td>0.27903</td>\n",
       "      <td>0.28404</td>\n",
       "      <td>...</td>\n",
       "      <td>1.3783</td>\n",
       "      <td>1.3591</td>\n",
       "      <td>1.3683</td>\n",
       "      <td>1.3922</td>\n",
       "      <td>1.3812</td>\n",
       "      <td>1.33500</td>\n",
       "      <td>1.29670</td>\n",
       "      <td>1.26240</td>\n",
       "      <td>1.23240</td>\n",
       "      <td>1.24080</td>\n",
       "    </tr>\n",
       "  </tbody>\n",
       "</table>\n",
       "<p>71 rows × 2204 columns</p>\n",
       "</div>"
      ],
      "text/plain": [
       "               Type   800.43   800.68   800.93   801.17   801.42   801.67  \\\n",
       "0    Plastic_Tube_0  1.38810  1.38980  1.41220  1.43610  1.45510  1.41660   \n",
       "1             Fat_0  0.80156  0.81471  0.82090  0.81225  0.79933  0.79466   \n",
       "..              ...      ...      ...      ...      ...      ...      ...   \n",
       "72  Plastic_Liner_7  0.82905  0.81139  0.79338  0.79069  0.80060  0.80919   \n",
       "73  Plastic_Liner_8  0.28886  0.28498  0.28099  0.28096  0.28322  0.28221   \n",
       "\n",
       "     801.92   802.17   802.41  ...  2478.6  2481.0  2483.3  2485.7  2488.1  \\\n",
       "0   1.38990  1.36990  1.38080  ...  1.7836  1.7364  1.7186  1.7332  1.7216   \n",
       "1   0.79840  0.80355  0.81272  ...  1.8789  1.9289  1.9613  1.9575  1.9609   \n",
       "..      ...      ...      ...  ...     ...     ...     ...     ...     ...   \n",
       "72  0.81061  0.80750  0.81187  ...  1.0943  1.1002  1.1123  1.1064  1.0643   \n",
       "73  0.27875  0.27903  0.28404  ...  1.3783  1.3591  1.3683  1.3922  1.3812   \n",
       "\n",
       "     2490.5   2492.9   2495.3   2497.7   2500.1  \n",
       "0   1.70260  1.72400  1.76070  1.75660  1.74770  \n",
       "1   1.92980  1.86710  1.85500  1.83040  1.84770  \n",
       "..      ...      ...      ...      ...      ...  \n",
       "72  0.99794  0.94007  0.91045  0.90163  0.89998  \n",
       "73  1.33500  1.29670  1.26240  1.23240  1.24080  \n",
       "\n",
       "[71 rows x 2204 columns]"
      ]
     },
     "execution_count": 5,
     "metadata": {},
     "output_type": "execute_result"
    }
   ],
   "source": [
    "def load_spectra_db():\n",
    "    def rename_database_group(substring, type_name):\n",
    "        items = database[database[\"Type\"].str.contains(substring)].index\n",
    "        for i, idx in enumerate(items):\n",
    "            database.loc[idx, \"Type\"] = f\"{type_name}_{i}\"\n",
    "        \n",
    "    file_name = \"SpectralAbsorbtionDatabase.pkl\"\n",
    "    database = pd.read_pickle(file_name)\n",
    "    database.reset_index(inplace=True)\n",
    "    database.rename(columns={\"index\": \"Type\"}, errors=\"raise\", inplace=True)\n",
    "    \n",
    "    # Remove the black plastic glove\n",
    "    database = database[database[\"Type\"].str.contains(\"black_latex_glove\") != True]\n",
    "    # Here the order does matter, since some substrings used are contained in more than one groups\n",
    "    rename_database_group(\"_fat_\", \"Fat\")\n",
    "    rename_database_group(\"chicken_\", \"Chicken\")\n",
    "    \n",
    "    rename_database_group(\"pu_belt\", \"Plastic_Pu_Belt\")\n",
    "    rename_database_group(\"blue_belt_roll\", \"Plastic_Belt\")\n",
    "    rename_database_group(\"tube\", \"Plastic_Tube\")\n",
    "    rename_database_group(\"glove\", \"Plastic_Glove\")\n",
    "    rename_database_group(\"liner\", \"Plastic_Liner\")\n",
    "    rename_database_group(\"belt\", \"Plastic_Belt\")\n",
    "    types = database[database[\"Type\"].str.contains(\"Plastic\")][\"Type\"].str.replace(\"[0-9()]+$\", \"\")\n",
    "    plastic_types = dict(enumerate(np.unique(types)))\n",
    "    \n",
    "#     plastics = database[database[\"Type\"].str.contains(\"plastic\") &  (database[\"Type\"].str.contains(\"liner\") != True)]\n",
    "    return database\n",
    "database = load_spectra_db()\n",
    "database"
   ]
  },
  {
   "cell_type": "code",
   "execution_count": 91,
   "metadata": {},
   "outputs": [
    {
     "data": {
      "text/plain": [
       "(array(['Plastic_Belt_', 'Plastic_Glove_', 'Plastic_Liner_',\n",
       "        'Plastic_Pu_Belt_', 'Plastic_Tube_'], dtype=object),\n",
       " {0: 'Plastic_Belt_',\n",
       "  1: 'Plastic_Glove_',\n",
       "  2: 'Plastic_Liner_',\n",
       "  3: 'Plastic_Pu_Belt_',\n",
       "  4: 'Plastic_Tube_'})"
      ]
     },
     "execution_count": 91,
     "metadata": {},
     "output_type": "execute_result"
    }
   ],
   "source": []
  },
  {
   "cell_type": "markdown",
   "metadata": {},
   "source": [
    "### TODO: Use the labels for the TOMRA dataset as the labels for the fake dataset and just fill in the image"
   ]
  },
  {
   "cell_type": "code",
   "execution_count": 6,
   "metadata": {},
   "outputs": [],
   "source": [
    "labels_path = \"../data/tomra/\"\n",
    "_, labels, _ = mypackage.Dataset.load(labels_path, only_with_contaminant=True) # load_labels(labels_path)"
   ]
  },
  {
   "cell_type": "code",
   "execution_count": 7,
   "metadata": {},
   "outputs": [
    {
     "data": {
      "text/plain": [
       "((24, 100, 100, 1),\n",
       " (array([1, 2, 3], dtype=int32), array([200211,  36685,   3104])),\n",
       " (array([1, 2, 3], dtype=int32), array([8587, 1303,  110])))"
      ]
     },
     "execution_count": 7,
     "metadata": {},
     "output_type": "execute_result"
    }
   ],
   "source": [
    "labels.shape, np.unique(labels, return_counts=True), np.unique(labels[0], return_counts=True)"
   ]
  },
  {
   "cell_type": "code",
   "execution_count": 13,
   "metadata": {},
   "outputs": [],
   "source": [
    "def generate_image(base_label):\n",
    "    ''''Generates fake images based in the initialized FakeDataset parameters\n",
    "\n",
    "        # Where x is the generated image and y is the corresponding label\n",
    "        returns x, y'''\n",
    "    # TODO: Fill the x image with randomly selected spectra (with replacement) based on the label\n",
    "    #             np.random.choice(spectras_of_type, pixels_needed, replace=True)\n",
    "    y = base_label\n",
    "    x = 0# TODO:...\n",
    "    return x, y\n",
    "\n",
    "def get_images(numb_images):\n",
    "    X, Y = [], []\n",
    "    numb_available_labels = len(labels) # \n",
    "    selected_labels = np.random.choice(numb_available_labels, numb_images, replace=False)\n",
    "    for i in selected_labels:\n",
    "        x, y = generate_image(labels[i])\n",
    "        X.append(x)\n",
    "        Y.append(y)\n",
    "    return np.array(X), np.array(Y)\n",
    "\n",
    "X, Y = get_images(numb_images=1);"
   ]
  },
  {
   "cell_type": "code",
   "execution_count": 16,
   "metadata": {},
   "outputs": [
    {
     "data": {
      "text/plain": [
       "float"
      ]
     },
     "execution_count": 16,
     "metadata": {},
     "output_type": "execute_result"
    }
   ],
   "source": [
    "type(database.columns[1])"
   ]
  },
  {
   "cell_type": "code",
   "execution_count": 39,
   "metadata": {},
   "outputs": [
    {
     "name": "stdout",
     "output_type": "stream",
     "text": [
      "(8580,)\n",
      "1\n"
     ]
    },
    {
     "ename": "IndexError",
     "evalue": "boolean index did not match indexed array along dimension 2; dimension is 2203 but corresponding boolean dimension is 1",
     "output_type": "error",
     "traceback": [
      "\u001b[0;31m---------------------------------------------------------------------------\u001b[0m",
      "\u001b[0;31mIndexError\u001b[0m                                Traceback (most recent call last)",
      "\u001b[0;32m<ipython-input-39-fa5c3bb17295>\u001b[0m in \u001b[0;36m<module>\u001b[0;34m\u001b[0m\n\u001b[1;32m      1\u001b[0m \u001b[0mfake_data\u001b[0m \u001b[0;34m=\u001b[0m \u001b[0mmypackage\u001b[0m\u001b[0;34m.\u001b[0m\u001b[0mFakeDataset\u001b[0m\u001b[0;34m(\u001b[0m\u001b[0;34m)\u001b[0m\u001b[0;34m\u001b[0m\u001b[0;34m\u001b[0m\u001b[0m\n\u001b[0;32m----> 2\u001b[0;31m \u001b[0mfake_data\u001b[0m\u001b[0;34m.\u001b[0m\u001b[0mget_images\u001b[0m\u001b[0;34m(\u001b[0m\u001b[0;36m1\u001b[0m\u001b[0;34m)\u001b[0m\u001b[0;34m\u001b[0m\u001b[0;34m\u001b[0m\u001b[0m\n\u001b[0m",
      "\u001b[0;32m~.local/lib/python3.6/site-packages/mypackage/DataManipulation/fake_data.py\u001b[0m in \u001b[0;36mget_images\u001b[0;34m(self, numb_images)\u001b[0m\n\u001b[1;32m     91\u001b[0m         \u001b[0mselected_labels\u001b[0m \u001b[0;34m=\u001b[0m \u001b[0mnp\u001b[0m\u001b[0;34m.\u001b[0m\u001b[0mrandom\u001b[0m\u001b[0;34m.\u001b[0m\u001b[0mchoice\u001b[0m\u001b[0;34m(\u001b[0m\u001b[0mnumb_available_labels\u001b[0m\u001b[0;34m,\u001b[0m \u001b[0mnumb_images\u001b[0m\u001b[0;34m,\u001b[0m \u001b[0mreplace\u001b[0m\u001b[0;34m=\u001b[0m\u001b[0;32mFalse\u001b[0m\u001b[0;34m)\u001b[0m\u001b[0;34m\u001b[0m\u001b[0;34m\u001b[0m\u001b[0m\n\u001b[1;32m     92\u001b[0m         \u001b[0;32mfor\u001b[0m \u001b[0mi\u001b[0m \u001b[0;32min\u001b[0m \u001b[0mselected_labels\u001b[0m\u001b[0;34m:\u001b[0m\u001b[0;34m\u001b[0m\u001b[0;34m\u001b[0m\u001b[0m\n\u001b[0;32m---> 93\u001b[0;31m             \u001b[0mx\u001b[0m\u001b[0;34m,\u001b[0m \u001b[0my\u001b[0m \u001b[0;34m=\u001b[0m \u001b[0mself\u001b[0m\u001b[0;34m.\u001b[0m\u001b[0mgenerate_image\u001b[0m\u001b[0;34m(\u001b[0m\u001b[0mlabels\u001b[0m\u001b[0;34m[\u001b[0m\u001b[0mi\u001b[0m\u001b[0;34m]\u001b[0m\u001b[0;34m)\u001b[0m\u001b[0;34m\u001b[0m\u001b[0;34m\u001b[0m\u001b[0m\n\u001b[0m\u001b[1;32m     94\u001b[0m             \u001b[0mX\u001b[0m\u001b[0;34m.\u001b[0m\u001b[0mappend\u001b[0m\u001b[0;34m(\u001b[0m\u001b[0mx\u001b[0m\u001b[0;34m)\u001b[0m\u001b[0;34m\u001b[0m\u001b[0;34m\u001b[0m\u001b[0m\n\u001b[1;32m     95\u001b[0m             \u001b[0mY\u001b[0m\u001b[0;34m.\u001b[0m\u001b[0mappend\u001b[0m\u001b[0;34m(\u001b[0m\u001b[0my\u001b[0m\u001b[0;34m)\u001b[0m\u001b[0;34m\u001b[0m\u001b[0;34m\u001b[0m\u001b[0m\n",
      "\u001b[0;32m~.local/lib/python3.6/site-packages/mypackage/DataManipulation/fake_data.py\u001b[0m in \u001b[0;36mgenerate_image\u001b[0;34m(self, base_label)\u001b[0m\n\u001b[1;32m     79\u001b[0m         \u001b[0;32melse\u001b[0m\u001b[0;34m:\u001b[0m\u001b[0;34m\u001b[0m\u001b[0;34m\u001b[0m\u001b[0m\n\u001b[1;32m     80\u001b[0m             \u001b[0my\u001b[0m \u001b[0;34m=\u001b[0m \u001b[0mbase_label\u001b[0m\u001b[0;34m\u001b[0m\u001b[0;34m\u001b[0m\u001b[0m\n\u001b[0;32m---> 81\u001b[0;31m         \u001b[0mx\u001b[0m\u001b[0;34m[\u001b[0m\u001b[0my\u001b[0m \u001b[0;34m==\u001b[0m \u001b[0mTYPE_BACKGROUND\u001b[0m\u001b[0;34m]\u001b[0m \u001b[0;34m=\u001b[0m \u001b[0mself\u001b[0m\u001b[0;34m.\u001b[0m\u001b[0m__collect_samples\u001b[0m\u001b[0;34m(\u001b[0m\u001b[0mTYPE_BACKGROUND\u001b[0m\u001b[0;34m,\u001b[0m \u001b[0my\u001b[0m\u001b[0;34m[\u001b[0m\u001b[0my\u001b[0m\u001b[0;34m==\u001b[0m\u001b[0mTYPE_BACKGROUND\u001b[0m\u001b[0;34m]\u001b[0m\u001b[0;34m.\u001b[0m\u001b[0mshape\u001b[0m\u001b[0;34m)\u001b[0m\u001b[0;34m\u001b[0m\u001b[0;34m\u001b[0m\u001b[0m\n\u001b[0m\u001b[1;32m     82\u001b[0m \u001b[0;34m\u001b[0m\u001b[0m\n\u001b[1;32m     83\u001b[0m         \u001b[0;32mreturn\u001b[0m \u001b[0mx\u001b[0m\u001b[0;34m,\u001b[0m \u001b[0my\u001b[0m\u001b[0;34m\u001b[0m\u001b[0;34m\u001b[0m\u001b[0m\n",
      "\u001b[0;31mIndexError\u001b[0m: boolean index did not match indexed array along dimension 2; dimension is 2203 but corresponding boolean dimension is 1"
     ]
    }
   ],
   "source": [
    "fake_data = mypackage.FakeDataset()\n",
    "fake_data.get_images(1)"
   ]
  },
  {
   "cell_type": "code",
   "execution_count": 38,
   "metadata": {},
   "outputs": [
    {
     "data": {
      "text/plain": [
       "(array([1, 2, 3], dtype=int32), array([8587, 1303,  110]))"
      ]
     },
     "execution_count": 38,
     "metadata": {},
     "output_type": "execute_result"
    }
   ],
   "source": [
    "x = np.zeros((100, 100, 208))\n",
    "y = labels[0]\n",
    "np.unique(y, return_counts=True)"
   ]
  },
  {
   "cell_type": "code",
   "execution_count": 49,
   "metadata": {},
   "outputs": [
    {
     "ename": "IndexError",
     "evalue": "too many indices for array",
     "output_type": "error",
     "traceback": [
      "\u001b[0;31m---------------------------------------------------------------------------\u001b[0m",
      "\u001b[0;31mIndexError\u001b[0m                                Traceback (most recent call last)",
      "\u001b[0;32m<ipython-input-49-20e12aaf4117>\u001b[0m in \u001b[0;36m<module>\u001b[0;34m\u001b[0m\n\u001b[0;32m----> 1\u001b[0;31m \u001b[0mx\u001b[0m\u001b[0;34m[\u001b[0m\u001b[0my\u001b[0m\u001b[0;34m==\u001b[0m\u001b[0;36m1\u001b[0m\u001b[0;34m,\u001b[0m \u001b[0;34m:\u001b[0m\u001b[0;34m]\u001b[0m\u001b[0;34m\u001b[0m\u001b[0;34m\u001b[0m\u001b[0m\n\u001b[0m",
      "\u001b[0;31mIndexError\u001b[0m: too many indices for array"
     ]
    }
   ],
   "source": [
    "x[y==1]"
   ]
  }
 ],
 "metadata": {
  "kernelspec": {
   "display_name": "Python 3",
   "language": "python",
   "name": "python3"
  },
  "language_info": {
   "codemirror_mode": {
    "name": "ipython",
    "version": 3
   },
   "file_extension": ".py",
   "mimetype": "text/x-python",
   "name": "python",
   "nbconvert_exporter": "python",
   "pygments_lexer": "ipython3",
   "version": "3.6.9"
  }
 },
 "nbformat": 4,
 "nbformat_minor": 4
}
