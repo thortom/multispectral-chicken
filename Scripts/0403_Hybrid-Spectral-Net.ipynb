{
 "cells": [
  {
   "cell_type": "code",
   "execution_count": 153,
   "metadata": {},
   "outputs": [
    {
     "name": "stdout",
     "output_type": "stream",
     "text": [
      "The autoreload extension is already loaded. To reload it, use:\n",
      "  %reload_ext autoreload\n"
     ]
    },
    {
     "data": {
      "text/html": [
       "        <script type=\"text/javascript\">\n",
       "        window.PlotlyConfig = {MathJaxConfig: 'local'};\n",
       "        if (window.MathJax) {MathJax.Hub.Config({SVG: {font: \"STIX-Web\"}});}\n",
       "        if (typeof require !== 'undefined') {\n",
       "        require.undef(\"plotly\");\n",
       "        requirejs.config({\n",
       "            paths: {\n",
       "                'plotly': ['https://cdn.plot.ly/plotly-latest.min']\n",
       "            }\n",
       "        });\n",
       "        require(['plotly'], function(Plotly) {\n",
       "            window._Plotly = Plotly;\n",
       "        });\n",
       "        }\n",
       "        </script>\n",
       "        "
      ]
     },
     "metadata": {},
     "output_type": "display_data"
    }
   ],
   "source": [
    "# Code from: https://github.com/gokriznastic/HybridSN\n",
    "%load_ext autoreload\n",
    "%autoreload 2\n",
    "\n",
    "import mypackage\n",
    "\n",
    "import keras\n",
    "from keras.layers import Conv2D, Conv3D, Flatten, Dense, Reshape, BatchNormalization\n",
    "from keras.layers import Dropout, Input\n",
    "from keras.models import Model\n",
    "from keras.optimizers import Adam\n",
    "from keras.callbacks import ModelCheckpoint\n",
    "from keras.utils import np_utils\n",
    "\n",
    "from sklearn.decomposition import PCA\n",
    "from sklearn.model_selection import train_test_split\n",
    "from sklearn.metrics import confusion_matrix, accuracy_score, classification_report, cohen_kappa_score\n",
    "\n",
    "from operator import truediv\n",
    "\n",
    "from plotly.offline import init_notebook_mode\n",
    "\n",
    "import numpy as np\n",
    "import matplotlib.pyplot as plt\n",
    "import scipy.io as sio\n",
    "import os\n",
    "import spectral\n",
    "\n",
    "init_notebook_mode(connected=True)\n",
    "%matplotlib inline"
   ]
  },
  {
   "cell_type": "markdown",
   "metadata": {},
   "source": [
    "# Data Loading"
   ]
  },
  {
   "cell_type": "code",
   "execution_count": 154,
   "metadata": {},
   "outputs": [],
   "source": [
    "## GLOBAL VARIABLES\n",
    "test_ratio = 0.3\n",
    "windowSize = 100"
   ]
  },
  {
   "cell_type": "code",
   "execution_count": 155,
   "metadata": {},
   "outputs": [],
   "source": [
    "def loadData():\n",
    "    data, labels, info = mypackage.Dataset.load(\"../../Code/data/tomra\")\n",
    "    labels -= 1\n",
    "    return data, labels"
   ]
  },
  {
   "cell_type": "code",
   "execution_count": 156,
   "metadata": {},
   "outputs": [
    {
     "data": {
      "text/plain": [
       "((34, 100, 100, 208), (34, 100, 100, 1))"
      ]
     },
     "execution_count": 156,
     "metadata": {},
     "output_type": "execute_result"
    }
   ],
   "source": [
    "X, y = loadData()\n",
    "\n",
    "X.shape, y.shape"
   ]
  },
  {
   "cell_type": "code",
   "execution_count": 157,
   "metadata": {},
   "outputs": [
    {
     "data": {
      "text/plain": [
       "array([0, 1, 2], dtype=int32)"
      ]
     },
     "execution_count": 157,
     "metadata": {},
     "output_type": "execute_result"
    }
   ],
   "source": [
    "np.unique(y)"
   ]
  },
  {
   "cell_type": "code",
   "execution_count": 158,
   "metadata": {},
   "outputs": [
    {
     "data": {
      "text/plain": [
       "((23, 100, 100, 208),\n",
       " (11, 100, 100, 208),\n",
       " (23, 100, 100, 1),\n",
       " (11, 100, 100, 1))"
      ]
     },
     "execution_count": 158,
     "metadata": {},
     "output_type": "execute_result"
    }
   ],
   "source": [
    "Xtrain, Xtest, ytrain, ytest = mypackage.Dataset.train_test_split(X, y, test_ratio)\n",
    "# ytrain, ytest = np.squeeze(ytrain), np.squeeze(ytest)\n",
    "\n",
    "Xtrain.shape, Xtest.shape, ytrain.shape, ytest.shape"
   ]
  },
  {
   "cell_type": "code",
   "execution_count": 159,
   "metadata": {},
   "outputs": [],
   "source": [
    "K = X.shape[-1]\n",
    "# Xtrain, Xtest = mypackage.Dataset.PCA(Xtrain, Xtest, n_components=K)\n",
    "\n",
    "# Xtrain.shape"
   ]
  },
  {
   "cell_type": "markdown",
   "metadata": {},
   "source": [
    "Xtrain, Xvalid, ytrain, yvalid = splitTrainTestSet(Xtrain, ytrain, 0.3333)\n",
    "\n",
    "Xtrain.shape, Xvalid.shape, ytrain.shape, yvalid.shape"
   ]
  },
  {
   "cell_type": "markdown",
   "metadata": {},
   "source": [
    "# Model and Training"
   ]
  },
  {
   "cell_type": "code",
   "execution_count": 160,
   "metadata": {},
   "outputs": [
    {
     "data": {
      "text/plain": [
       "(23, 100, 100, 208, 1)"
      ]
     },
     "execution_count": 160,
     "metadata": {},
     "output_type": "execute_result"
    }
   ],
   "source": [
    "Xtrain = Xtrain.reshape(-1, windowSize, windowSize, K, 1)\n",
    "Xtrain.shape"
   ]
  },
  {
   "cell_type": "code",
   "execution_count": 161,
   "metadata": {},
   "outputs": [
    {
     "data": {
      "text/plain": [
       "array([0, 1, 2], dtype=int32)"
      ]
     },
     "execution_count": 161,
     "metadata": {},
     "output_type": "execute_result"
    }
   ],
   "source": [
    "np.unique(ytrain)"
   ]
  },
  {
   "cell_type": "code",
   "execution_count": 162,
   "metadata": {},
   "outputs": [
    {
     "data": {
      "text/plain": [
       "(23, 100, 100, 3)"
      ]
     },
     "execution_count": 162,
     "metadata": {},
     "output_type": "execute_result"
    }
   ],
   "source": [
    "ytrain = np_utils.to_categorical(ytrain)\n",
    "ytrain.shape"
   ]
  },
  {
   "cell_type": "code",
   "execution_count": 163,
   "metadata": {},
   "outputs": [],
   "source": [
    "S = windowSize\n",
    "L = K\n",
    "output_units = ytrain.shape[-1]"
   ]
  },
  {
   "cell_type": "markdown",
   "metadata": {},
   "source": [
    "## TODO:\n",
    "Add the upsampling\n",
    "\n",
    "https://towardsdatascience.com/understanding-semantic-segmentation-with-unet-6be4f42d4b47\n",
    "\n",
    "https://github.com/hlamba28/UNET-TGS/blob/master/TGS%20UNET.ipynb\n",
    "\n",
    "###########################\n",
    "\n",
    "https://github.com/zhixuhao/unet\n",
    "\n",
    "https://github.com/karolzak/keras-unet\n",
    "\n",
    "https://www.kaggle.com/krishanudb/keras-based-unet-model-construction-tutorial"
   ]
  },
  {
   "cell_type": "markdown",
   "metadata": {},
   "source": [
    "### Kernel size\n",
    "The first kernel depth shoud probably cover close to 100nm, which is about 28 channels. Maybe 50nm is sufficient, that is about 16 channels."
   ]
  },
  {
   "cell_type": "code",
   "execution_count": 164,
   "metadata": {},
   "outputs": [],
   "source": [
    "from keras.layers import Input, BatchNormalization, Activation, Dense, Dropout\n",
    "from keras.layers.convolutional import Conv2D, Conv2DTranspose\n",
    "from keras.layers.pooling import MaxPooling2D, GlobalMaxPool2D\n",
    "from keras.layers.merge import concatenate, add\n",
    "\n",
    "# Code from: https://towardsdatascience.com/understanding-semantic-segmentation-with-unet-6be4f42d4b47\n",
    "def conv2d_block(input_tensor, n_filters, kernel_size = 3, strides=1, batchnorm = True):\n",
    "    \"\"\"Function to add 2 convolutional layers with the parameters passed to it\"\"\"\n",
    "    # first layer\n",
    "    x = Conv2D(filters = n_filters, kernel_size = (kernel_size, kernel_size), strides=strides,\\\n",
    "              kernel_initializer = 'he_normal', padding = 'same')(input_tensor)\n",
    "    if batchnorm:\n",
    "        x = BatchNormalization()(x)\n",
    "    x = Activation('relu')(x)\n",
    "    \n",
    "#     # second layer\n",
    "#     x = Conv2D(filters = n_filters, kernel_size = (kernel_size, kernel_size), strides=2,\\\n",
    "#               kernel_initializer = 'he_normal', padding = 'same')(input_tensor)\n",
    "#     if batchnorm:\n",
    "#         x = BatchNormalization()(x)\n",
    "#     x = Activation('relu')(x)\n",
    "    \n",
    "    return x"
   ]
  },
  {
   "cell_type": "code",
   "execution_count": 165,
   "metadata": {},
   "outputs": [
    {
     "name": "stdout",
     "output_type": "stream",
     "text": [
      "c4: (None, 12, 12, 64)\n",
      "u6: (None, 12, 12, 64)\n",
      "Model: \"model_33\"\n",
      "__________________________________________________________________________________________________\n",
      "Layer (type)                    Output Shape         Param #     Connected to                     \n",
      "==================================================================================================\n",
      "input_59 (InputLayer)           (None, 100, 100, 208 0                                            \n",
      "__________________________________________________________________________________________________\n",
      "conv3d_175 (Conv3D)             (None, 98, 98, 68, 8 512         input_59[0][0]                   \n",
      "__________________________________________________________________________________________________\n",
      "conv3d_176 (Conv3D)             (None, 48, 48, 22, 1 5776        conv3d_175[0][0]                 \n",
      "__________________________________________________________________________________________________\n",
      "conv3d_177 (Conv3D)             (None, 23, 23, 7, 32 13856       conv3d_176[0][0]                 \n",
      "__________________________________________________________________________________________________\n",
      "reshape_59 (Reshape)            (None, 23, 23, 224)  0           conv3d_177[0][0]                 \n",
      "__________________________________________________________________________________________________\n",
      "conv2d_351 (Conv2D)             (None, 12, 12, 64)   129088      reshape_59[0][0]                 \n",
      "__________________________________________________________________________________________________\n",
      "batch_normalization_318 (BatchN (None, 12, 12, 64)   256         conv2d_351[0][0]                 \n",
      "__________________________________________________________________________________________________\n",
      "activation_317 (Activation)     (None, 12, 12, 64)   0           batch_normalization_318[0][0]    \n",
      "__________________________________________________________________________________________________\n",
      "dropout_174 (Dropout)           (None, 12, 12, 64)   0           activation_317[0][0]             \n",
      "__________________________________________________________________________________________________\n",
      "conv2d_352 (Conv2D)             (None, 6, 6, 128)    73856       dropout_174[0][0]                \n",
      "__________________________________________________________________________________________________\n",
      "batch_normalization_319 (BatchN (None, 6, 6, 128)    512         conv2d_352[0][0]                 \n",
      "__________________________________________________________________________________________________\n",
      "activation_318 (Activation)     (None, 6, 6, 128)    0           batch_normalization_319[0][0]    \n",
      "__________________________________________________________________________________________________\n",
      "conv2d_transpose_138 (Conv2DTra (None, 12, 12, 64)   73792       activation_318[0][0]             \n",
      "__________________________________________________________________________________________________\n",
      "concatenate_51 (Concatenate)    (None, 12, 12, 128)  0           conv2d_transpose_138[0][0]       \n",
      "                                                                 activation_317[0][0]             \n",
      "__________________________________________________________________________________________________\n",
      "dropout_175 (Dropout)           (None, 12, 12, 128)  0           concatenate_51[0][0]             \n",
      "__________________________________________________________________________________________________\n",
      "conv2d_353 (Conv2D)             (None, 12, 12, 64)   73792       dropout_175[0][0]                \n",
      "__________________________________________________________________________________________________\n",
      "batch_normalization_320 (BatchN (None, 12, 12, 64)   256         conv2d_353[0][0]                 \n",
      "__________________________________________________________________________________________________\n",
      "activation_319 (Activation)     (None, 12, 12, 64)   0           batch_normalization_320[0][0]    \n",
      "__________________________________________________________________________________________________\n",
      "conv2d_transpose_139 (Conv2DTra (None, 24, 24, 32)   18464       activation_319[0][0]             \n",
      "__________________________________________________________________________________________________\n",
      "dropout_176 (Dropout)           (None, 24, 24, 32)   0           conv2d_transpose_139[0][0]       \n",
      "__________________________________________________________________________________________________\n",
      "conv2d_354 (Conv2D)             (None, 24, 24, 32)   9248        dropout_176[0][0]                \n",
      "__________________________________________________________________________________________________\n",
      "batch_normalization_321 (BatchN (None, 24, 24, 32)   128         conv2d_354[0][0]                 \n",
      "__________________________________________________________________________________________________\n",
      "activation_320 (Activation)     (None, 24, 24, 32)   0           batch_normalization_321[0][0]    \n",
      "__________________________________________________________________________________________________\n",
      "conv2d_transpose_140 (Conv2DTra (None, 48, 48, 16)   4624        activation_320[0][0]             \n",
      "__________________________________________________________________________________________________\n",
      "dropout_177 (Dropout)           (None, 48, 48, 16)   0           conv2d_transpose_140[0][0]       \n",
      "__________________________________________________________________________________________________\n",
      "conv2d_355 (Conv2D)             (None, 48, 48, 16)   2320        dropout_177[0][0]                \n",
      "__________________________________________________________________________________________________\n",
      "batch_normalization_322 (BatchN (None, 48, 48, 16)   64          conv2d_355[0][0]                 \n",
      "__________________________________________________________________________________________________\n",
      "activation_321 (Activation)     (None, 48, 48, 16)   0           batch_normalization_322[0][0]    \n",
      "__________________________________________________________________________________________________\n",
      "conv2d_transpose_141 (Conv2DTra (None, 96, 96, 8)    1160        activation_321[0][0]             \n",
      "__________________________________________________________________________________________________\n",
      "dropout_178 (Dropout)           (None, 96, 96, 8)    0           conv2d_transpose_141[0][0]       \n",
      "__________________________________________________________________________________________________\n",
      "conv2d_356 (Conv2D)             (None, 96, 96, 8)    584         dropout_178[0][0]                \n",
      "__________________________________________________________________________________________________\n",
      "batch_normalization_323 (BatchN (None, 96, 96, 8)    32          conv2d_356[0][0]                 \n",
      "__________________________________________________________________________________________________\n",
      "activation_322 (Activation)     (None, 96, 96, 8)    0           batch_normalization_323[0][0]    \n",
      "__________________________________________________________________________________________________\n",
      "conv2d_357 (Conv2D)             (None, 96, 96, 3)    27          activation_322[0][0]             \n",
      "==================================================================================================\n",
      "Total params: 408,347\n",
      "Trainable params: 407,723\n",
      "Non-trainable params: 624\n",
      "__________________________________________________________________________________________________\n"
     ]
    }
   ],
   "source": [
    "batchnorm = True\n",
    "n_filters = 8\n",
    "dropout = 0.1\n",
    "\n",
    "## input layer\n",
    "input_layer = Input((S, S, L, 1))\n",
    "\n",
    "## convolutional layers\n",
    "conv_layer1 = Conv3D(n_filters * 1, kernel_size=(3, 3, 7), strides=(1, 1, 3), activation='relu')(input_layer)\n",
    "conv_layer2 = Conv3D(n_filters * 2, kernel_size=(3, 3, 5), strides=(2, 2, 3), activation='relu')(conv_layer1)\n",
    "conv_layer3 = Conv3D(n_filters * 4, kernel_size=(3, 3, 3), strides=(2, 2, 3), activation='relu')(conv_layer2)\n",
    "conv3d_shape = conv_layer3._keras_shape\n",
    "conv_layer3 = Reshape((conv3d_shape[1], conv3d_shape[2], conv3d_shape[3]*conv3d_shape[4]))(conv_layer3)\n",
    "\n",
    "# conv_layer4 = Conv2D(filters=64, kernel_size=(3,3), activation='relu')(conv_layer3)\n",
    "\n",
    "c4 = conv2d_block(conv_layer3, n_filters * 8, kernel_size = 3, strides=2, batchnorm = batchnorm)\n",
    "# p4 = MaxPooling2D((2, 2))(c4)\n",
    "p4 = Dropout(dropout)(c4)\n",
    "\n",
    "c5 = conv2d_block(p4, n_filters = n_filters * 16, kernel_size = 3, strides=2, batchnorm = batchnorm)\n",
    "print(f\"c4: {c4._keras_shape}\")\n",
    "\n",
    "# Expansive Path\n",
    "u6 = Conv2DTranspose(n_filters * 8, (3, 3), strides = (2, 2), padding = 'same')(c5)\n",
    "print(f\"u6: {u6._keras_shape}\")\n",
    "u6 = concatenate([u6, c4])\n",
    "u6 = Dropout(dropout)(u6)\n",
    "c6 = conv2d_block(u6, n_filters * 8, kernel_size = 3, batchnorm = batchnorm)\n",
    "\n",
    "u7 = Conv2DTranspose(n_filters * 4, (3, 3), strides = (2, 2), padding = 'same')(c6)\n",
    "# u7 = concatenate([u7, conv_layer3]) # TODO: Maybe use https://keras.io/layers/pooling/ # MaxPooling3D to reduce the spectral dimension\n",
    "u7 = Dropout(dropout)(u7)\n",
    "c7 = conv2d_block(u7, n_filters * 4, kernel_size = 3, batchnorm = batchnorm)\n",
    "\n",
    "u8 = Conv2DTranspose(n_filters * 2, (3, 3), strides = (2, 2), padding = 'same')(c7)\n",
    "# u8 = concatenate([u8, conv_layer2])\n",
    "u8 = Dropout(dropout)(u8)\n",
    "c8 = conv2d_block(u8, n_filters * 2, kernel_size = 3, batchnorm = batchnorm)\n",
    "\n",
    "u9 = Conv2DTranspose(n_filters * 1, (3, 3), strides = (2, 2), padding = 'same')(c8)\n",
    "# u9 = concatenate([u9, conv_layer1])\n",
    "u9 = Dropout(dropout)(u9)\n",
    "c9 = conv2d_block(u9, n_filters * 1, kernel_size = 3, batchnorm = batchnorm)\n",
    "\n",
    "outputs = Conv2D(output_units, (1, 1), activation='sigmoid')(c9)\n",
    "model = Model(inputs=input_layer, outputs=outputs)\n",
    "model.summary()"
   ]
  },
  {
   "cell_type": "code",
   "execution_count": 166,
   "metadata": {},
   "outputs": [],
   "source": [
    "# compiling the model\n",
    "adam = Adam(lr=0.001, decay=1e-06)\n",
    "model.compile(loss='categorical_crossentropy', optimizer=adam, metrics=['accuracy'])"
   ]
  },
  {
   "cell_type": "code",
   "execution_count": 167,
   "metadata": {},
   "outputs": [],
   "source": [
    "# checkpoint\n",
    "filepath = \"best-model.hdf5\"\n",
    "checkpoint = ModelCheckpoint(filepath, monitor='accuracy', verbose=1, save_best_only=True, mode='max')\n",
    "callbacks_list = [checkpoint]"
   ]
  },
  {
   "cell_type": "code",
   "execution_count": 168,
   "metadata": {},
   "outputs": [
    {
     "data": {
      "text/plain": [
       "((23, 100, 100, 208, 1), (23, 100, 100, 3))"
      ]
     },
     "execution_count": 168,
     "metadata": {},
     "output_type": "execute_result"
    }
   ],
   "source": [
    "Xtrain.shape, ytrain.shape"
   ]
  },
  {
   "cell_type": "code",
   "execution_count": 169,
   "metadata": {},
   "outputs": [
    {
     "data": {
      "text/plain": [
       "(23, 96, 96, 3)"
      ]
     },
     "execution_count": 169,
     "metadata": {},
     "output_type": "execute_result"
    }
   ],
   "source": [
    "ytrain[:, 2:-2, 2:-2, :].shape"
   ]
  },
  {
   "cell_type": "code",
   "execution_count": 149,
   "metadata": {},
   "outputs": [],
   "source": [
    "# import matplotlib.pyplot as plt\n",
    "# plt.imshow(ytrain[0])"
   ]
  },
  {
   "cell_type": "code",
   "execution_count": 172,
   "metadata": {},
   "outputs": [
    {
     "name": "stdout",
     "output_type": "stream",
     "text": [
      "Epoch 1/10\n",
      "23/23 [==============================] - 12s 529ms/step - loss: 0.8491 - accuracy: 0.8147\n",
      "\n",
      "Epoch 00001: accuracy improved from 0.81297 to 0.81470, saving model to best-model.hdf5\n",
      "Epoch 2/10\n",
      "23/23 [==============================] - 10s 422ms/step - loss: 0.8451 - accuracy: 0.8157\n",
      "\n",
      "Epoch 00002: accuracy improved from 0.81470 to 0.81567, saving model to best-model.hdf5\n",
      "Epoch 3/10\n",
      "23/23 [==============================] - 8s 326ms/step - loss: 0.8412 - accuracy: 0.8154\n",
      "\n",
      "Epoch 00003: accuracy did not improve from 0.81567\n",
      "Epoch 4/10\n",
      "23/23 [==============================] - 9s 391ms/step - loss: 0.8371 - accuracy: 0.8151\n",
      "\n",
      "Epoch 00004: accuracy did not improve from 0.81567\n",
      "Epoch 5/10\n",
      "23/23 [==============================] - 8s 362ms/step - loss: 0.8337 - accuracy: 0.8145\n",
      "\n",
      "Epoch 00005: accuracy did not improve from 0.81567\n",
      "Epoch 6/10\n",
      "23/23 [==============================] - 8s 327ms/step - loss: 0.8299 - accuracy: 0.8135\n",
      "\n",
      "Epoch 00006: accuracy did not improve from 0.81567\n",
      "Epoch 7/10\n",
      "23/23 [==============================] - 8s 359ms/step - loss: 0.8261 - accuracy: 0.8134\n",
      "\n",
      "Epoch 00007: accuracy did not improve from 0.81567\n",
      "Epoch 8/10\n",
      "23/23 [==============================] - 11s 499ms/step - loss: 0.8227 - accuracy: 0.8124\n",
      "\n",
      "Epoch 00008: accuracy did not improve from 0.81567\n",
      "Epoch 9/10\n",
      "23/23 [==============================] - 11s 462ms/step - loss: 0.8196 - accuracy: 0.8116\n",
      "\n",
      "Epoch 00009: accuracy did not improve from 0.81567\n",
      "Epoch 10/10\n",
      "23/23 [==============================] - 11s 462ms/step - loss: 0.8159 - accuracy: 0.8122\n",
      "\n",
      "Epoch 00010: accuracy did not improve from 0.81567\n"
     ]
    }
   ],
   "source": [
    "# Had batch_size=256\n",
    "history = model.fit(x=Xtrain, y=ytrain[:, 2:-2, 2:-2, :], batch_size=50, epochs=10, callbacks=callbacks_list)"
   ]
  },
  {
   "cell_type": "code",
   "execution_count": 209,
   "metadata": {},
   "outputs": [],
   "source": [
    "# plt.figure(figsize=(7,7))\n",
    "# plt.grid()\n",
    "# plt.plot(history.history['loss'])\n",
    "# #plt.plot(history.history['val_loss'])\n",
    "# plt.ylabel('Loss')\n",
    "# plt.xlabel('Epochs')\n",
    "# plt.legend(['Training','Validation'], loc='upper right')\n",
    "# plt.show()"
   ]
  },
  {
   "cell_type": "code",
   "execution_count": 210,
   "metadata": {},
   "outputs": [],
   "source": [
    "# plt.figure(figsize=(5,5))\n",
    "# plt.ylim(0,1.1)\n",
    "# plt.grid()\n",
    "# plt.plot(history.history['accuracy'])\n",
    "# #plt.plot(history.history['val_acc'])\n",
    "# plt.ylabel('Accuracy')\n",
    "# plt.xlabel('Epochs')\n",
    "# plt.legend(['Training','Validation'])\n",
    "# plt.show()"
   ]
  },
  {
   "cell_type": "markdown",
   "metadata": {},
   "source": [
    "# Validation"
   ]
  },
  {
   "cell_type": "code",
   "execution_count": 173,
   "metadata": {},
   "outputs": [],
   "source": [
    "# load best weights\n",
    "model.load_weights(\"best-model.hdf5\")\n",
    "model.compile(loss='categorical_crossentropy', optimizer=adam, metrics=['accuracy'])"
   ]
  },
  {
   "cell_type": "code",
   "execution_count": 174,
   "metadata": {},
   "outputs": [
    {
     "data": {
      "text/plain": [
       "(11, 100, 100, 208, 1)"
      ]
     },
     "execution_count": 174,
     "metadata": {},
     "output_type": "execute_result"
    }
   ],
   "source": [
    "Xtest = Xtest.reshape(-1, windowSize, windowSize, K, 1)\n",
    "Xtest.shape"
   ]
  },
  {
   "cell_type": "code",
   "execution_count": 175,
   "metadata": {},
   "outputs": [
    {
     "data": {
      "text/plain": [
       "(11, 100, 100, 3)"
      ]
     },
     "execution_count": 175,
     "metadata": {},
     "output_type": "execute_result"
    }
   ],
   "source": [
    "ytest = np_utils.to_categorical(ytest)\n",
    "ytest.shape"
   ]
  },
  {
   "cell_type": "code",
   "execution_count": 199,
   "metadata": {},
   "outputs": [
    {
     "name": "stdout",
     "output_type": "stream",
     "text": [
      "              precision    recall  f1-score   support\n",
      "\n",
      "           0       1.00      0.19      0.32     84355\n",
      "           1       0.58      0.67      0.62     15749\n",
      "           2       0.00      0.13      0.00      1272\n",
      "\n",
      "    accuracy                           0.26    101376\n",
      "   macro avg       0.53      0.33      0.31    101376\n",
      "weighted avg       0.92      0.26      0.36    101376\n",
      "\n"
     ]
    }
   ],
   "source": [
    "y_pred_test = model.predict(Xtest)\n",
    "y_pred_test = np.argmax(y_pred_test, axis=-1)\n",
    "\n",
    "# target_names = ['Belt','Meat','Plastic']\n",
    "classification = classification_report(np.argmax(ytest[:, 2:-2, 2:-2, :], axis=-1).flatten(),\\\n",
    "                                                 y_pred_test.flatten())\n",
    "print(classification)"
   ]
  },
  {
   "cell_type": "code",
   "execution_count": 197,
   "metadata": {},
   "outputs": [
    {
     "data": {
      "text/plain": [
       "array([0, 1, 2])"
      ]
     },
     "execution_count": 197,
     "metadata": {},
     "output_type": "execute_result"
    }
   ],
   "source": [
    "np.unique(np.argmax(y_pred_test, axis=-1))"
   ]
  },
  {
   "cell_type": "code",
   "execution_count": 198,
   "metadata": {},
   "outputs": [
    {
     "data": {
      "text/plain": [
       "(11, 100, 100, 3)"
      ]
     },
     "execution_count": 198,
     "metadata": {},
     "output_type": "execute_result"
    }
   ],
   "source": [
    "ytest.shape"
   ]
  },
  {
   "cell_type": "code",
   "execution_count": 205,
   "metadata": {},
   "outputs": [
    {
     "data": {
      "text/plain": [
       "Text(0.5, 1.0, 'True label')"
      ]
     },
     "execution_count": 205,
     "metadata": {},
     "output_type": "execute_result"
    },
    {
     "data": {
      "image/png": "[encoded data removed]",
      "text/plain": [
       "<Figure size 504x504 with 1 Axes>"
      ]
     },
     "metadata": {
      "needs_background": "light"
     },
     "output_type": "display_data"
    }
   ],
   "source": [
    "plt.figure(figsize=(7,7))\n",
    "plt.imshow(np.argmax(ytest[:, 2:-2, 2:-2, :], axis=-1)[0])\n",
    "plt.title(\"True label\")"
   ]
  },
  {
   "cell_type": "code",
   "execution_count": 204,
   "metadata": {},
   "outputs": [
    {
     "data": {
      "image/png": "[encoded data removed]",
      "text/plain": [
       "<Figure size 504x504 with 1 Axes>"
      ]
     },
     "metadata": {
      "needs_background": "light"
     },
     "output_type": "display_data"
    }
   ],
   "source": [
    "plt.figure(figsize=(7,7))\n",
    "img = plt.imshow(y_pred_test[0])\n",
    "mypackage.Dataset._Dataset__add_legend_to_image(y_pred_test[0], img)\n",
    "plt.title(\"Predicted labels\")\n",
    "plt.show()"
   ]
  },
  {
   "cell_type": "code",
   "execution_count": null,
   "metadata": {},
   "outputs": [],
   "source": [
    "ground_truth = spectral.imshow(classes = np.squeeze(y),figsize =(7,7))"
   ]
  },
  {
   "cell_type": "code",
   "execution_count": null,
   "metadata": {},
   "outputs": [],
   "source": [
    "predict_image = spectral.imshow(classes = outputs.astype(int),figsize =(7,7))"
   ]
  },
  {
   "cell_type": "code",
   "execution_count": null,
   "metadata": {},
   "outputs": [],
   "source": [
    "# spectral.save_rgb(\"predictions.jpg\", outputs.astype(int), colors=spectral.spy_colors)"
   ]
  },
  {
   "cell_type": "markdown",
   "metadata": {},
   "source": [
    "spectral.save_rgb(str(dataset)+\"_ground_truth.jpg\", y, colors=spectral.spy_colors)"
   ]
  }
 ],
 "metadata": {
  "kernelspec": {
   "display_name": "Python 3",
   "language": "python",
   "name": "python3"
  },
  "language_info": {
   "codemirror_mode": {
    "name": "ipython",
    "version": 3
   },
   "file_extension": ".py",
   "mimetype": "text/x-python",
   "name": "python",
   "nbconvert_exporter": "python",
   "pygments_lexer": "ipython3",
   "version": "3.6.9"
  }
 },
 "nbformat": 4,
 "nbformat_minor": 2
}
