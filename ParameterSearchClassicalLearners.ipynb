{
 "cells": [
  {
   "cell_type": "code",
   "execution_count": 1,
   "metadata": {},
   "outputs": [
    {
     "name": "stdout",
     "output_type": "stream",
     "text": [
      "TensorFlow version is 2.1.0\n"
     ]
    },
    {
     "name": "stderr",
     "output_type": "stream",
     "text": [
      "Using TensorFlow backend.\n"
     ]
    }
   ],
   "source": [
    "# https://ipython.org/ipython-doc/3/config/extensions/autoreload.html\n",
    "%load_ext autoreload\n",
    "%autoreload 2\n",
    "\n",
    "# # Interactive plots\n",
    "# %matplotlib notebook\n",
    "\n",
    "# Load all packages used\n",
    "import matplotlib.pyplot as plt\n",
    "import numpy as np\n",
    "import mypackage\n",
    "import sklearn\n",
    "\n",
    "timer = mypackage.utils.Timer()"
   ]
  },
  {
   "cell_type": "code",
   "execution_count": 2,
   "metadata": {},
   "outputs": [
    {
     "name": "stdout",
     "output_type": "stream",
     "text": [
      "(6, 100, 100, 30) (-14.092379, 15.425261)\n",
      "(array([0, 1, 2], dtype=int32), array([49821,  9311,   868]))\n"
     ]
    },
    {
     "data": {
      "image/png": "[encoded data removed]",
      "text/plain": [
       "<Figure size 432x288 with 1 Axes>"
      ]
     },
     "metadata": {
      "needs_background": "light"
     },
     "output_type": "display_data"
    }
   ],
   "source": [
    "# Load the labeled data\n",
    "dataset_folder = 'data/tomra_all'\n",
    "file_list = list(np.array(mypackage.Dataset.TOMRA_FILLET_LAYERS)[[0,5,9]]) + list(np.array(mypackage.Dataset.TOMRA_OBVIOUS_PLASTICS)[[0,4,5]])\n",
    "\n",
    "X, Y = mypackage.Dataset.load_files(file_list, dataset_folder, with_labels=True)\n",
    "_, X, _ = mypackage.Dataset.scale(None, X, scaler='GlobalStandardization')\n",
    "X, _ = mypackage.Dataset.PCA(X, None, n_components=30, plot=True, whiten=True)\n",
    "\n",
    "print(X.shape, (X.min(), X.max()))\n",
    "print(np.unique(Y, return_counts=True))"
   ]
  },
  {
   "cell_type": "code",
   "execution_count": 3,
   "metadata": {},
   "outputs": [
    {
     "name": "stdout",
     "output_type": "stream",
     "text": [
      "Running a grid search SVM\n",
      "[{'kernel': ['rbf'], 'gamma': [10, 1, 0.1, 0.01, 0.001], 'C': [0.001, 0.01, 0.1, 1, 10, 100, 1000]}, {'kernel': ['linear'], 'C': [0.001, 0.01, 0.1, 1, 10, 100, 1000]}]\n",
      "Fitting 5 folds for each of 42 candidates, totalling 210 fits\n"
     ]
    },
    {
     "name": "stderr",
     "output_type": "stream",
     "text": [
      "[Parallel(n_jobs=-1)]: Using backend LokyBackend with 8 concurrent workers.\n",
      "[Parallel(n_jobs=-1)]: Done   2 tasks      | elapsed:  1.6min\n",
      "/.local/lib/python3.6/site-packages/joblib/externals/loky/process_executor.py:706: UserWarning: A worker stopped while some jobs were given to the executor. This can be caused by a too short worker timeout or by a memory leak.\n",
      "  \"timeout or by a memory leak.\", UserWarning\n",
      "[Parallel(n_jobs=-1)]: Done  56 tasks      | elapsed: 40.0min\n",
      "[Parallel(n_jobs=-1)]: Done 146 tasks      | elapsed: 163.0min\n",
      "[Parallel(n_jobs=-1)]: Done 210 out of 210 | elapsed: 275.5min finished\n"
     ]
    },
    {
     "name": "stdout",
     "output_type": "stream",
     "text": [
      "SVM best parameters : {'C': 100, 'gamma': 0.001, 'kernel': 'rbf'}\n"
     ]
    }
   ],
   "source": [
    "# Parameters for the SVM grid search\n",
    "SVM_GRID_PARAMS = [{'kernel': ['rbf'], 'gamma': [10, 1, 1e-1, 1e-2, 1e-3],\n",
    "                                       'C': [1e-3, 1e-2, 1e-1, 1, 10, 100, 1000]},\n",
    "                   {'kernel': ['linear'], 'C': [1e-3, 1e-2, 1e-1, 1, 10, 100, 1000]}]\n",
    "\n",
    "data = mypackage.StackTransform(X, Y)\n",
    "\n",
    "print(\"Running a grid search SVM\")\n",
    "print(SVM_GRID_PARAMS)\n",
    "X_train, y_train = data.X_stack(), data.Y_stack().ravel()\n",
    "\n",
    "clf_svm = sklearn.svm.SVC()\n",
    "clf_svm = sklearn.model_selection.GridSearchCV(clf_svm, SVM_GRID_PARAMS, verbose=5, n_jobs=-1)\n",
    "clf_svm.fit(X_train, y_train)\n",
    "print(\"SVM best parameters : {}\".format(clf_svm.best_params_))"
   ]
  },
  {
   "cell_type": "code",
   "execution_count": 4,
   "metadata": {},
   "outputs": [],
   "source": [
    "# clf_svm.cv_results_"
   ]
  },
  {
   "cell_type": "code",
   "execution_count": 5,
   "metadata": {},
   "outputs": [
    {
     "name": "stdout",
     "output_type": "stream",
     "text": [
      "Running a grid search Logistic Regression\n",
      "{'C': [0.001, 0.01, 0.1, 1, 10, 100, 1000], 'penalty': ['l1', 'l2']}\n",
      "Fitting 5 folds for each of 14 candidates, totalling 70 fits\n"
     ]
    },
    {
     "name": "stderr",
     "output_type": "stream",
     "text": [
      "[Parallel(n_jobs=-1)]: Using backend LokyBackend with 8 concurrent workers.\n",
      "[Parallel(n_jobs=-1)]: Done   2 tasks      | elapsed:    1.6s\n",
      "[Parallel(n_jobs=-1)]: Done  70 out of  70 | elapsed:   56.0s remaining:    0.0s\n",
      "[Parallel(n_jobs=-1)]: Done  70 out of  70 | elapsed:   56.0s finished\n",
      "[Parallel(n_jobs=-1)]: Using backend ThreadingBackend with 8 concurrent workers.\n"
     ]
    },
    {
     "name": "stdout",
     "output_type": "stream",
     "text": [
      "convergence after 10 epochs took 0 seconds\n",
      "convergence after 33 epochs took 1 seconds\n",
      "convergence after 38 epochs took 2 seconds\n",
      "Logistic Regression best parameters : {'C': 0.1, 'penalty': 'l1'}\n"
     ]
    },
    {
     "name": "stderr",
     "output_type": "stream",
     "text": [
      "[Parallel(n_jobs=-1)]: Done   3 out of   3 | elapsed:    1.6s finished\n"
     ]
    }
   ],
   "source": [
    "# Parameters for the SVM grid search\n",
    "LR_GRID_PARAMS = {\"C\": [1e-3, 1e-2, 1e-1, 1, 10, 100, 1000], \"penalty\":[\"l1\",\"l2\"]} # l1 lasso l2 ridge\n",
    "\n",
    "data = mypackage.StackTransform(X, Y)\n",
    "\n",
    "print(\"Running a grid search Logistic Regression\")\n",
    "print(LR_GRID_PARAMS)\n",
    "X_train, y_train = data.X_stack(), data.Y_stack().ravel()\n",
    "\n",
    "clf_lr = sklearn.linear_model.LogisticRegression(max_iter=1000, solver='saga', multi_class='ovr', verbose=0, n_jobs=-1)\n",
    "clf_lr = sklearn.model_selection.GridSearchCV(clf_lr, LR_GRID_PARAMS, verbose=5, n_jobs=-1)\n",
    "clf_lr.fit(X_train, y_train)\n",
    "print(\"Logistic Regression best parameters : {}\".format(clf_lr.best_params_))"
   ]
  },
  {
   "cell_type": "markdown",
   "metadata": {},
   "source": [
    "### It might be interesting to show the heatmap of RBF accuracy obtained"
   ]
  },
  {
   "cell_type": "code",
   "execution_count": 6,
   "metadata": {},
   "outputs": [
    {
     "data": {
      "text/plain": [
       "{'mean_fit_time': array([ 188.58418164,   79.04204125,   86.06752558,   93.68079834,\n",
       "          95.63292565,  670.38691678,  610.92273064,  110.77756481,\n",
       "          45.86577387,   94.53004255,  960.03933449,  920.18308687,\n",
       "         115.31686625,   14.62124472,   33.26827774, 1390.8932394 ,\n",
       "        1302.29511652,  204.1659584 ,    7.62298274,   10.94319129,\n",
       "        2109.4810904 , 2033.09094081,  217.87885585,    6.89106879,\n",
       "           6.47244825, 2104.79581771, 2034.94575973,  216.4799222 ,\n",
       "           8.93053937,    6.21865158, 2108.92690845, 2043.88675699,\n",
       "         217.74298921,    9.74185095,   12.99438744,   10.8636538 ,\n",
       "           5.49012194,    4.75327473,    9.53767734,   49.74023528,\n",
       "         405.91623216, 2748.27704453]),\n",
       " 'std_fit_time': array([1.13403716e+00, 2.19903997e-01, 1.18318063e+00, 8.32268574e-01,\n",
       "        3.74128321e+00, 1.38843854e+00, 2.83225683e+00, 5.62295236e-01,\n",
       "        9.78683190e-01, 2.96295499e+00, 1.19956797e+00, 2.60144921e+00,\n",
       "        1.67838685e+00, 9.52431221e-01, 2.28529815e-01, 4.23770686e+00,\n",
       "        3.75214034e+00, 9.36409410e+00, 5.51645670e-01, 6.02559117e-01,\n",
       "        1.49831554e+01, 1.00057775e+01, 4.22604800e+00, 7.67600924e-01,\n",
       "        5.52147085e-01, 1.57859398e+01, 9.35629370e+00, 6.20571640e+00,\n",
       "        1.31656467e+00, 6.08926283e-01, 1.78704182e+01, 1.42269949e+01,\n",
       "        5.95420004e+00, 1.63286737e+00, 2.95284915e+00, 3.57977304e-01,\n",
       "        4.68562617e-01, 4.91648948e-01, 1.75188746e+00, 8.55759542e+00,\n",
       "        7.77370685e+01, 4.62555586e+02]),\n",
       " 'mean_score_time': array([27.10890822, 16.61330171, 16.78061872, 16.70077047, 16.84043279,\n",
       "        57.02659574, 51.64092574, 16.97394581,  7.68265271, 16.65886831,\n",
       "        56.68062224, 51.85252485, 12.3240921 ,  2.81554489,  5.43405595,\n",
       "        56.00926876, 51.38661127,  8.92576156,  1.64888692,  2.29190111,\n",
       "        56.26815853, 51.52731009,  9.27033095,  1.34680867,  1.39637613,\n",
       "        56.20207906, 51.52374296,  9.22641525,  1.37518206,  1.1512876 ,\n",
       "        56.26811891, 51.65858102,  9.22826996,  1.41202235,  1.04489598,\n",
       "         1.6002737 ,  0.90904703,  0.71428041,  0.67274594,  0.66430893,\n",
       "         0.66355071,  0.40554266]),\n",
       " 'std_score_time': array([0.19403772, 0.0616112 , 0.28748157, 0.07358858, 0.18177214,\n",
       "        0.36767441, 0.3379469 , 0.08318607, 0.18507732, 0.19441633,\n",
       "        0.64551754, 0.41322904, 0.41325616, 0.12232622, 0.13213869,\n",
       "        0.22247541, 0.21782954, 0.28510092, 0.12581411, 0.11481181,\n",
       "        0.38489005, 0.30021941, 0.32622454, 0.13170329, 0.11613251,\n",
       "        0.45363669, 0.47879088, 0.20127139, 0.13504762, 0.11912796,\n",
       "        0.469615  , 1.24162325, 0.10727296, 0.14466962, 0.11878027,\n",
       "        0.07217125, 0.06937302, 0.06910765, 0.06957147, 0.07054823,\n",
       "        0.07103655, 0.01806666]),\n",
       " 'param_C': masked_array(data=[0.001, 0.001, 0.001, 0.001, 0.001, 0.01, 0.01, 0.01,\n",
       "                    0.01, 0.01, 0.1, 0.1, 0.1, 0.1, 0.1, 1, 1, 1, 1, 1, 10,\n",
       "                    10, 10, 10, 10, 100, 100, 100, 100, 100, 1000, 1000,\n",
       "                    1000, 1000, 1000, 0.001, 0.01, 0.1, 1, 10, 100, 1000],\n",
       "              mask=[False, False, False, False, False, False, False, False,\n",
       "                    False, False, False, False, False, False, False, False,\n",
       "                    False, False, False, False, False, False, False, False,\n",
       "                    False, False, False, False, False, False, False, False,\n",
       "                    False, False, False, False, False, False, False, False,\n",
       "                    False, False],\n",
       "        fill_value='?',\n",
       "             dtype=object),\n",
       " 'param_gamma': masked_array(data=[10, 1, 0.1, 0.01, 0.001, 10, 1, 0.1, 0.01, 0.001, 10,\n",
       "                    1, 0.1, 0.01, 0.001, 10, 1, 0.1, 0.01, 0.001, 10, 1,\n",
       "                    0.1, 0.01, 0.001, 10, 1, 0.1, 0.01, 0.001, 10, 1, 0.1,\n",
       "                    0.01, 0.001, --, --, --, --, --, --, --],\n",
       "              mask=[False, False, False, False, False, False, False, False,\n",
       "                    False, False, False, False, False, False, False, False,\n",
       "                    False, False, False, False, False, False, False, False,\n",
       "                    False, False, False, False, False, False, False, False,\n",
       "                    False, False, False,  True,  True,  True,  True,  True,\n",
       "                     True,  True],\n",
       "        fill_value='?',\n",
       "             dtype=object),\n",
       " 'param_kernel': masked_array(data=['rbf', 'rbf', 'rbf', 'rbf', 'rbf', 'rbf', 'rbf', 'rbf',\n",
       "                    'rbf', 'rbf', 'rbf', 'rbf', 'rbf', 'rbf', 'rbf', 'rbf',\n",
       "                    'rbf', 'rbf', 'rbf', 'rbf', 'rbf', 'rbf', 'rbf', 'rbf',\n",
       "                    'rbf', 'rbf', 'rbf', 'rbf', 'rbf', 'rbf', 'rbf', 'rbf',\n",
       "                    'rbf', 'rbf', 'rbf', 'linear', 'linear', 'linear',\n",
       "                    'linear', 'linear', 'linear', 'linear'],\n",
       "              mask=[False, False, False, False, False, False, False, False,\n",
       "                    False, False, False, False, False, False, False, False,\n",
       "                    False, False, False, False, False, False, False, False,\n",
       "                    False, False, False, False, False, False, False, False,\n",
       "                    False, False, False, False, False, False, False, False,\n",
       "                    False, False],\n",
       "        fill_value='?',\n",
       "             dtype=object),\n",
       " 'params': [{'C': 0.001, 'gamma': 10, 'kernel': 'rbf'},\n",
       "  {'C': 0.001, 'gamma': 1, 'kernel': 'rbf'},\n",
       "  {'C': 0.001, 'gamma': 0.1, 'kernel': 'rbf'},\n",
       "  {'C': 0.001, 'gamma': 0.01, 'kernel': 'rbf'},\n",
       "  {'C': 0.001, 'gamma': 0.001, 'kernel': 'rbf'},\n",
       "  {'C': 0.01, 'gamma': 10, 'kernel': 'rbf'},\n",
       "  {'C': 0.01, 'gamma': 1, 'kernel': 'rbf'},\n",
       "  {'C': 0.01, 'gamma': 0.1, 'kernel': 'rbf'},\n",
       "  {'C': 0.01, 'gamma': 0.01, 'kernel': 'rbf'},\n",
       "  {'C': 0.01, 'gamma': 0.001, 'kernel': 'rbf'},\n",
       "  {'C': 0.1, 'gamma': 10, 'kernel': 'rbf'},\n",
       "  {'C': 0.1, 'gamma': 1, 'kernel': 'rbf'},\n",
       "  {'C': 0.1, 'gamma': 0.1, 'kernel': 'rbf'},\n",
       "  {'C': 0.1, 'gamma': 0.01, 'kernel': 'rbf'},\n",
       "  {'C': 0.1, 'gamma': 0.001, 'kernel': 'rbf'},\n",
       "  {'C': 1, 'gamma': 10, 'kernel': 'rbf'},\n",
       "  {'C': 1, 'gamma': 1, 'kernel': 'rbf'},\n",
       "  {'C': 1, 'gamma': 0.1, 'kernel': 'rbf'},\n",
       "  {'C': 1, 'gamma': 0.01, 'kernel': 'rbf'},\n",
       "  {'C': 1, 'gamma': 0.001, 'kernel': 'rbf'},\n",
       "  {'C': 10, 'gamma': 10, 'kernel': 'rbf'},\n",
       "  {'C': 10, 'gamma': 1, 'kernel': 'rbf'},\n",
       "  {'C': 10, 'gamma': 0.1, 'kernel': 'rbf'},\n",
       "  {'C': 10, 'gamma': 0.01, 'kernel': 'rbf'},\n",
       "  {'C': 10, 'gamma': 0.001, 'kernel': 'rbf'},\n",
       "  {'C': 100, 'gamma': 10, 'kernel': 'rbf'},\n",
       "  {'C': 100, 'gamma': 1, 'kernel': 'rbf'},\n",
       "  {'C': 100, 'gamma': 0.1, 'kernel': 'rbf'},\n",
       "  {'C': 100, 'gamma': 0.01, 'kernel': 'rbf'},\n",
       "  {'C': 100, 'gamma': 0.001, 'kernel': 'rbf'},\n",
       "  {'C': 1000, 'gamma': 10, 'kernel': 'rbf'},\n",
       "  {'C': 1000, 'gamma': 1, 'kernel': 'rbf'},\n",
       "  {'C': 1000, 'gamma': 0.1, 'kernel': 'rbf'},\n",
       "  {'C': 1000, 'gamma': 0.01, 'kernel': 'rbf'},\n",
       "  {'C': 1000, 'gamma': 0.001, 'kernel': 'rbf'},\n",
       "  {'C': 0.001, 'kernel': 'linear'},\n",
       "  {'C': 0.01, 'kernel': 'linear'},\n",
       "  {'C': 0.1, 'kernel': 'linear'},\n",
       "  {'C': 1, 'kernel': 'linear'},\n",
       "  {'C': 10, 'kernel': 'linear'},\n",
       "  {'C': 100, 'kernel': 'linear'},\n",
       "  {'C': 1000, 'kernel': 'linear'}],\n",
       " 'split0_test_score': array([0.83041667, 0.83041667, 0.83041667, 0.83041667, 0.83041667,\n",
       "        0.83041667, 0.83041667, 0.83175   , 0.98066667, 0.85591667,\n",
       "        0.83041667, 0.83041667, 0.97141667, 0.98616667, 0.98616667,\n",
       "        0.83041667, 0.83041667, 0.97716667, 0.98708333, 0.98766667,\n",
       "        0.83041667, 0.83041667, 0.97783333, 0.98616667, 0.98775   ,\n",
       "        0.83041667, 0.83041667, 0.97783333, 0.98233333, 0.98833333,\n",
       "        0.83041667, 0.83041667, 0.97783333, 0.97991667, 0.98575   ,\n",
       "        0.98791667, 0.98641667, 0.98716667, 0.9875    , 0.98775   ,\n",
       "        0.98775   , 0.98758333]),\n",
       " 'split1_test_score': array([0.83033333, 0.83033333, 0.83033333, 0.83033333, 0.83033333,\n",
       "        0.83033333, 0.83033333, 0.83166667, 0.97516667, 0.84991667,\n",
       "        0.83033333, 0.83033333, 0.96508333, 0.98383333, 0.98216667,\n",
       "        0.83033333, 0.83033333, 0.97108333, 0.98375   , 0.98425   ,\n",
       "        0.83033333, 0.83033333, 0.97133333, 0.98241667, 0.98325   ,\n",
       "        0.83033333, 0.83033333, 0.97133333, 0.97958333, 0.98233333,\n",
       "        0.83033333, 0.83033333, 0.97133333, 0.97808333, 0.9805    ,\n",
       "        0.98425   , 0.983     , 0.9815    , 0.98108333, 0.98083333,\n",
       "        0.9805    , 0.98066667]),\n",
       " 'split2_test_score': array([0.83033333, 0.83033333, 0.83033333, 0.83033333, 0.83033333,\n",
       "        0.83033333, 0.83033333, 0.83166667, 0.96225   , 0.86683333,\n",
       "        0.83033333, 0.83033333, 0.96316667, 0.97208333, 0.966     ,\n",
       "        0.83033333, 0.83033333, 0.96575   , 0.97641667, 0.97291667,\n",
       "        0.83033333, 0.83033333, 0.96583333, 0.97433333, 0.97716667,\n",
       "        0.83033333, 0.83033333, 0.96583333, 0.96958333, 0.9785    ,\n",
       "        0.83033333, 0.83033333, 0.96583333, 0.96833333, 0.97575   ,\n",
       "        0.9705    , 0.9755    , 0.97758333, 0.97916667, 0.97891667,\n",
       "        0.97883333, 0.97883333]),\n",
       " 'split3_test_score': array([0.83033333, 0.83033333, 0.83033333, 0.83033333, 0.83033333,\n",
       "        0.83033333, 0.83033333, 0.83058333, 0.97483333, 0.8945    ,\n",
       "        0.83033333, 0.83033333, 0.97583333, 0.98866667, 0.98166667,\n",
       "        0.83033333, 0.83033333, 0.979     , 0.99075   , 0.98966667,\n",
       "        0.83033333, 0.83033333, 0.97908333, 0.99041667, 0.991     ,\n",
       "        0.83033333, 0.83033333, 0.97908333, 0.98975   , 0.99158333,\n",
       "        0.83033333, 0.83033333, 0.97908333, 0.98675   , 0.99016667,\n",
       "        0.98825   , 0.9905    , 0.99125   , 0.99133333, 0.99133333,\n",
       "        0.99125   , 0.99133333]),\n",
       " 'split4_test_score': array([0.83033333, 0.83033333, 0.83033333, 0.83033333, 0.83033333,\n",
       "        0.83033333, 0.83033333, 0.83033333, 0.98025   , 0.83975   ,\n",
       "        0.83033333, 0.83033333, 0.97133333, 0.99183333, 0.987     ,\n",
       "        0.83033333, 0.83033333, 0.96983333, 0.99216667, 0.99241667,\n",
       "        0.83033333, 0.83033333, 0.96991667, 0.99141667, 0.99275   ,\n",
       "        0.83033333, 0.83033333, 0.96991667, 0.98766667, 0.9935    ,\n",
       "        0.83033333, 0.83033333, 0.96991667, 0.98666667, 0.99025   ,\n",
       "        0.992     , 0.9935    , 0.99391667, 0.99425   , 0.99425   ,\n",
       "        0.99425   , 0.99433333]),\n",
       " 'mean_test_score': array([0.83035   , 0.83035   , 0.83035   , 0.83035   , 0.83035   ,\n",
       "        0.83035   , 0.83035   , 0.8312    , 0.97463333, 0.86138333,\n",
       "        0.83035   , 0.83035   , 0.96936667, 0.98451667, 0.9806    ,\n",
       "        0.83035   , 0.83035   , 0.97256667, 0.98603333, 0.98538333,\n",
       "        0.83035   , 0.83035   , 0.9728    , 0.98495   , 0.98638333,\n",
       "        0.83035   , 0.83035   , 0.9728    , 0.98178333, 0.98685   ,\n",
       "        0.83035   , 0.83035   , 0.9728    , 0.97995   , 0.98448333,\n",
       "        0.98458333, 0.98578333, 0.98628333, 0.98666667, 0.98661667,\n",
       "        0.98651667, 0.98655   ]),\n",
       " 'std_test_score': array([3.33333333e-05, 3.33333333e-05, 3.33333333e-05, 3.33333333e-05,\n",
       "        3.33333333e-05, 3.33333333e-05, 3.33333333e-05, 6.11464544e-04,\n",
       "        6.65761886e-03, 1.87391895e-02, 3.33333333e-05, 3.33333333e-05,\n",
       "        4.61898257e-03, 6.76067058e-03, 7.59868410e-03, 3.33333333e-05,\n",
       "        3.33333333e-05, 4.87208602e-03, 5.63313609e-03, 6.77835608e-03,\n",
       "        3.33333333e-05, 3.33333333e-05, 4.97622123e-03, 6.20183665e-03,\n",
       "        5.62992994e-03, 3.33333333e-05, 3.33333333e-05, 4.97622123e-03,\n",
       "        7.10019562e-03, 5.63826214e-03, 3.33333333e-05, 3.33333333e-05,\n",
       "        4.97622123e-03, 6.77917563e-03, 5.64441710e-03, 7.45672702e-03,\n",
       "        6.25601932e-03, 6.03798163e-03, 5.78623846e-03, 5.90823343e-03,\n",
       "        5.98270656e-03, 5.97810821e-03]),\n",
       " 'rank_test_score': array([26, 26, 26, 26, 26, 26, 26, 25, 18, 24, 26, 26, 23, 13, 16, 26, 26,\n",
       "        22,  8, 10, 26, 26, 19, 11,  6, 26, 26, 19, 15,  1, 26, 26, 19, 17,\n",
       "        14, 12,  9,  7,  2,  3,  5,  4], dtype=int32)}"
      ]
     },
     "execution_count": 6,
     "metadata": {},
     "output_type": "execute_result"
    }
   ],
   "source": [
    "clf_svm.cv_results_"
   ]
  },
  {
   "cell_type": "code",
   "execution_count": 7,
   "metadata": {},
   "outputs": [
    {
     "data": {
      "text/plain": [
       "{'mean_fit_time': array([ 1.39116921,  1.5868535 ,  2.27899585,  2.81346097,  4.72483706,\n",
       "         9.05581937,  6.18235254, 18.65513554,  6.13328156,  5.43622446,\n",
       "         6.6425993 ,  5.57245517,  6.85034914,  4.69108224]),\n",
       " 'std_fit_time': array([ 0.25704401,  0.07951417,  0.230432  ,  0.42378861,  0.57618801,\n",
       "         2.3509355 ,  0.98677453, 11.08830451,  0.66880044,  1.17765014,\n",
       "         1.25102123,  0.98600977,  1.22011371,  1.13580057]),\n",
       " 'mean_score_time': array([0.00207043, 0.00198793, 0.00195651, 0.00196776, 0.001934  ,\n",
       "        0.00197015, 0.00196166, 0.00195589, 0.00194001, 0.00196681,\n",
       "        0.00206852, 0.00210557, 0.00206623, 0.00157838]),\n",
       " 'std_score_time': array([2.34226810e-04, 4.84624690e-05, 3.21988329e-05, 4.46602231e-05,\n",
       "        3.05020770e-05, 1.49552128e-05, 2.24374051e-05, 3.28296756e-05,\n",
       "        1.00101738e-05, 2.26683791e-05, 1.82461101e-05, 5.35608492e-05,\n",
       "        4.81191306e-05, 3.03263199e-04]),\n",
       " 'param_C': masked_array(data=[0.001, 0.001, 0.01, 0.01, 0.1, 0.1, 1, 1, 10, 10, 100,\n",
       "                    100, 1000, 1000],\n",
       "              mask=[False, False, False, False, False, False, False, False,\n",
       "                    False, False, False, False, False, False],\n",
       "        fill_value='?',\n",
       "             dtype=object),\n",
       " 'param_penalty': masked_array(data=['l1', 'l2', 'l1', 'l2', 'l1', 'l2', 'l1', 'l2', 'l1',\n",
       "                    'l2', 'l1', 'l2', 'l1', 'l2'],\n",
       "              mask=[False, False, False, False, False, False, False, False,\n",
       "                    False, False, False, False, False, False],\n",
       "        fill_value='?',\n",
       "             dtype=object),\n",
       " 'params': [{'C': 0.001, 'penalty': 'l1'},\n",
       "  {'C': 0.001, 'penalty': 'l2'},\n",
       "  {'C': 0.01, 'penalty': 'l1'},\n",
       "  {'C': 0.01, 'penalty': 'l2'},\n",
       "  {'C': 0.1, 'penalty': 'l1'},\n",
       "  {'C': 0.1, 'penalty': 'l2'},\n",
       "  {'C': 1, 'penalty': 'l1'},\n",
       "  {'C': 1, 'penalty': 'l2'},\n",
       "  {'C': 10, 'penalty': 'l1'},\n",
       "  {'C': 10, 'penalty': 'l2'},\n",
       "  {'C': 100, 'penalty': 'l1'},\n",
       "  {'C': 100, 'penalty': 'l2'},\n",
       "  {'C': 1000, 'penalty': 'l1'},\n",
       "  {'C': 1000, 'penalty': 'l2'}],\n",
       " 'split0_test_score': array([0.98358333, 0.986     , 0.98858333, 0.98825   , 0.98833333,\n",
       "        0.98808333, 0.98808333, 0.98791667, 0.988     , 0.988     ,\n",
       "        0.988     , 0.988     , 0.988     , 0.988     ]),\n",
       " 'split1_test_score': array([0.98141667, 0.98191667, 0.98325   , 0.98391667, 0.98175   ,\n",
       "        0.98175   , 0.98133333, 0.98141667, 0.98133333, 0.98133333,\n",
       "        0.98133333, 0.98133333, 0.98133333, 0.98133333]),\n",
       " 'split2_test_score': array([0.958     , 0.96491667, 0.97416667, 0.97633333, 0.97941667,\n",
       "        0.97883333, 0.98      , 0.98008333, 0.98008333, 0.98016667,\n",
       "        0.98016667, 0.98016667, 0.98016667, 0.98016667]),\n",
       " 'split3_test_score': array([0.97083333, 0.98166667, 0.987     , 0.98775   , 0.98975   ,\n",
       "        0.98933333, 0.98958333, 0.9895    , 0.9895    , 0.9895    ,\n",
       "        0.9895    , 0.9895    , 0.9895    , 0.9895    ]),\n",
       " 'split4_test_score': array([0.9735    , 0.98766667, 0.99241667, 0.9925    , 0.99283333,\n",
       "        0.99225   , 0.993     , 0.993     , 0.993     , 0.99291667,\n",
       "        0.99291667, 0.99291667, 0.993     , 0.993     ]),\n",
       " 'mean_test_score': array([0.97346667, 0.98043333, 0.98508333, 0.98575   , 0.98641667,\n",
       "        0.98605   , 0.9864    , 0.98638333, 0.98638333, 0.98638333,\n",
       "        0.98638333, 0.98638333, 0.9864    , 0.9864    ]),\n",
       " 'std_test_score': array([0.00907417, 0.00809688, 0.00620058, 0.00543778, 0.0050346 ,\n",
       "        0.00497845, 0.00496303, 0.00490312, 0.00492544, 0.00488183,\n",
       "        0.00488183, 0.00488183, 0.00490419, 0.00490419]),\n",
       " 'rank_test_score': array([14, 13, 12, 11,  1, 10,  2,  5,  5,  7,  7,  7,  3,  3],\n",
       "       dtype=int32)}"
      ]
     },
     "execution_count": 7,
     "metadata": {},
     "output_type": "execute_result"
    }
   ],
   "source": [
    "clf_lr.cv_results_"
   ]
  },
  {
   "cell_type": "markdown",
   "metadata": {},
   "source": [
    "## See the SVM_LR_SummaryOfParameterSearch.ipynb script for the results"
   ]
  },
  {
   "cell_type": "code",
   "execution_count": 8,
   "metadata": {},
   "outputs": [
    {
     "data": {
      "text/plain": [
       "array([0.83035   , 0.83035   , 0.83035   , 0.83035   , 0.83035   ,\n",
       "       0.83035   , 0.83035   , 0.8312    , 0.97463333, 0.86138333,\n",
       "       0.83035   , 0.83035   , 0.96936667, 0.98451667, 0.9806    ,\n",
       "       0.83035   , 0.83035   , 0.97256667, 0.98603333, 0.98538333,\n",
       "       0.83035   , 0.83035   , 0.9728    , 0.98495   , 0.98638333,\n",
       "       0.83035   , 0.83035   , 0.9728    , 0.98178333, 0.98685   ,\n",
       "       0.83035   , 0.83035   , 0.9728    , 0.97995   , 0.98448333,\n",
       "       0.98458333, 0.98578333, 0.98628333, 0.98666667, 0.98661667,\n",
       "       0.98651667, 0.98655   ])"
      ]
     },
     "execution_count": 8,
     "metadata": {},
     "output_type": "execute_result"
    }
   ],
   "source": [
    "clf_svm.cv_results_['mean_test_score']"
   ]
  }
 ],
 "metadata": {
  "kernelspec": {
   "display_name": "Python 3",
   "language": "python",
   "name": "python3"
  },
  "language_info": {
   "codemirror_mode": {
    "name": "ipython",
    "version": 3
   },
   "file_extension": ".py",
   "mimetype": "text/x-python",
   "name": "python",
   "nbconvert_exporter": "python",
   "pygments_lexer": "ipython3",
   "version": "3.6.9"
  }
 },
 "nbformat": 4,
 "nbformat_minor": 4
}
