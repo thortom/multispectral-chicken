{
 "cells": [
  {
   "cell_type": "code",
   "execution_count": 1,
   "metadata": {},
   "outputs": [
    {
     "name": "stdout",
     "output_type": "stream",
     "text": [
      "TensorFlow version is 2.1.0\n"
     ]
    },
    {
     "name": "stderr",
     "output_type": "stream",
     "text": [
      "Using TensorFlow backend.\n"
     ]
    }
   ],
   "source": [
    "# https://ipython.org/ipython-doc/3/config/extensions/autoreload.html\n",
    "%load_ext autoreload\n",
    "%autoreload 2\n",
    "\n",
    "# # Interactive plots\n",
    "# %matplotlib notebook\n",
    "\n",
    "# Load all packages used\n",
    "import matplotlib.pyplot as plt\n",
    "import numpy as np\n",
    "import mypackage\n",
    "import sklearn\n",
    "\n",
    "timer = mypackage.utils.Timer()"
   ]
  },
  {
   "cell_type": "code",
   "execution_count": 2,
   "metadata": {},
   "outputs": [
    {
     "name": "stdout",
     "output_type": "stream",
     "text": [
      "(6, 100, 100, 208) (-6.4139543, 6.5095677)\n",
      "(array([0, 1, 2], dtype=int32), array([49821,  9311,   868]))\n"
     ]
    }
   ],
   "source": [
    "# Load the labeled data\n",
    "dataset_folder = 'data/tomra_all'\n",
    "file_list = list(np.array(mypackage.Dataset.TOMRA_FILLET_LAYERS)[[0,5,9]]) + list(np.array(mypackage.Dataset.TOMRA_OBVIOUS_PLASTICS)[[0,4,5]])\n",
    "\n",
    "X, Y = mypackage.Dataset.load_files(file_list, dataset_folder, with_labels=True)\n",
    "_, X, _ = mypackage.Dataset.scale(None, X, scaler='GlobalStandardization')\n",
    "\n",
    "print(X.shape, (X.min(), X.max()))\n",
    "print(np.unique(Y, return_counts=True))"
   ]
  },
  {
   "cell_type": "code",
   "execution_count": 3,
   "metadata": {},
   "outputs": [
    {
     "name": "stdout",
     "output_type": "stream",
     "text": [
      "Running a grid search SVM\n",
      "[{'kernel': ['rbf'], 'gamma': [10, 1, 0.1, 0.01, 0.001], 'C': [0.001, 0.01, 0.1, 1, 10, 100, 1000]}, {'kernel': ['linear'], 'C': [0.001, 0.01, 0.1, 1, 10, 100, 1000]}]\n",
      "Fitting 5 folds for each of 42 candidates, totalling 210 fits\n"
     ]
    },
    {
     "name": "stderr",
     "output_type": "stream",
     "text": [
      "[Parallel(n_jobs=-1)]: Using backend LokyBackend with 8 concurrent workers.\n",
      "[Parallel(n_jobs=-1)]: Done   2 tasks      | elapsed:  8.3min\n",
      "/.local/lib/python3.6/site-packages/joblib/externals/loky/process_executor.py:706: UserWarning:\n",
      "\n",
      "A worker stopped while some jobs were given to the executor. This can be caused by a too short worker timeout or by a memory leak.\n",
      "\n",
      "[Parallel(n_jobs=-1)]: Done  56 tasks      | elapsed: 81.8min\n",
      "[Parallel(n_jobs=-1)]: Done 146 tasks      | elapsed: 438.1min\n",
      "[Parallel(n_jobs=-1)]: Done 210 out of 210 | elapsed: 578.6min finished\n"
     ]
    },
    {
     "name": "stdout",
     "output_type": "stream",
     "text": [
      "SVM best parameters : {'C': 0.1, 'kernel': 'linear'}\n"
     ]
    }
   ],
   "source": [
    "# Parameters for the SVM grid search\n",
    "SVM_GRID_PARAMS = [{'kernel': ['rbf'], 'gamma': [10, 1, 1e-1, 1e-2, 1e-3],\n",
    "                                       'C': [1e-3, 1e-2, 1e-1, 1, 10, 100, 1000]},\n",
    "                   {'kernel': ['linear'], 'C': [1e-3, 1e-2, 1e-1, 1, 10, 100, 1000]}]\n",
    "\n",
    "data = mypackage.StackTransform(X, Y)\n",
    "\n",
    "print(\"Running a grid search SVM\")\n",
    "print(SVM_GRID_PARAMS)\n",
    "X_train, y_train = data.X_stack(), data.Y_stack().ravel()\n",
    "\n",
    "clf_svm = sklearn.svm.SVC()\n",
    "clf_svm = sklearn.model_selection.GridSearchCV(clf_svm, SVM_GRID_PARAMS, verbose=5, n_jobs=-1)\n",
    "clf_svm.fit(X_train, y_train)\n",
    "print(\"SVM best parameters : {}\".format(clf_svm.best_params_))"
   ]
  },
  {
   "cell_type": "code",
   "execution_count": 4,
   "metadata": {},
   "outputs": [],
   "source": [
    "# clf_svm.cv_results_"
   ]
  },
  {
   "cell_type": "code",
   "execution_count": 5,
   "metadata": {},
   "outputs": [
    {
     "name": "stdout",
     "output_type": "stream",
     "text": [
      "Running a grid search Logistic Regression\n",
      "{'C': [0.001, 0.01, 0.1, 1, 10, 100, 1000], 'penalty': ['l1', 'l2']}\n",
      "Fitting 5 folds for each of 14 candidates, totalling 70 fits\n"
     ]
    },
    {
     "name": "stderr",
     "output_type": "stream",
     "text": [
      "[Parallel(n_jobs=-1)]: Using backend LokyBackend with 8 concurrent workers.\n",
      "[Parallel(n_jobs=-1)]: Done   2 tasks      | elapsed:    0.1s\n",
      "[Parallel(n_jobs=-1)]: Done  55 out of  70 | elapsed:  4.0min remaining:  1.1min\n",
      "[Parallel(n_jobs=-1)]: Done  70 out of  70 | elapsed: 17.4min remaining:    0.0s\n",
      "[Parallel(n_jobs=-1)]: Done  70 out of  70 | elapsed: 17.4min finished\n"
     ]
    },
    {
     "name": "stdout",
     "output_type": "stream",
     "text": [
      "Logistic Regression best parameters : {'C': 1, 'penalty': 'l2'}\n"
     ]
    }
   ],
   "source": [
    "# Parameters for the SVM grid search\n",
    "LR_GRID_PARAMS = {\"C\": [1e-3, 1e-2, 1e-1, 1, 10, 100, 1000], \"penalty\":[\"l1\",\"l2\"]} # l1 lasso l2 ridge\n",
    "\n",
    "data = mypackage.StackTransform(X, Y)\n",
    "\n",
    "print(\"Running a grid search Logistic Regression\")\n",
    "print(LR_GRID_PARAMS)\n",
    "X_train, y_train = data.X_stack(), data.Y_stack().ravel()\n",
    "\n",
    "clf_lr = sklearn.linear_model.LogisticRegression(max_iter=50000)\n",
    "clf_lr = sklearn.model_selection.GridSearchCV(clf_lr, LR_GRID_PARAMS, verbose=5, n_jobs=-1)\n",
    "clf_lr.fit(X_train, y_train)\n",
    "print(\"Logistic Regression best parameters : {}\".format(clf_lr.best_params_))"
   ]
  },
  {
   "cell_type": "markdown",
   "metadata": {},
   "source": [
    "### It might be interesting to show the heatmap of RBF accuracy obtained"
   ]
  },
  {
   "cell_type": "code",
   "execution_count": 6,
   "metadata": {},
   "outputs": [
    {
     "data": {
      "text/plain": [
       "{'mean_fit_time': array([ 405.976267  ,  421.79769845,  406.97805276,  173.65794334,\n",
       "         183.94055305, 2311.59996829,  518.23389874,  126.63822365,\n",
       "          70.75027251,   85.47845864, 4810.25047498,  742.03092475,\n",
       "          65.42881446,   37.29366102,   50.91177459, 6770.76226673,\n",
       "        1002.30814695,   50.89447789,   27.31695752,   31.61913695,\n",
       "        9747.52352471, 1071.54126749,   50.77628088,   24.89664264,\n",
       "          26.39575152, 9734.29923887, 1069.54106908,   79.56201329,\n",
       "          26.23626299,   24.45584526, 8800.84149122, 1077.30069122,\n",
       "          80.29480391,   31.89527183,   28.48183141,   33.95357237,\n",
       "          27.11165547,   26.48153267,   32.08842134,   54.55674286,\n",
       "         184.29543595, 1340.7419517 ]),\n",
       " 'std_fit_time': array([  1.79910416,   7.66871511,   7.98948303,   3.38268335,\n",
       "          5.69691828,  10.66576274,   3.33475762,   2.3722767 ,\n",
       "          2.3005302 ,   3.24900467,  45.68809445,  52.88886747,\n",
       "          2.95817815,   2.77178255,   2.89757234,  34.35356357,\n",
       "         26.30251828,   3.02158484,   3.32430824,   2.79326438,\n",
       "         64.78723171,  34.22180449,   2.83676931,   3.08048422,\n",
       "          3.06366933,  73.73709415,  34.40246827,  13.19316216,\n",
       "          3.70271063,   3.19119722, 464.89514804,  38.56986949,\n",
       "         13.39511201,   4.48938838,   3.35327416,   3.21248014,\n",
       "          3.50448209,   3.99357758,   4.37580722,   9.76716464,\n",
       "         54.6502933 , 235.1692378 ]),\n",
       " 'mean_score_time': array([ 93.99846592,  94.78304105,  89.87753386,  37.54246073,\n",
       "         40.48522415, 285.34779439,  96.1208724 ,  24.35464115,\n",
       "         13.04565864,  15.74391737, 288.92179327,  69.70768132,\n",
       "         12.07775531,   7.53910522,   9.78695598, 288.73834305,\n",
       "         56.19751287,   9.42924371,   5.70534463,   6.79942975,\n",
       "        289.16068344,  56.31201506,  10.24935699,   5.0787106 ,\n",
       "          6.03220525, 288.6174264 ,  56.29913301,   9.35440569,\n",
       "          4.31013341,   4.77068911, 184.49930296,  56.30404811,\n",
       "          9.41253886,   4.05736432,   4.13095422,   6.78688822,\n",
       "          5.43574357,   4.63869724,   4.09753871,   3.75297894,\n",
       "          3.4089601 ,   3.12896962]),\n",
       " 'std_score_time': array([ 0.33072452,  0.24014225,  1.62657856,  0.79494311,  1.67189982,\n",
       "         1.83560018,  0.36710994,  0.774274  ,  0.56671518,  1.11986905,\n",
       "         2.82406733,  1.60027163,  0.65183658,  0.46226799,  0.70883318,\n",
       "         1.65646847,  1.2607073 ,  0.55962265,  0.61148973,  0.67888567,\n",
       "         3.80957605,  1.40775697,  0.57008468,  0.68174694,  0.69851655,\n",
       "         2.00692199,  1.27398829,  0.65627615,  0.55654827,  0.44802001,\n",
       "        26.44317551,  1.88061324,  0.67670878,  0.46329636,  0.48876112,\n",
       "         0.66778148,  0.63137927,  0.49075033,  0.50108541,  0.48249603,\n",
       "         0.46216134,  0.28327535]),\n",
       " 'param_C': masked_array(data=[0.001, 0.001, 0.001, 0.001, 0.001, 0.01, 0.01, 0.01,\n",
       "                    0.01, 0.01, 0.1, 0.1, 0.1, 0.1, 0.1, 1, 1, 1, 1, 1, 10,\n",
       "                    10, 10, 10, 10, 100, 100, 100, 100, 100, 1000, 1000,\n",
       "                    1000, 1000, 1000, 0.001, 0.01, 0.1, 1, 10, 100, 1000],\n",
       "              mask=[False, False, False, False, False, False, False, False,\n",
       "                    False, False, False, False, False, False, False, False,\n",
       "                    False, False, False, False, False, False, False, False,\n",
       "                    False, False, False, False, False, False, False, False,\n",
       "                    False, False, False, False, False, False, False, False,\n",
       "                    False, False],\n",
       "        fill_value='?',\n",
       "             dtype=object),\n",
       " 'param_gamma': masked_array(data=[10, 1, 0.1, 0.01, 0.001, 10, 1, 0.1, 0.01, 0.001, 10,\n",
       "                    1, 0.1, 0.01, 0.001, 10, 1, 0.1, 0.01, 0.001, 10, 1,\n",
       "                    0.1, 0.01, 0.001, 10, 1, 0.1, 0.01, 0.001, 10, 1, 0.1,\n",
       "                    0.01, 0.001, --, --, --, --, --, --, --],\n",
       "              mask=[False, False, False, False, False, False, False, False,\n",
       "                    False, False, False, False, False, False, False, False,\n",
       "                    False, False, False, False, False, False, False, False,\n",
       "                    False, False, False, False, False, False, False, False,\n",
       "                    False, False, False,  True,  True,  True,  True,  True,\n",
       "                     True,  True],\n",
       "        fill_value='?',\n",
       "             dtype=object),\n",
       " 'param_kernel': masked_array(data=['rbf', 'rbf', 'rbf', 'rbf', 'rbf', 'rbf', 'rbf', 'rbf',\n",
       "                    'rbf', 'rbf', 'rbf', 'rbf', 'rbf', 'rbf', 'rbf', 'rbf',\n",
       "                    'rbf', 'rbf', 'rbf', 'rbf', 'rbf', 'rbf', 'rbf', 'rbf',\n",
       "                    'rbf', 'rbf', 'rbf', 'rbf', 'rbf', 'rbf', 'rbf', 'rbf',\n",
       "                    'rbf', 'rbf', 'rbf', 'linear', 'linear', 'linear',\n",
       "                    'linear', 'linear', 'linear', 'linear'],\n",
       "              mask=[False, False, False, False, False, False, False, False,\n",
       "                    False, False, False, False, False, False, False, False,\n",
       "                    False, False, False, False, False, False, False, False,\n",
       "                    False, False, False, False, False, False, False, False,\n",
       "                    False, False, False, False, False, False, False, False,\n",
       "                    False, False],\n",
       "        fill_value='?',\n",
       "             dtype=object),\n",
       " 'params': [{'C': 0.001, 'gamma': 10, 'kernel': 'rbf'},\n",
       "  {'C': 0.001, 'gamma': 1, 'kernel': 'rbf'},\n",
       "  {'C': 0.001, 'gamma': 0.1, 'kernel': 'rbf'},\n",
       "  {'C': 0.001, 'gamma': 0.01, 'kernel': 'rbf'},\n",
       "  {'C': 0.001, 'gamma': 0.001, 'kernel': 'rbf'},\n",
       "  {'C': 0.01, 'gamma': 10, 'kernel': 'rbf'},\n",
       "  {'C': 0.01, 'gamma': 1, 'kernel': 'rbf'},\n",
       "  {'C': 0.01, 'gamma': 0.1, 'kernel': 'rbf'},\n",
       "  {'C': 0.01, 'gamma': 0.01, 'kernel': 'rbf'},\n",
       "  {'C': 0.01, 'gamma': 0.001, 'kernel': 'rbf'},\n",
       "  {'C': 0.1, 'gamma': 10, 'kernel': 'rbf'},\n",
       "  {'C': 0.1, 'gamma': 1, 'kernel': 'rbf'},\n",
       "  {'C': 0.1, 'gamma': 0.1, 'kernel': 'rbf'},\n",
       "  {'C': 0.1, 'gamma': 0.01, 'kernel': 'rbf'},\n",
       "  {'C': 0.1, 'gamma': 0.001, 'kernel': 'rbf'},\n",
       "  {'C': 1, 'gamma': 10, 'kernel': 'rbf'},\n",
       "  {'C': 1, 'gamma': 1, 'kernel': 'rbf'},\n",
       "  {'C': 1, 'gamma': 0.1, 'kernel': 'rbf'},\n",
       "  {'C': 1, 'gamma': 0.01, 'kernel': 'rbf'},\n",
       "  {'C': 1, 'gamma': 0.001, 'kernel': 'rbf'},\n",
       "  {'C': 10, 'gamma': 10, 'kernel': 'rbf'},\n",
       "  {'C': 10, 'gamma': 1, 'kernel': 'rbf'},\n",
       "  {'C': 10, 'gamma': 0.1, 'kernel': 'rbf'},\n",
       "  {'C': 10, 'gamma': 0.01, 'kernel': 'rbf'},\n",
       "  {'C': 10, 'gamma': 0.001, 'kernel': 'rbf'},\n",
       "  {'C': 100, 'gamma': 10, 'kernel': 'rbf'},\n",
       "  {'C': 100, 'gamma': 1, 'kernel': 'rbf'},\n",
       "  {'C': 100, 'gamma': 0.1, 'kernel': 'rbf'},\n",
       "  {'C': 100, 'gamma': 0.01, 'kernel': 'rbf'},\n",
       "  {'C': 100, 'gamma': 0.001, 'kernel': 'rbf'},\n",
       "  {'C': 1000, 'gamma': 10, 'kernel': 'rbf'},\n",
       "  {'C': 1000, 'gamma': 1, 'kernel': 'rbf'},\n",
       "  {'C': 1000, 'gamma': 0.1, 'kernel': 'rbf'},\n",
       "  {'C': 1000, 'gamma': 0.01, 'kernel': 'rbf'},\n",
       "  {'C': 1000, 'gamma': 0.001, 'kernel': 'rbf'},\n",
       "  {'C': 0.001, 'kernel': 'linear'},\n",
       "  {'C': 0.01, 'kernel': 'linear'},\n",
       "  {'C': 0.1, 'kernel': 'linear'},\n",
       "  {'C': 1, 'kernel': 'linear'},\n",
       "  {'C': 10, 'kernel': 'linear'},\n",
       "  {'C': 100, 'kernel': 'linear'},\n",
       "  {'C': 1000, 'kernel': 'linear'}],\n",
       " 'split0_test_score': array([0.83041667, 0.83041667, 0.96783333, 0.97575   , 0.97991667,\n",
       "        0.83041667, 0.83041667, 0.9725    , 0.97566667, 0.98008333,\n",
       "        0.83041667, 0.95883333, 0.98208333, 0.98233333, 0.983     ,\n",
       "        0.83041667, 0.97333333, 0.98666667, 0.98458333, 0.98625   ,\n",
       "        0.83041667, 0.97391667, 0.986     , 0.98758333, 0.98708333,\n",
       "        0.83041667, 0.97391667, 0.98433333, 0.986     , 0.98716667,\n",
       "        0.83041667, 0.97391667, 0.98433333, 0.98416667, 0.98483333,\n",
       "        0.98783333, 0.98866667, 0.98883333, 0.98733333, 0.986     ,\n",
       "        0.98558333, 0.98425   ]),\n",
       " 'split1_test_score': array([0.83033333, 0.83033333, 0.9635    , 0.97133333, 0.97341667,\n",
       "        0.83033333, 0.83033333, 0.96833333, 0.97091667, 0.97275   ,\n",
       "        0.83033333, 0.95383333, 0.977     , 0.97975   , 0.97816667,\n",
       "        0.83033333, 0.96866667, 0.98275   , 0.982     , 0.9805    ,\n",
       "        0.83033333, 0.96833333, 0.98241667, 0.98475   , 0.98233333,\n",
       "        0.83033333, 0.96833333, 0.97858333, 0.98291667, 0.9845    ,\n",
       "        0.83033333, 0.96833333, 0.97858333, 0.979     , 0.98375   ,\n",
       "        0.98141667, 0.98183333, 0.98275   , 0.98316667, 0.98175   ,\n",
       "        0.98066667, 0.97808333]),\n",
       " 'split2_test_score': array([0.83033333, 0.83033333, 0.97316667, 0.9745    , 0.96516667,\n",
       "        0.83033333, 0.83033333, 0.97725   , 0.97208333, 0.96858333,\n",
       "        0.83033333, 0.95966667, 0.97441667, 0.974     , 0.972     ,\n",
       "        0.83033333, 0.96991667, 0.9765    , 0.97516667, 0.97483333,\n",
       "        0.83033333, 0.96883333, 0.97541667, 0.97791667, 0.97658333,\n",
       "        0.83033333, 0.96883333, 0.97458333, 0.97808333, 0.97825   ,\n",
       "        0.83033333, 0.96883333, 0.97458333, 0.97491667, 0.9775    ,\n",
       "        0.97425   , 0.9755    , 0.97783333, 0.97891667, 0.97816667,\n",
       "        0.97908333, 0.97708333]),\n",
       " 'split3_test_score': array([0.83033333, 0.83033333, 0.98033333, 0.97766667, 0.971     ,\n",
       "        0.83033333, 0.83033333, 0.98075   , 0.97808333, 0.97525   ,\n",
       "        0.83033333, 0.96766667, 0.98641667, 0.9875    , 0.98133333,\n",
       "        0.83033333, 0.97675   , 0.99091667, 0.98958333, 0.98775   ,\n",
       "        0.83033333, 0.97591667, 0.9915    , 0.99058333, 0.99058333,\n",
       "        0.83033333, 0.97591667, 0.98983333, 0.99025   , 0.991     ,\n",
       "        0.83033333, 0.97591667, 0.98983333, 0.9865    , 0.99041667,\n",
       "        0.98583333, 0.98858333, 0.99125   , 0.9915    , 0.99083333,\n",
       "        0.9905    , 0.98875   ]),\n",
       " 'split4_test_score': array([0.83033333, 0.83033333, 0.9745    , 0.97808333, 0.96916667,\n",
       "        0.83033333, 0.83033333, 0.9765    , 0.9795    , 0.97825   ,\n",
       "        0.83033333, 0.9545    , 0.98508333, 0.99058333, 0.98383333,\n",
       "        0.83033333, 0.96783333, 0.9905    , 0.99383333, 0.99233333,\n",
       "        0.83033333, 0.96766667, 0.98741667, 0.99358333, 0.99341667,\n",
       "        0.83033333, 0.96766667, 0.98616667, 0.99191667, 0.99375   ,\n",
       "        0.83033333, 0.96766667, 0.986     , 0.98908333, 0.99308333,\n",
       "        0.9915    , 0.99458333, 0.99491667, 0.99383333, 0.99283333,\n",
       "        0.99241667, 0.99216667]),\n",
       " 'mean_test_score': array([0.83035   , 0.83035   , 0.97186667, 0.97546667, 0.97173333,\n",
       "        0.83035   , 0.83035   , 0.97506667, 0.97525   , 0.97498333,\n",
       "        0.83035   , 0.9589    , 0.981     , 0.98283333, 0.97966667,\n",
       "        0.83035   , 0.9713    , 0.98546667, 0.98503333, 0.98433333,\n",
       "        0.83035   , 0.97093333, 0.98455   , 0.98688333, 0.986     ,\n",
       "        0.83035   , 0.97093333, 0.9827    , 0.98583333, 0.98693333,\n",
       "        0.83035   , 0.97093333, 0.98266667, 0.98273333, 0.98591667,\n",
       "        0.98416667, 0.98583333, 0.98711667, 0.98695   , 0.98591667,\n",
       "        0.98565   , 0.98406667]),\n",
       " 'std_test_score': array([3.33333333e-05, 3.33333333e-05, 5.77196289e-03, 2.44074215e-03,\n",
       "        4.89994331e-03, 3.33333333e-05, 3.33333333e-05, 4.26725256e-03,\n",
       "        3.31871796e-03, 4.06693988e-03, 3.33333333e-05, 4.94929849e-03,\n",
       "        4.61579414e-03, 5.82451715e-03, 4.29599297e-03, 3.33333333e-05,\n",
       "        3.30765106e-03, 5.37137475e-03, 6.40151892e-03, 6.07110643e-03,\n",
       "        3.33333333e-05, 3.33391662e-03, 5.41464065e-03, 5.36697722e-03,\n",
       "        5.98841474e-03, 3.33333333e-05, 3.33391662e-03, 5.44788440e-03,\n",
       "        5.00222173e-03, 5.37364970e-03, 3.33333333e-05, 3.33391662e-03,\n",
       "        5.42704135e-03, 5.13035628e-03, 5.44645654e-03, 5.93131988e-03,\n",
       "        6.55637942e-03, 6.10113833e-03, 5.42361093e-03, 5.46707316e-03,\n",
       "        5.23964587e-03, 5.86761356e-03]),\n",
       " 'rank_test_score': array([34, 34, 27, 23, 28, 34, 34, 25, 24, 26, 34, 33, 21, 17, 22, 34, 29,\n",
       "        11, 12, 14, 34, 30, 13,  4,  5, 34, 30, 19,  8,  3, 34, 30, 20, 18,\n",
       "         6, 15,  8,  1,  2,  6, 10, 16], dtype=int32)}"
      ]
     },
     "execution_count": 6,
     "metadata": {},
     "output_type": "execute_result"
    }
   ],
   "source": [
    "clf_svm.cv_results_"
   ]
  },
  {
   "cell_type": "code",
   "execution_count": 7,
   "metadata": {},
   "outputs": [
    {
     "data": {
      "text/plain": [
       "{'mean_fit_time': array([1.58912182e-02, 6.84639816e+00, 2.35994816e-02, 1.30620922e+01,\n",
       "        1.64420605e-02, 2.77854293e+01, 2.04696655e-02, 6.71616916e+01,\n",
       "        2.01087475e-02, 1.87313825e+02, 1.71240807e-02, 4.38079259e+02,\n",
       "        1.90940380e-02, 6.17325630e+02]),\n",
       " 'std_fit_time': array([2.09014582e-03, 6.54052778e-01, 2.34656578e-03, 1.30248156e+00,\n",
       "        1.84083623e-03, 3.18408718e+00, 2.12338905e-03, 6.90447632e+00,\n",
       "        1.65025148e-03, 1.92524157e+01, 3.85579578e-04, 2.50296347e+01,\n",
       "        5.65681658e-04, 6.91401559e+01]),\n",
       " 'mean_score_time': array([0.        , 0.01813335, 0.        , 0.01793513, 0.        ,\n",
       "        0.01581621, 0.        , 0.01710491, 0.        , 0.02146401,\n",
       "        0.        , 0.01705952, 0.        , 0.00933237]),\n",
       " 'std_score_time': array([0.        , 0.0017117 , 0.        , 0.00059652, 0.        ,\n",
       "        0.0005235 , 0.        , 0.00126135, 0.        , 0.00527292,\n",
       "        0.        , 0.00286339, 0.        , 0.00106287]),\n",
       " 'param_C': masked_array(data=[0.001, 0.001, 0.01, 0.01, 0.1, 0.1, 1, 1, 10, 10, 100,\n",
       "                    100, 1000, 1000],\n",
       "              mask=[False, False, False, False, False, False, False, False,\n",
       "                    False, False, False, False, False, False],\n",
       "        fill_value='?',\n",
       "             dtype=object),\n",
       " 'param_penalty': masked_array(data=['l1', 'l2', 'l1', 'l2', 'l1', 'l2', 'l1', 'l2', 'l1',\n",
       "                    'l2', 'l1', 'l2', 'l1', 'l2'],\n",
       "              mask=[False, False, False, False, False, False, False, False,\n",
       "                    False, False, False, False, False, False],\n",
       "        fill_value='?',\n",
       "             dtype=object),\n",
       " 'params': [{'C': 0.001, 'penalty': 'l1'},\n",
       "  {'C': 0.001, 'penalty': 'l2'},\n",
       "  {'C': 0.01, 'penalty': 'l1'},\n",
       "  {'C': 0.01, 'penalty': 'l2'},\n",
       "  {'C': 0.1, 'penalty': 'l1'},\n",
       "  {'C': 0.1, 'penalty': 'l2'},\n",
       "  {'C': 1, 'penalty': 'l1'},\n",
       "  {'C': 1, 'penalty': 'l2'},\n",
       "  {'C': 10, 'penalty': 'l1'},\n",
       "  {'C': 10, 'penalty': 'l2'},\n",
       "  {'C': 100, 'penalty': 'l1'},\n",
       "  {'C': 100, 'penalty': 'l2'},\n",
       "  {'C': 1000, 'penalty': 'l1'},\n",
       "  {'C': 1000, 'penalty': 'l2'}],\n",
       " 'split0_test_score': array([       nan, 0.9885    ,        nan, 0.98916667,        nan,\n",
       "        0.98891667,        nan, 0.98833333,        nan, 0.98758333,\n",
       "               nan, 0.98633333,        nan, 0.986     ]),\n",
       " 'split1_test_score': array([       nan, 0.98108333,        nan, 0.98041667,        nan,\n",
       "        0.98066667,        nan, 0.98158333,        nan, 0.98166667,\n",
       "               nan, 0.98133333,        nan, 0.98016667]),\n",
       " 'split2_test_score': array([       nan, 0.97175   ,        nan, 0.97475   ,        nan,\n",
       "        0.978     ,        nan, 0.979     ,        nan, 0.97916667,\n",
       "               nan, 0.979     ,        nan, 0.97758333]),\n",
       " 'split3_test_score': array([       nan, 0.985     ,        nan, 0.98766667,        nan,\n",
       "        0.99008333,        nan, 0.991     ,        nan, 0.99116667,\n",
       "               nan, 0.99091667,        nan, 0.98991667]),\n",
       " 'split4_test_score': array([       nan, 0.98908333,        nan, 0.99358333,        nan,\n",
       "        0.99475   ,        nan, 0.99425   ,        nan, 0.99325   ,\n",
       "               nan, 0.99341667,        nan, 0.99275   ]),\n",
       " 'mean_test_score': array([       nan, 0.98308333,        nan, 0.98511667,        nan,\n",
       "        0.98648333,        nan, 0.98683333,        nan, 0.98656667,\n",
       "               nan, 0.9862    ,        nan, 0.98528333]),\n",
       " 'std_test_score': array([       nan, 0.00634757,        nan, 0.00669548,        nan,\n",
       "        0.0062132 ,        nan, 0.00571912,        nan, 0.00539686,\n",
       "               nan, 0.00547484,        nan, 0.00571319]),\n",
       " 'rank_test_score': array([ 8,  7,  9,  6, 10,  3, 11,  1, 12,  2, 13,  4, 14,  5],\n",
       "       dtype=int32)}"
      ]
     },
     "execution_count": 7,
     "metadata": {},
     "output_type": "execute_result"
    }
   ],
   "source": [
    "clf_lr.cv_results_"
   ]
  },
  {
   "cell_type": "markdown",
   "metadata": {},
   "source": [
    "## See the SVM_LR_SummaryOfParameterSearch.ipynb script for the results"
   ]
  },
  {
   "cell_type": "code",
   "execution_count": 11,
   "metadata": {},
   "outputs": [
    {
     "data": {
      "text/plain": [
       "array([0.83035   , 0.83035   , 0.97186667, 0.97546667, 0.97173333,\n",
       "       0.83035   , 0.83035   , 0.97506667, 0.97525   , 0.97498333,\n",
       "       0.83035   , 0.9589    , 0.981     , 0.98283333, 0.97966667,\n",
       "       0.83035   , 0.9713    , 0.98546667, 0.98503333, 0.98433333,\n",
       "       0.83035   , 0.97093333, 0.98455   , 0.98688333, 0.986     ,\n",
       "       0.83035   , 0.97093333, 0.9827    , 0.98583333, 0.98693333,\n",
       "       0.83035   , 0.97093333, 0.98266667, 0.98273333, 0.98591667,\n",
       "       0.98416667, 0.98583333, 0.98711667, 0.98695   , 0.98591667,\n",
       "       0.98565   , 0.98406667])"
      ]
     },
     "execution_count": 11,
     "metadata": {},
     "output_type": "execute_result"
    }
   ],
   "source": [
    "clf_svm.cv_results_['mean_test_score']"
   ]
  }
 ],
 "metadata": {
  "kernelspec": {
   "display_name": "Python 3",
   "language": "python",
   "name": "python3"
  },
  "language_info": {
   "codemirror_mode": {
    "name": "ipython",
    "version": 3
   },
   "file_extension": ".py",
   "mimetype": "text/x-python",
   "name": "python",
   "nbconvert_exporter": "python",
   "pygments_lexer": "ipython3",
   "version": "3.6.9"
  }
 },
 "nbformat": 4,
 "nbformat_minor": 4
}
